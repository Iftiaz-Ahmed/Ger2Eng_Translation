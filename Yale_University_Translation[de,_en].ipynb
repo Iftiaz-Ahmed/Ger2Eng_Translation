{
  "nbformat": 4,
  "nbformat_minor": 0,
  "metadata": {
    "colab": {
      "provenance": []
    },
    "kernelspec": {
      "name": "python3",
      "display_name": "Python 3"
    },
    "language_info": {
      "name": "python"
    }
  },
  "cells": [
    {
      "cell_type": "code",
      "source": [
        "import torch\n",
        "import torch.nn as nn\n",
        "import torch.optim as optim\n",
        "\n",
        "import torchtext\n",
        "from torch.utils.data import DataLoader, random_split\n",
        "from torchtext.legacy.data import Field, BucketIterator, Dataset, Example, TabularDataset\n",
        "\n",
        "import matplotlib.pyplot as plt\n",
        "import matplotlib.ticker as ticker\n",
        "\n",
        "import spacy\n",
        "import numpy as np\n",
        "import pandas as pd"
      ],
      "metadata": {
        "id": "6sku0_bXRmLx"
      },
      "execution_count": 16,
      "outputs": []
    },
    {
      "cell_type": "code",
      "source": [
        "from google.colab import drive\n",
        "drive.mount('/content/drive')"
      ],
      "metadata": {
        "colab": {
          "base_uri": "https://localhost:8080/"
        },
        "id": "jo0UkSfEXkd3",
        "outputId": "28455fbc-4985-4fc8-fea4-8c7432d6b322"
      },
      "execution_count": 2,
      "outputs": [
        {
          "output_type": "stream",
          "name": "stdout",
          "text": [
            "Drive already mounted at /content/drive; to attempt to forcibly remount, call drive.mount(\"/content/drive\", force_remount=True).\n"
          ]
        }
      ]
    },
    {
      "cell_type": "code",
      "source": [
        "class TranslationDataset:\n",
        "  def __init__(self, filepath):\n",
        "    self.spacy_en = spacy.load('en_core_web_sm')\n",
        "    self.spacy_de = spacy.load('de_core_news_sm')\n",
        "    self.SRC = Field(tokenize=self.tokenize_de, \n",
        "                init_token='<sos>', \n",
        "                eos_token='<eos>', \n",
        "                lower=True, \n",
        "                batch_first=True)\n",
        "\n",
        "    self.TRG = Field(tokenize=self.tokenize_en, \n",
        "                init_token='<sos>', \n",
        "                eos_token='<eos>', \n",
        "                lower=True, \n",
        "                batch_first=True)\n",
        "    self.dataset = TabularDataset(\n",
        "        path=filepath, format='tsv',\n",
        "        fields=[('de', self.SRC), ('en', self.TRG)]\n",
        "    )\n",
        "    \n",
        "  def __len__(self):\n",
        "    length = len(self.dataset)\n",
        "    return length\n",
        "\n",
        "  def tokenize_de(self, text):\n",
        "    return [tok.text for tok in self.spacy_de.tokenizer(text)]\n",
        "\n",
        "  def tokenize_en(self, text):\n",
        "    return [tok.text for tok in self.spacy_en.tokenizer(text)]\n",
        "  \n",
        "  def __getitem__(self, idx):\n",
        "    en = self.dataset[idx].en\n",
        "    de = self.dataset[idx].de\n",
        "    return de, en\n",
        "\n",
        "  def createDataset(self, batch_size=32):\n",
        "    train_data, valid_data, test_data = self.dataset.split(split_ratio=[0.8, 0.1, 0.1])\n",
        "    self.SRC.build_vocab(train_data, min_freq = 3)\n",
        "    self.TRG.build_vocab(train_data, min_freq = 3)\n",
        "\n",
        "    device = torch.device('cuda' if torch.cuda.is_available() else 'cpu')\n",
        "    self.train_iterator, self.valid_iterator, self.test_iterator = BucketIterator.splits((train_data, valid_data, test_data), batch_size=batch_size, device=device)\n",
        "\n",
        "    return  self.train_iterator, self.valid_iterator, self.test_iterator\n"
      ],
      "metadata": {
        "id": "0qCTZRP7kItH"
      },
      "execution_count": 66,
      "outputs": []
    },
    {
      "cell_type": "code",
      "source": [
        "dataset = TranslationDataset('/content/drive/MyDrive/cleaned_dataset.tsv')"
      ],
      "metadata": {
        "id": "oD1RhkiCXe3E"
      },
      "execution_count": 67,
      "outputs": []
    },
    {
      "cell_type": "code",
      "source": [
        "dataset.createDataset()"
      ],
      "metadata": {
        "colab": {
          "base_uri": "https://localhost:8080/"
        },
        "id": "SEawFpYkXsQR",
        "outputId": "64f6cfb2-3f22-44e0-f247-ba52fe000d21"
      },
      "execution_count": 68,
      "outputs": [
        {
          "output_type": "execute_result",
          "data": {
            "text/plain": [
              "(<torchtext.legacy.data.iterator.BucketIterator at 0x7f08f1ef4a90>,\n",
              " <torchtext.legacy.data.iterator.BucketIterator at 0x7f0925167910>,\n",
              " <torchtext.legacy.data.iterator.BucketIterator at 0x7f08ebaaffa0>)"
            ]
          },
          "metadata": {},
          "execution_count": 68
        }
      ]
    },
    {
      "cell_type": "code",
      "source": [
        "dataset[20]"
      ],
      "metadata": {
        "colab": {
          "base_uri": "https://localhost:8080/"
        },
        "id": "2kBouTr6z94a",
        "outputId": "daaf0aad-30b1-49d2-a89c-22e78969b0d1"
      },
      "execution_count": 69,
      "outputs": [
        {
          "output_type": "execute_result",
          "data": {
            "text/plain": [
              "(['the',\n",
              "  'school',\n",
              "  'of',\n",
              "  'the',\n",
              "  'environment',\n",
              "  'is',\n",
              "  'dedicated',\n",
              "  'to',\n",
              "  'sustaining',\n",
              "  'and',\n",
              "  'restoring',\n",
              "  'the',\n",
              "  'long-term',\n",
              "  'health',\n",
              "  'of',\n",
              "  'the',\n",
              "  'biosphere',\n",
              "  'and',\n",
              "  'the',\n",
              "  'well-being',\n",
              "  'of',\n",
              "  'its',\n",
              "  'people',\n",
              "  '.'],\n",
              " ['die',\n",
              "  'umweltschule',\n",
              "  'widmet',\n",
              "  'sich',\n",
              "  'der',\n",
              "  'aufrechterhaltung',\n",
              "  'und',\n",
              "  'wiederherstellung',\n",
              "  'der',\n",
              "  'langfristigen',\n",
              "  'gesundheit',\n",
              "  'der',\n",
              "  'biosphäre',\n",
              "  'und',\n",
              "  'des',\n",
              "  'wohlbefindens',\n",
              "  'ihrer',\n",
              "  'bevölkerung',\n",
              "  '.'])"
            ]
          },
          "metadata": {},
          "execution_count": 69
        }
      ]
    }
  ]
}