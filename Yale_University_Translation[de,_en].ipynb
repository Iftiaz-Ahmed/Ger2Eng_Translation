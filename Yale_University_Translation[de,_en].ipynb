{
  "nbformat": 4,
  "nbformat_minor": 0,
  "metadata": {
    "colab": {
      "provenance": [],
      "toc_visible": true
    },
    "kernelspec": {
      "name": "python3",
      "display_name": "Python 3"
    },
    "language_info": {
      "name": "python"
    },
    "accelerator": "TPU",
    "gpuClass": "standard"
  },
  "cells": [
    {
      "cell_type": "code",
      "source": [
        "# !pip uninstall torch -y\n",
        "# !pip uninstall torchtext -y\n",
        "# !pip install torch==1.10.1+cu111 torchvision==0.11.2+cu111 torchaudio===0.10.1+cu111 -f https://download.pytorch.org/whl/cu111/torch_stable.html\n",
        "# !pip install torchtext==0.9.0"
      ],
      "metadata": {
        "id": "-0--_9yGFGLk"
      },
      "execution_count": 733,
      "outputs": []
    },
    {
      "cell_type": "code",
      "source": [
        "# !python -m spacy download de_core_news_sm"
      ],
      "metadata": {
        "id": "YbZfGEd3GYiX"
      },
      "execution_count": 734,
      "outputs": []
    },
    {
      "cell_type": "code",
      "source": [
        "# exit()"
      ],
      "metadata": {
        "id": "Ag_V0bASF_sV"
      },
      "execution_count": 735,
      "outputs": []
    },
    {
      "cell_type": "markdown",
      "source": [
        "# **Preparing the Data**"
      ],
      "metadata": {
        "id": "5iUZYrPgG3pm"
      }
    },
    {
      "cell_type": "code",
      "source": [
        "import torch\n",
        "import torch.nn as nn\n",
        "import torch.optim as optim\n",
        "\n",
        "import torchtext\n",
        "from torch.utils.data import DataLoader, random_split\n",
        "from torchtext.legacy.datasets import Multi30k\n",
        "from torchtext.legacy.data import Field, BucketIterator, Dataset, Example, TabularDataset\n",
        "\n",
        "import matplotlib.pyplot as plt\n",
        "import matplotlib.ticker as ticker\n",
        "\n",
        "import spacy\n",
        "import numpy as np\n",
        "import pandas as pd"
      ],
      "metadata": {
        "id": "6sku0_bXRmLx"
      },
      "execution_count": 736,
      "outputs": []
    },
    {
      "cell_type": "code",
      "source": [
        "from google.colab import drive\n",
        "drive.mount('/content/drive')"
      ],
      "metadata": {
        "colab": {
          "base_uri": "https://localhost:8080/"
        },
        "id": "jo0UkSfEXkd3",
        "outputId": "9590ca69-0532-4830-fb69-a7b6bee7d013"
      },
      "execution_count": 737,
      "outputs": [
        {
          "output_type": "stream",
          "name": "stdout",
          "text": [
            "Drive already mounted at /content/drive; to attempt to forcibly remount, call drive.mount(\"/content/drive\", force_remount=True).\n"
          ]
        }
      ]
    },
    {
      "cell_type": "code",
      "source": [
        "device = torch.device('cuda' if torch.cuda.is_available() else 'cpu')"
      ],
      "metadata": {
        "id": "-q2DBw9cLBLX"
      },
      "execution_count": 738,
      "outputs": []
    },
    {
      "cell_type": "code",
      "source": [
        "class TranslationDataset:\n",
        "  def __init__(self, filepath):\n",
        "    self.spacy_en = spacy.load('en_core_web_sm')\n",
        "    self.spacy_de = spacy.load('de_core_news_sm')\n",
        "    self.SRC = Field(tokenize=self.tokenize_de, \n",
        "                init_token='<sos>', \n",
        "                eos_token='<eos>', \n",
        "                lower=True, \n",
        "                batch_first=True)\n",
        "    self.TRG = Field(tokenize=self.tokenize_en, \n",
        "                init_token='<sos>', \n",
        "                eos_token='<eos>', \n",
        "                lower=True, \n",
        "                batch_first=True)\n",
        "    self.dataset = TabularDataset(\n",
        "        path=filepath, format='tsv', skip_header=True,\n",
        "        fields=[('trg', self.TRG), ('src', self.SRC)]\n",
        "    )\n",
        "    \n",
        "  def __len__(self):\n",
        "    length = len(self.dataset)\n",
        "    return length\n",
        "\n",
        "  def tokenize_de(self, text):\n",
        "    tokens = [tok.text for tok in self.spacy_de.tokenizer(text)]\n",
        "    if not tokens:\n",
        "        return []\n",
        "    return tokens\n",
        "\n",
        "  def tokenize_en(self, text):\n",
        "    tokens = [tok.text for tok in self.spacy_en.tokenizer(text)]\n",
        "    if not tokens:\n",
        "        return []\n",
        "    return tokens\n",
        "  \n",
        "  def __getitem__(self, idx):\n",
        "    en = self.dataset[idx].trg\n",
        "    de = self.dataset[idx].src\n",
        "    return de, en\n",
        "\n",
        "  def splitDataset(self, batch_size=32):\n",
        "    train_data, valid_data, test_data = self.dataset.split(split_ratio=[0.8, 0.1, 0.1])\n",
        "    return train_data, valid_data, test_data\n",
        "  \n",
        "  def buildVocab(self, data):\n",
        "    self.SRC.build_vocab(train_data, min_freq = 2)\n",
        "    self.TRG.build_vocab(train_data, min_freq = 2)\n",
        "  \n",
        "  def setIterator(self, train_data, valid_data, test_data, batch_size=32):\n",
        "    train_iterator, valid_iterator, test_iterator = BucketIterator.splits((train_data, valid_data, test_data), \n",
        "                                                      batch_size=batch_size,\n",
        "                                                      device=device,\n",
        "                                                      sort_key=lambda x: len(x.src),\n",
        "                                                      sort_within_batch=True,\n",
        "                                                    )\n",
        "    return train_iterator, valid_iterator, test_iterator\n",
        "\n",
        "  \n",
        "  def getSrcTrg(self):\n",
        "    return self.SRC, self.TRG\n"
      ],
      "metadata": {
        "id": "0qCTZRP7kItH"
      },
      "execution_count": 739,
      "outputs": []
    },
    {
      "cell_type": "code",
      "source": [
        "BATCH_SIZE = 128"
      ],
      "metadata": {
        "id": "kfHVZMO99mwJ"
      },
      "execution_count": 740,
      "outputs": []
    },
    {
      "cell_type": "code",
      "source": [
        "dataset = TranslationDataset('/content/drive/MyDrive/filtered_dataset2.tsv')"
      ],
      "metadata": {
        "id": "oD1RhkiCXe3E"
      },
      "execution_count": 741,
      "outputs": []
    },
    {
      "cell_type": "code",
      "source": [
        "len(dataset)"
      ],
      "metadata": {
        "colab": {
          "base_uri": "https://localhost:8080/"
        },
        "id": "3JYr3szOJ8tK",
        "outputId": "dbc83538-f43c-4877-dc4d-b6f4bd5be339"
      },
      "execution_count": 742,
      "outputs": [
        {
          "output_type": "execute_result",
          "data": {
            "text/plain": [
              "261"
            ]
          },
          "metadata": {},
          "execution_count": 742
        }
      ]
    },
    {
      "cell_type": "code",
      "source": [
        "dataset[8]"
      ],
      "metadata": {
        "id": "P2bwSc_6OGSz",
        "colab": {
          "base_uri": "https://localhost:8080/"
        },
        "outputId": "c6f7d4b7-d36d-4f1c-c121-f79c582442b8"
      },
      "execution_count": 743,
      "outputs": [
        {
          "output_type": "execute_result",
          "data": {
            "text/plain": [
              "(['umweltschule'], ['school', 'of', 'the', 'environment'])"
            ]
          },
          "metadata": {},
          "execution_count": 743
        }
      ]
    },
    {
      "cell_type": "code",
      "source": [
        "train_data, valid_data, test_data = dataset.splitDataset(BATCH_SIZE)"
      ],
      "metadata": {
        "id": "SEawFpYkXsQR"
      },
      "execution_count": 744,
      "outputs": []
    },
    {
      "cell_type": "code",
      "source": [
        "dataset.buildVocab(train_data)"
      ],
      "metadata": {
        "id": "lHTfyHcloilB"
      },
      "execution_count": 745,
      "outputs": []
    },
    {
      "cell_type": "code",
      "source": [
        "train_iterator, valid_iterator, test_iterator = dataset.setIterator(train_data, valid_data, test_data, BATCH_SIZE)"
      ],
      "metadata": {
        "id": "-h4Yq1rDorv7"
      },
      "execution_count": 746,
      "outputs": []
    },
    {
      "cell_type": "code",
      "source": [
        "SRC, TRG = dataset.getSrcTrg()"
      ],
      "metadata": {
        "id": "2kBouTr6z94a"
      },
      "execution_count": 747,
      "outputs": []
    },
    {
      "cell_type": "code",
      "source": [
        "for batch in train_iterator:\n",
        "    print(batch)\n",
        "    break"
      ],
      "metadata": {
        "colab": {
          "base_uri": "https://localhost:8080/"
        },
        "id": "zq_UT0zxY4C4",
        "outputId": "ca407b21-a57c-431c-bb01-532be1826f32"
      },
      "execution_count": 748,
      "outputs": [
        {
          "output_type": "stream",
          "name": "stdout",
          "text": [
            "\n",
            "[torchtext.legacy.data.batch.Batch of size 128]\n",
            "\t[.trg]:[torch.LongTensor of size 128x11]\n",
            "\t[.src]:[torch.LongTensor of size 128x9]\n"
          ]
        }
      ]
    },
    {
      "cell_type": "markdown",
      "source": [
        "# **Building the Model**"
      ],
      "metadata": {
        "id": "2wHHDdfpGrdF"
      }
    },
    {
      "cell_type": "markdown",
      "source": [
        "**Encoder**"
      ],
      "metadata": {
        "id": "SM-QVlpoIY4r"
      }
    },
    {
      "cell_type": "code",
      "source": [
        "class Encoder(nn.Module):\n",
        "    def __init__(self, \n",
        "                 input_dim, \n",
        "                 hid_dim, \n",
        "                 n_layers, \n",
        "                 n_heads, \n",
        "                 pf_dim,\n",
        "                 dropout, \n",
        "                 device,\n",
        "                 max_length = 100):\n",
        "        super().__init__()\n",
        "\n",
        "        self.device = device\n",
        "        \n",
        "        self.tok_embedding = nn.Embedding(input_dim, hid_dim)\n",
        "        self.pos_embedding = nn.Embedding(max_length, hid_dim)\n",
        "        \n",
        "        self.layers = nn.ModuleList([EncoderLayer(hid_dim, \n",
        "                                                  n_heads, \n",
        "                                                  pf_dim,\n",
        "                                                  dropout, \n",
        "                                                  device) \n",
        "                                     for _ in range(n_layers)])\n",
        "        \n",
        "        self.dropout = nn.Dropout(dropout)\n",
        "        self.scale = torch.sqrt(torch.FloatTensor([hid_dim])).to(device)\n",
        "        \n",
        "    def forward(self, src, src_mask):\n",
        "        #src = [batch size, src len]\n",
        "        #src_mask = [batch size, 1, 1, src len]\n",
        "        batch_size = src.shape[0]\n",
        "        src_len = src.shape[1]\n",
        "        \n",
        "        pos = torch.arange(0, src_len).unsqueeze(0).repeat(batch_size, 1).to(self.device)\n",
        "        #pos = [batch size, src len]\n",
        "        \n",
        "        src = self.dropout((self.tok_embedding(src) * self.scale) + self.pos_embedding(pos))  \n",
        "        #src = [batch size, src len, hid dim]\n",
        "        \n",
        "        for layer in self.layers:\n",
        "            src = layer(src, src_mask)\n",
        "            \n",
        "        #src = [batch size, src len, hid dim]\n",
        "            \n",
        "        return src"
      ],
      "metadata": {
        "id": "_rPy7y-OHFrD"
      },
      "execution_count": 749,
      "outputs": []
    },
    {
      "cell_type": "code",
      "source": [
        "class EncoderLayer(nn.Module):\n",
        "    def __init__(self, \n",
        "                 hid_dim, \n",
        "                 n_heads, \n",
        "                 pf_dim,  \n",
        "                 dropout, \n",
        "                 device):\n",
        "        super().__init__()\n",
        "        \n",
        "        self.self_attn_layer_norm = nn.LayerNorm(hid_dim)\n",
        "        self.ff_layer_norm = nn.LayerNorm(hid_dim)\n",
        "        self.self_attention = MultiHeadAttentionLayer(hid_dim, n_heads, dropout, device)\n",
        "        self.positionwise_feedforward = PositionwiseFeedforwardLayer(hid_dim, \n",
        "                                                                     pf_dim, \n",
        "                                                                     dropout)\n",
        "        self.dropout = nn.Dropout(dropout)\n",
        "        \n",
        "    def forward(self, src, src_mask):\n",
        "        #src = [batch size, src len, hid dim]\n",
        "        #src_mask = [batch size, 1, 1, src len] \n",
        "                \n",
        "        #self attention\n",
        "        _src, _ = self.self_attention(src, src, src, src_mask)\n",
        "        \n",
        "        #dropout, residual connection and layer norm\n",
        "        src = self.self_attn_layer_norm(src + self.dropout(_src))\n",
        "        \n",
        "        #src = [batch size, src len, hid dim]\n",
        "        \n",
        "        #positionwise feedforward\n",
        "        _src = self.positionwise_feedforward(src)\n",
        "        \n",
        "        #dropout, residual and layer norm\n",
        "        src = self.ff_layer_norm(src + self.dropout(_src))\n",
        "        \n",
        "        #src = [batch size, src len, hid dim]\n",
        "        \n",
        "        return src"
      ],
      "metadata": {
        "id": "RpuVkkTQHXfP"
      },
      "execution_count": 750,
      "outputs": []
    },
    {
      "cell_type": "code",
      "source": [
        "class MultiHeadAttentionLayer(nn.Module):\n",
        "    def __init__(self, hid_dim, n_heads, dropout, device):\n",
        "        super().__init__()\n",
        "        \n",
        "        assert hid_dim % n_heads == 0\n",
        "        \n",
        "        self.hid_dim = hid_dim\n",
        "        self.n_heads = n_heads\n",
        "        self.head_dim = hid_dim // n_heads\n",
        "        \n",
        "        self.fc_q = nn.Linear(hid_dim, hid_dim)\n",
        "        self.fc_k = nn.Linear(hid_dim, hid_dim)\n",
        "        self.fc_v = nn.Linear(hid_dim, hid_dim)\n",
        "        \n",
        "        self.fc_o = nn.Linear(hid_dim, hid_dim)\n",
        "        \n",
        "        self.dropout = nn.Dropout(dropout)\n",
        "        \n",
        "        self.scale = torch.sqrt(torch.FloatTensor([self.head_dim])).to(device)\n",
        "        \n",
        "    def forward(self, query, key, value, mask = None):\n",
        "        batch_size = query.shape[0]\n",
        "        #query = [batch size, query len, hid dim]\n",
        "        #key = [batch size, key len, hid dim]\n",
        "        #value = [batch size, value len, hid dim]\n",
        "                \n",
        "        Q = self.fc_q(query)\n",
        "        K = self.fc_k(key)\n",
        "        V = self.fc_v(value)\n",
        "        \n",
        "        #Q = [batch size, query len, hid dim]\n",
        "        #K = [batch size, key len, hid dim]\n",
        "        #V = [batch size, value len, hid dim]\n",
        "                \n",
        "        Q = Q.view(batch_size, -1, self.n_heads, self.head_dim).permute(0, 2, 1, 3)\n",
        "        K = K.view(batch_size, -1, self.n_heads, self.head_dim).permute(0, 2, 1, 3)\n",
        "        V = V.view(batch_size, -1, self.n_heads, self.head_dim).permute(0, 2, 1, 3)\n",
        "        \n",
        "        #Q = [batch size, n heads, query len, head dim]\n",
        "        #K = [batch size, n heads, key len, head dim]\n",
        "        #V = [batch size, n heads, value len, head dim]\n",
        "                \n",
        "        energy = torch.matmul(Q, K.permute(0, 1, 3, 2)) / self.scale\n",
        "        \n",
        "        #energy = [batch size, n heads, query len, key len]\n",
        "\n",
        "        if mask is not None:\n",
        "            energy = energy.masked_fill(mask == 0, -1e10)\n",
        "        \n",
        "        attention = torch.softmax(energy, dim = -1)\n",
        "        #attention = [batch size, n heads, query len, key len]\n",
        "                \n",
        "        x = torch.matmul(self.dropout(attention), V)\n",
        "        #x = [batch size, n heads, query len, head dim]\n",
        "        \n",
        "        x = x.permute(0, 2, 1, 3).contiguous()\n",
        "        \n",
        "        #x = [batch size, query len, n heads, head dim]\n",
        "        \n",
        "        x = x.view(batch_size, -1, self.hid_dim)\n",
        "        \n",
        "        #x = [batch size, query len, hid dim]\n",
        "        \n",
        "        x = self.fc_o(x)\n",
        "        \n",
        "        #x = [batch size, query len, hid dim]\n",
        "        \n",
        "        return x, attention"
      ],
      "metadata": {
        "id": "5aXcleHAHaPy"
      },
      "execution_count": 751,
      "outputs": []
    },
    {
      "cell_type": "code",
      "source": [
        "class PositionwiseFeedforwardLayer(nn.Module):\n",
        "    def __init__(self, hid_dim, pf_dim, dropout):\n",
        "        super().__init__()\n",
        "        \n",
        "        self.fc_1 = nn.Linear(hid_dim, pf_dim)\n",
        "        self.fc_2 = nn.Linear(pf_dim, hid_dim)\n",
        "        \n",
        "        self.dropout = nn.Dropout(dropout)\n",
        "        \n",
        "    def forward(self, x):\n",
        "        \n",
        "        #x = [batch size, seq len, hid dim]\n",
        "        \n",
        "        x = self.dropout(torch.relu(self.fc_1(x)))\n",
        "        \n",
        "        #x = [batch size, seq len, pf dim]\n",
        "        \n",
        "        x = self.fc_2(x)\n",
        "        \n",
        "        #x = [batch size, seq len, hid dim]\n",
        "        \n",
        "        return x"
      ],
      "metadata": {
        "id": "r1QEQ3OVHn03"
      },
      "execution_count": 752,
      "outputs": []
    },
    {
      "cell_type": "markdown",
      "source": [
        "**Decoder**"
      ],
      "metadata": {
        "id": "CJvj3Al-Idvn"
      }
    },
    {
      "cell_type": "code",
      "source": [
        "class Decoder(nn.Module):\n",
        "    def __init__(self, \n",
        "                 output_dim, \n",
        "                 hid_dim, \n",
        "                 n_layers, \n",
        "                 n_heads, \n",
        "                 pf_dim, \n",
        "                 dropout, \n",
        "                 device,\n",
        "                 max_length = 100):\n",
        "        super().__init__()\n",
        "        \n",
        "        self.device = device\n",
        "        \n",
        "        self.tok_embedding = nn.Embedding(output_dim, hid_dim)\n",
        "        self.pos_embedding = nn.Embedding(max_length, hid_dim)\n",
        "        \n",
        "        self.layers = nn.ModuleList([DecoderLayer(hid_dim, \n",
        "                                                  n_heads, \n",
        "                                                  pf_dim, \n",
        "                                                  dropout, \n",
        "                                                  device)\n",
        "                                     for _ in range(n_layers)])\n",
        "        \n",
        "        self.fc_out = nn.Linear(hid_dim, output_dim)\n",
        "        \n",
        "        self.dropout = nn.Dropout(dropout)\n",
        "        \n",
        "        self.scale = torch.sqrt(torch.FloatTensor([hid_dim])).to(device)\n",
        "        \n",
        "    def forward(self, trg, enc_src, trg_mask, src_mask):\n",
        "        \n",
        "        #trg = [batch size, trg len]\n",
        "        #enc_src = [batch size, src len, hid dim]\n",
        "        #trg_mask = [batch size, 1, trg len, trg len]\n",
        "        #src_mask = [batch size, 1, 1, src len]\n",
        "                \n",
        "        batch_size = trg.shape[0]\n",
        "        trg_len = trg.shape[1]\n",
        "        \n",
        "        pos = torch.arange(0, trg_len).unsqueeze(0).repeat(batch_size, 1).to(self.device)\n",
        "                            \n",
        "        #pos = [batch size, trg len]\n",
        "            \n",
        "        trg = self.dropout((self.tok_embedding(trg) * self.scale) + self.pos_embedding(pos))\n",
        "                \n",
        "        #trg = [batch size, trg len, hid dim]\n",
        "        \n",
        "        for layer in self.layers:\n",
        "            trg, attention = layer(trg, enc_src, trg_mask, src_mask)\n",
        "        \n",
        "        #trg = [batch size, trg len, hid dim]\n",
        "        #attention = [batch size, n heads, trg len, src len]\n",
        "        \n",
        "        output = self.fc_out(trg)\n",
        "        \n",
        "        #output = [batch size, trg len, output dim]\n",
        "            \n",
        "        return output, attention"
      ],
      "metadata": {
        "id": "e4owmFQbIf93"
      },
      "execution_count": 753,
      "outputs": []
    },
    {
      "cell_type": "code",
      "source": [
        "class DecoderLayer(nn.Module):\n",
        "    def __init__(self, \n",
        "                 hid_dim, \n",
        "                 n_heads, \n",
        "                 pf_dim, \n",
        "                 dropout, \n",
        "                 device):\n",
        "        super().__init__()\n",
        "        \n",
        "        self.self_attn_layer_norm = nn.LayerNorm(hid_dim)\n",
        "        self.enc_attn_layer_norm = nn.LayerNorm(hid_dim)\n",
        "        self.ff_layer_norm = nn.LayerNorm(hid_dim)\n",
        "        self.self_attention = MultiHeadAttentionLayer(hid_dim, n_heads, dropout, device)\n",
        "        self.encoder_attention = MultiHeadAttentionLayer(hid_dim, n_heads, dropout, device)\n",
        "        self.positionwise_feedforward = PositionwiseFeedforwardLayer(hid_dim, \n",
        "                                                                     pf_dim, \n",
        "                                                                     dropout)\n",
        "        self.dropout = nn.Dropout(dropout)\n",
        "        \n",
        "    def forward(self, trg, enc_src, trg_mask, src_mask):\n",
        "        \n",
        "        #trg = [batch size, trg len, hid dim]\n",
        "        #enc_src = [batch size, src len, hid dim]\n",
        "        #trg_mask = [batch size, 1, trg len, trg len]\n",
        "        #src_mask = [batch size, 1, 1, src len]\n",
        "        \n",
        "        #self attention\n",
        "        _trg, _ = self.self_attention(trg, trg, trg, trg_mask)\n",
        "        \n",
        "        #dropout, residual connection and layer norm\n",
        "        trg = self.self_attn_layer_norm(trg + self.dropout(_trg))\n",
        "            \n",
        "        #trg = [batch size, trg len, hid dim]\n",
        "            \n",
        "        #encoder attention\n",
        "        _trg, attention = self.encoder_attention(trg, enc_src, enc_src, src_mask)\n",
        "        \n",
        "        #dropout, residual connection and layer norm\n",
        "        trg = self.enc_attn_layer_norm(trg + self.dropout(_trg))\n",
        "                    \n",
        "        #trg = [batch size, trg len, hid dim]\n",
        "        \n",
        "        #positionwise feedforward\n",
        "        _trg = self.positionwise_feedforward(trg)\n",
        "        \n",
        "        #dropout, residual and layer norm\n",
        "        trg = self.ff_layer_norm(trg + self.dropout(_trg))\n",
        "        \n",
        "        #trg = [batch size, trg len, hid dim]\n",
        "        #attention = [batch size, n heads, trg len, src len]\n",
        "        \n",
        "        return trg, attention"
      ],
      "metadata": {
        "id": "qlvG4IwwIomY"
      },
      "execution_count": 754,
      "outputs": []
    },
    {
      "cell_type": "code",
      "source": [
        "class Seq2Seq(nn.Module):\n",
        "    def __init__(self, \n",
        "                 encoder, \n",
        "                 decoder, \n",
        "                 src_pad_idx, \n",
        "                 trg_pad_idx, \n",
        "                 device):\n",
        "        super().__init__()\n",
        "        \n",
        "        self.encoder = encoder\n",
        "        self.decoder = decoder\n",
        "        self.src_pad_idx = src_pad_idx\n",
        "        self.trg_pad_idx = trg_pad_idx\n",
        "        self.device = device\n",
        "        \n",
        "    def make_src_mask(self, src):\n",
        "        #src = [batch size, src len]\n",
        "        src_mask = (src != self.src_pad_idx).unsqueeze(1).unsqueeze(2)\n",
        "\n",
        "        #src_mask = [batch size, 1, 1, src len]\n",
        "\n",
        "        return src_mask\n",
        "    \n",
        "    def make_trg_mask(self, trg):\n",
        "        #trg = [batch size, trg len]\n",
        "        \n",
        "        trg_pad_mask = (trg != self.trg_pad_idx).unsqueeze(1).unsqueeze(2)\n",
        "        \n",
        "        #trg_pad_mask = [batch size, 1, 1, trg len]\n",
        "        \n",
        "        trg_len = trg.shape[1]\n",
        "        \n",
        "        trg_sub_mask = torch.tril(torch.ones((trg_len, trg_len), device=self.device)).bool()\n",
        "        \n",
        "        #trg_sub_mask = [trg len, trg len]\n",
        "            \n",
        "        trg_mask = trg_pad_mask & trg_sub_mask\n",
        "        \n",
        "        #trg_mask = [batch size, 1, trg len, trg len]\n",
        "        \n",
        "        return trg_mask\n",
        "\n",
        "    def forward(self, src, trg):\n",
        "        #src = [batch size, src len]\n",
        "        #trg = [batch size, trg len]\n",
        "                \n",
        "        src_mask = self.make_src_mask(src)\n",
        "        trg_mask = self.make_trg_mask(trg)\n",
        "        \n",
        "        #src_mask = [batch size, 1, 1, src len]\n",
        "        #trg_mask = [batch size, 1, trg len, trg len]\n",
        "        \n",
        "        enc_src = self.encoder(src, src_mask)\n",
        "        \n",
        "        #enc_src = [batch size, src len, hid dim]\n",
        "                \n",
        "        output, attention = self.decoder(trg, enc_src, trg_mask, src_mask)\n",
        "        \n",
        "        #output = [batch size, trg len, output dim]\n",
        "        #attention = [batch size, n heads, trg len, src len]\n",
        "        \n",
        "        return output, attention\n"
      ],
      "metadata": {
        "id": "tDyIAvb1Jtuu"
      },
      "execution_count": 755,
      "outputs": []
    },
    {
      "cell_type": "markdown",
      "source": [
        "# **Training Model**"
      ],
      "metadata": {
        "id": "whDxYzEf_mLa"
      }
    },
    {
      "cell_type": "code",
      "source": [
        "INPUT_DIM = len(SRC.vocab)\n",
        "OUTPUT_DIM = len(TRG.vocab)\n",
        "HID_DIM = 256\n",
        "ENC_LAYERS = 3\n",
        "DEC_LAYERS = 3\n",
        "ENC_HEADS = 8\n",
        "DEC_HEADS = 8\n",
        "ENC_PF_DIM = 512\n",
        "DEC_PF_DIM = 512\n",
        "ENC_DROPOUT = 0.2\n",
        "DEC_DROPOUT = 0.2\n",
        "\n",
        "enc = Encoder(INPUT_DIM, \n",
        "              HID_DIM, \n",
        "              ENC_LAYERS, \n",
        "              ENC_HEADS, \n",
        "              ENC_PF_DIM, \n",
        "              ENC_DROPOUT, \n",
        "              device)\n",
        "\n",
        "dec = Decoder(OUTPUT_DIM, \n",
        "              HID_DIM, \n",
        "              DEC_LAYERS, \n",
        "              DEC_HEADS, \n",
        "              DEC_PF_DIM, \n",
        "              DEC_DROPOUT, \n",
        "              device)"
      ],
      "metadata": {
        "id": "b2h8rSA8HZTX"
      },
      "execution_count": 756,
      "outputs": []
    },
    {
      "cell_type": "code",
      "source": [
        "SRC_PAD_IDX = SRC.vocab.stoi[SRC.pad_token]\n",
        "TRG_PAD_IDX = TRG.vocab.stoi[TRG.pad_token]\n",
        "\n",
        "model = Seq2Seq(enc, dec, SRC_PAD_IDX, TRG_PAD_IDX, device).to(device)"
      ],
      "metadata": {
        "id": "C0_dYj0yLURs"
      },
      "execution_count": 757,
      "outputs": []
    },
    {
      "cell_type": "code",
      "source": [
        "def count_parameters(model):\n",
        "    return sum(p.numel() for p in model.parameters() if p.requires_grad)\n",
        "\n",
        "print(f'The model has {count_parameters(model):,} trainable parameters')"
      ],
      "metadata": {
        "colab": {
          "base_uri": "https://localhost:8080/"
        },
        "id": "XQ71bmmgLZlN",
        "outputId": "6a96dac6-0155-4709-eb44-80b16f13a147"
      },
      "execution_count": 758,
      "outputs": [
        {
          "output_type": "stream",
          "name": "stdout",
          "text": [
            "The model has 4,154,315 trainable parameters\n"
          ]
        }
      ]
    },
    {
      "cell_type": "code",
      "source": [
        "def initialize_weights(m):\n",
        "    if hasattr(m, 'weight') and m.weight.dim() > 1:\n",
        "        nn.init.xavier_uniform_(m.weight.data)"
      ],
      "metadata": {
        "id": "4Yydq6HsLnQ6"
      },
      "execution_count": 759,
      "outputs": []
    },
    {
      "cell_type": "code",
      "source": [
        "model.apply(initialize_weights);"
      ],
      "metadata": {
        "id": "x5pWwunJLoQ4"
      },
      "execution_count": 760,
      "outputs": []
    },
    {
      "cell_type": "code",
      "source": [
        "LEARNING_RATE = 0.0005\n",
        "\n",
        "optimizer = torch.optim.Adam(model.parameters(), lr = LEARNING_RATE)"
      ],
      "metadata": {
        "id": "8ERwN6EvZVUa"
      },
      "execution_count": 761,
      "outputs": []
    },
    {
      "cell_type": "code",
      "source": [
        "criterion = nn.CrossEntropyLoss(ignore_index = TRG_PAD_IDX)"
      ],
      "metadata": {
        "id": "V3GTHtJnL0x5"
      },
      "execution_count": 762,
      "outputs": []
    },
    {
      "cell_type": "code",
      "source": [
        "def train(model, iterator, optimizer, criterion, clip):\n",
        "    \n",
        "    model.train()\n",
        "    \n",
        "    epoch_loss = 0\n",
        "    \n",
        "    for i, batch in enumerate(iterator):\n",
        "        \n",
        "        src = batch.src\n",
        "        trg = batch.trg\n",
        "        \n",
        "        optimizer.zero_grad()\n",
        "        \n",
        "        output, _ = model(src, trg[:,:-1])\n",
        "                \n",
        "        #output = [batch size, trg len - 1, output dim]\n",
        "        #trg = [batch size, trg len]\n",
        "            \n",
        "        output_dim = output.shape[-1]\n",
        "            \n",
        "        output = output.contiguous().view(-1, output_dim)\n",
        "        trg = trg[:,1:].contiguous().view(-1)\n",
        "                \n",
        "        #output = [batch size * trg len - 1, output dim]\n",
        "        #trg = [batch size * trg len - 1]\n",
        "            \n",
        "        loss = criterion(output, trg)\n",
        "        \n",
        "        loss.backward()\n",
        "        \n",
        "        torch.nn.utils.clip_grad_norm_(model.parameters(), clip)\n",
        "        \n",
        "        optimizer.step()\n",
        "        \n",
        "        epoch_loss += loss.item()\n",
        "        \n",
        "    return epoch_loss / len(iterator)"
      ],
      "metadata": {
        "id": "vDvsIrWKL5Q4"
      },
      "execution_count": 763,
      "outputs": []
    },
    {
      "cell_type": "code",
      "source": [
        "def evaluate(model, iterator, criterion):\n",
        "    \n",
        "    model.eval()\n",
        "    \n",
        "    epoch_loss = 0\n",
        "    \n",
        "    with torch.no_grad():\n",
        "    \n",
        "        for i, batch in enumerate(iterator):\n",
        "\n",
        "            src = batch.src\n",
        "            trg = batch.trg\n",
        "\n",
        "            output, _ = model(src, trg[:,:-1])\n",
        "            \n",
        "            #output = [batch size, trg len - 1, output dim]\n",
        "            #trg = [batch size, trg len]\n",
        "            \n",
        "            output_dim = output.shape[-1]\n",
        "            \n",
        "            output = output.contiguous().view(-1, output_dim)\n",
        "            trg = trg[:,1:].contiguous().view(-1)\n",
        "            \n",
        "            #output = [batch size * trg len - 1, output dim]\n",
        "            #trg = [batch size * trg len - 1]\n",
        "            \n",
        "            loss = criterion(output, trg)\n",
        "\n",
        "            epoch_loss += loss.item()\n",
        "        \n",
        "    return epoch_loss / len(iterator)"
      ],
      "metadata": {
        "id": "1AFAN-P6L9d2"
      },
      "execution_count": 764,
      "outputs": []
    },
    {
      "cell_type": "code",
      "source": [
        "def epoch_time(start_time, end_time):\n",
        "    elapsed_time = end_time - start_time\n",
        "    elapsed_mins = int(elapsed_time / 60)\n",
        "    elapsed_secs = int(elapsed_time - (elapsed_mins * 60))\n",
        "    return elapsed_mins, elapsed_secs"
      ],
      "metadata": {
        "id": "kwOhsfkdMBNh"
      },
      "execution_count": 765,
      "outputs": []
    },
    {
      "cell_type": "code",
      "source": [
        "import random\n",
        "import math\n",
        "import time"
      ],
      "metadata": {
        "id": "HJ73d4XJMNK1"
      },
      "execution_count": 766,
      "outputs": []
    },
    {
      "cell_type": "code",
      "source": [
        "# Print the size of the SRC and TRG vocabularies\n",
        "print(len(SRC.vocab), len(TRG.vocab))\n",
        "\n",
        "# Get a batch from the iterator\n",
        "batch = next(iter(train_iterator))\n",
        "\n",
        "# Print the maximum index value in the input tensor\n",
        "print(torch.max(batch.src).item())"
      ],
      "metadata": {
        "colab": {
          "base_uri": "https://localhost:8080/"
        },
        "id": "rKBW-zGGpUYa",
        "outputId": "f7d7695f-0ce3-4e53-ad88-e5c451a1ed7d"
      },
      "execution_count": 767,
      "outputs": [
        {
          "output_type": "stream",
          "name": "stdout",
          "text": [
            "177 203\n",
            "176\n"
          ]
        }
      ]
    },
    {
      "cell_type": "code",
      "source": [
        "print(torch.max(batch.src).item())\n",
        "print(enc.tok_embedding.weight.size())"
      ],
      "metadata": {
        "colab": {
          "base_uri": "https://localhost:8080/"
        },
        "id": "WUApkeSLu_Ek",
        "outputId": "39c06007-a963-4f62-cf64-5c6195e5a8a4"
      },
      "execution_count": 768,
      "outputs": [
        {
          "output_type": "stream",
          "name": "stdout",
          "text": [
            "176\n",
            "torch.Size([177, 256])\n"
          ]
        }
      ]
    },
    {
      "cell_type": "markdown",
      "source": [
        "**Finding best learning rate**"
      ],
      "metadata": {
        "id": "048GS0tpT-Zy"
      }
    },
    {
      "cell_type": "code",
      "source": [
        "# def find_best_learning_rate(model, train_loader, start_lr=0.0001, end_lr=0.1, num_iters=50, device='cpu'):\n",
        "#     criterion = nn.CrossEntropyLoss()\n",
        "#     optimizer = optim.Adam(model.parameters(), lr=start_lr)\n",
        "#     # optimizer = optim.SGD(model.parameters(), lr=start_lr)\n",
        "#     scheduler = torch.optim.lr_scheduler.StepLR(optimizer, step_size=1, gamma=10)\n",
        "    \n",
        "#     lr_list = []\n",
        "#     loss_list = []\n",
        "    \n",
        "#     for i in range(num_iters):\n",
        "#         lr = start_lr + (end_lr - start_lr) * i / (num_iters - 1)\n",
        "#         optimizer.param_groups[0]['lr'] = lr\n",
        "#         scheduler.step()\n",
        "        \n",
        "#         for batch in train_loader:\n",
        "#             src = batch.src.to(device)\n",
        "#             trg = batch.trg.to(device)\n",
        "            \n",
        "#             optimizer.zero_grad()\n",
        "#             outputs = model(src, trg[:,:-1])  # exclude <eos> token from decoder input\n",
        "#             outputs = outputs[0].contiguous().view(-1, outputs[0].shape[-1])  # reshape for loss computation\n",
        "#             labels = trg[:,1:].contiguous().view(-1)  # exclude <sos> token from target\n",
        "#             loss = criterion(outputs, labels)\n",
        "#             loss.backward()\n",
        "#             optimizer.step()\n",
        "        \n",
        "#         loss_list.append(loss.item())\n",
        "#         lr_list.append(lr)\n",
        "        \n",
        "#     # Find the optimal learning rate\n",
        "#     grad = torch.tensor([loss_list[i+1] - loss_list[i] for i in range(len(loss_list)-1)])\n",
        "#     idx = torch.argmax(grad).item()\n",
        "#     best_lr = lr_list[idx]\n",
        "    \n",
        "#     return best_lr, lr_list, loss_list"
      ],
      "metadata": {
        "id": "T9wLsiICXRz1"
      },
      "execution_count": 769,
      "outputs": []
    },
    {
      "cell_type": "code",
      "source": [
        "# LEARNING_RATE = 0.0005\n",
        "# optimizer = optim.Adam(model.parameters(), lr=LEARNING_RATE)\n",
        "# CLIP = 1\n",
        "# best_lr = 0\n",
        "# best_valid_loss = float('inf')  # initialize to a large value\n",
        "\n",
        "# for epoch in range(10):\n",
        "#     # Train the model for one epoch\n",
        "#     train(model, train_iterator, optimizer, criterion, CLIP)\n",
        "    \n",
        "#     # Evaluate the model on the validation dataset\n",
        "#     valid_loss = evaluate(model, valid_iterator, criterion)\n",
        "    \n",
        "#     # Update the learning rate based on the validation loss\n",
        "#     if valid_loss < best_valid_loss:\n",
        "#         best_valid_loss = valid_loss\n",
        "#         best_lr = LEARNING_RATE\n",
        "#         LEARNING_RATE *= 1.1\n",
        "#     else:\n",
        "#         LEARNING_RATE /= 2\n",
        "#         optimizer = optim.Adam(model.parameters(), lr=LEARNING_RATE)\n",
        "\n",
        "# print(f\"Best Learning Rate: {best_lr}\")\n",
        "# LEARNING_RATE = best_lr\n",
        "# optimizer = optim.Adam(model.parameters(), lr=LEARNING_RATE)"
      ],
      "metadata": {
        "id": "NqXXraX1T9hR"
      },
      "execution_count": 770,
      "outputs": []
    },
    {
      "cell_type": "code",
      "source": [
        "path = '/content/drive/MyDrive/model.pt'"
      ],
      "metadata": {
        "id": "E53yoakQ9rzX"
      },
      "execution_count": 771,
      "outputs": []
    },
    {
      "cell_type": "code",
      "source": [
        "# best_lr = find_best_learning_rate(model, train_iterator, device=device)"
      ],
      "metadata": {
        "id": "z5O8fVck7grw"
      },
      "execution_count": 772,
      "outputs": []
    },
    {
      "cell_type": "code",
      "source": [
        "# best_lr"
      ],
      "metadata": {
        "id": "IvIGUMttXvxz"
      },
      "execution_count": 773,
      "outputs": []
    },
    {
      "cell_type": "code",
      "source": [
        "# N_EPOCHS = 100\n",
        "# CLIP = 1\n",
        "\n",
        "# best_valid_loss = float('inf')\n",
        "# trainLoss = []\n",
        "# validLoss = []\n",
        "\n",
        "# for epoch in range(N_EPOCHS):\n",
        "    \n",
        "#     start_time = time.time()\n",
        "    \n",
        "#     train_loss = train(model, train_iterator, optimizer, criterion, CLIP)\n",
        "#     valid_loss = evaluate(model, valid_iterator, criterion)\n",
        "\n",
        "#     trainLoss.append(train_loss)\n",
        "#     validLoss.append(valid_loss)\n",
        "    \n",
        "#     end_time = time.time()\n",
        "    \n",
        "#     epoch_mins, epoch_secs = epoch_time(start_time, end_time)\n",
        "    \n",
        "#     if valid_loss < best_valid_loss:\n",
        "#         best_valid_loss = valid_loss\n",
        "#         torch.save(model.state_dict(), path)\n",
        "    \n",
        "#     print(f'Epoch: {epoch+1:02} | Time: {epoch_mins}m {epoch_secs}s')\n",
        "#     print(f'\\tTrain Loss: {train_loss:.3f} | Train PPL: {math.exp(train_loss):7.3f}')\n",
        "#     print(f'\\t Val. Loss: {valid_loss:.3f} |  Val. PPL: {math.exp(valid_loss):7.3f}')"
      ],
      "metadata": {
        "id": "QZ1EO9CoMH2j"
      },
      "execution_count": 774,
      "outputs": []
    },
    {
      "cell_type": "code",
      "source": [
        "N_EPOCHS = 100\n",
        "CLIP = 1\n",
        "PATIENCE = 10  # number of epochs to wait before stopping if validation loss doesn't improve\n",
        "best_valid_loss = float('inf')\n",
        "trainLoss = []\n",
        "validLoss = []\n",
        "no_improvement_count = 0  # number of epochs since validation loss improved\n",
        "\n",
        "for epoch in range(N_EPOCHS):\n",
        "    start_time = time.time()\n",
        "    train_loss = train(model, train_iterator, optimizer, criterion, CLIP)\n",
        "    valid_loss = evaluate(model, valid_iterator, criterion)\n",
        "    trainLoss.append(train_loss)\n",
        "    validLoss.append(valid_loss)\n",
        "    end_time = time.time()\n",
        "    \n",
        "    epoch_mins, epoch_secs = epoch_time(start_time, end_time)\n",
        "    \n",
        "    if valid_loss < best_valid_loss:\n",
        "        best_valid_loss = valid_loss\n",
        "        torch.save(model.state_dict(), path)\n",
        "        no_improvement_count = 0\n",
        "    else:\n",
        "        no_improvement_count += 1\n",
        "        if no_improvement_count >= PATIENCE:\n",
        "            print(f'Validation loss hasn\\'t improved for {PATIENCE} epochs. Stopping early.')\n",
        "            break\n",
        "    \n",
        "    print(f'Epoch: {epoch+1:02} | Time: {epoch_mins}m {epoch_secs}s')\n",
        "    print(f'\\tTrain Loss: {train_loss:.3f} | Train PPL: {math.exp(train_loss):7.3f}')\n",
        "    print(f'\\t Val. Loss: {valid_loss:.3f} |  Val. PPL: {math.exp(valid_loss):7.3f}')"
      ],
      "metadata": {
        "colab": {
          "base_uri": "https://localhost:8080/"
        },
        "id": "G3AtZIZT5crn",
        "outputId": "0be0bfcf-fb24-469e-9661-8b30a66183c5"
      },
      "execution_count": 775,
      "outputs": [
        {
          "output_type": "stream",
          "name": "stdout",
          "text": [
            "Epoch: 01 | Time: 0m 2s\n",
            "\tTrain Loss: 5.355 | Train PPL: 211.709\n",
            "\t Val. Loss: 3.737 |  Val. PPL:  41.990\n",
            "Epoch: 02 | Time: 0m 4s\n",
            "\tTrain Loss: 4.227 | Train PPL:  68.517\n",
            "\t Val. Loss: 3.198 |  Val. PPL:  24.489\n",
            "Epoch: 03 | Time: 0m 2s\n",
            "\tTrain Loss: 4.185 | Train PPL:  65.692\n",
            "\t Val. Loss: 3.059 |  Val. PPL:  21.309\n",
            "Epoch: 04 | Time: 0m 2s\n",
            "\tTrain Loss: 4.021 | Train PPL:  55.753\n",
            "\t Val. Loss: 2.967 |  Val. PPL:  19.436\n",
            "Epoch: 05 | Time: 0m 2s\n",
            "\tTrain Loss: 3.932 | Train PPL:  51.019\n",
            "\t Val. Loss: 3.045 |  Val. PPL:  21.013\n",
            "Epoch: 06 | Time: 0m 2s\n",
            "\tTrain Loss: 3.885 | Train PPL:  48.645\n",
            "\t Val. Loss: 2.913 |  Val. PPL:  18.410\n",
            "Epoch: 07 | Time: 0m 2s\n",
            "\tTrain Loss: 3.847 | Train PPL:  46.840\n",
            "\t Val. Loss: 2.915 |  Val. PPL:  18.445\n",
            "Epoch: 08 | Time: 0m 3s\n",
            "\tTrain Loss: 3.852 | Train PPL:  47.081\n",
            "\t Val. Loss: 2.924 |  Val. PPL:  18.607\n",
            "Epoch: 09 | Time: 0m 3s\n",
            "\tTrain Loss: 3.791 | Train PPL:  44.312\n",
            "\t Val. Loss: 2.894 |  Val. PPL:  18.073\n",
            "Epoch: 10 | Time: 0m 2s\n",
            "\tTrain Loss: 3.753 | Train PPL:  42.661\n",
            "\t Val. Loss: 2.987 |  Val. PPL:  19.833\n",
            "Epoch: 11 | Time: 0m 2s\n",
            "\tTrain Loss: 3.714 | Train PPL:  41.029\n",
            "\t Val. Loss: 2.942 |  Val. PPL:  18.955\n",
            "Epoch: 12 | Time: 0m 2s\n",
            "\tTrain Loss: 3.657 | Train PPL:  38.737\n",
            "\t Val. Loss: 2.883 |  Val. PPL:  17.861\n",
            "Epoch: 13 | Time: 0m 2s\n",
            "\tTrain Loss: 3.625 | Train PPL:  37.520\n",
            "\t Val. Loss: 2.835 |  Val. PPL:  17.024\n",
            "Epoch: 14 | Time: 0m 2s\n",
            "\tTrain Loss: 3.528 | Train PPL:  34.066\n",
            "\t Val. Loss: 2.826 |  Val. PPL:  16.883\n",
            "Epoch: 15 | Time: 0m 3s\n",
            "\tTrain Loss: 3.468 | Train PPL:  32.071\n",
            "\t Val. Loss: 2.932 |  Val. PPL:  18.764\n",
            "Epoch: 16 | Time: 0m 3s\n",
            "\tTrain Loss: 3.379 | Train PPL:  29.341\n",
            "\t Val. Loss: 2.797 |  Val. PPL:  16.387\n",
            "Epoch: 17 | Time: 0m 2s\n",
            "\tTrain Loss: 3.412 | Train PPL:  30.318\n",
            "\t Val. Loss: 2.751 |  Val. PPL:  15.655\n",
            "Epoch: 18 | Time: 0m 2s\n",
            "\tTrain Loss: 3.249 | Train PPL:  25.777\n",
            "\t Val. Loss: 3.154 |  Val. PPL:  23.421\n",
            "Epoch: 19 | Time: 0m 2s\n",
            "\tTrain Loss: 3.422 | Train PPL:  30.616\n",
            "\t Val. Loss: 2.992 |  Val. PPL:  19.925\n",
            "Epoch: 20 | Time: 0m 2s\n",
            "\tTrain Loss: 3.216 | Train PPL:  24.933\n",
            "\t Val. Loss: 2.671 |  Val. PPL:  14.450\n",
            "Epoch: 21 | Time: 0m 2s\n",
            "\tTrain Loss: 3.175 | Train PPL:  23.930\n",
            "\t Val. Loss: 2.613 |  Val. PPL:  13.638\n",
            "Epoch: 22 | Time: 0m 3s\n",
            "\tTrain Loss: 3.056 | Train PPL:  21.244\n",
            "\t Val. Loss: 2.667 |  Val. PPL:  14.402\n",
            "Epoch: 23 | Time: 0m 2s\n",
            "\tTrain Loss: 2.973 | Train PPL:  19.551\n",
            "\t Val. Loss: 2.690 |  Val. PPL:  14.729\n",
            "Epoch: 24 | Time: 0m 2s\n",
            "\tTrain Loss: 3.116 | Train PPL:  22.559\n",
            "\t Val. Loss: 2.719 |  Val. PPL:  15.172\n",
            "Epoch: 25 | Time: 0m 2s\n",
            "\tTrain Loss: 2.992 | Train PPL:  19.928\n",
            "\t Val. Loss: 2.671 |  Val. PPL:  14.451\n",
            "Epoch: 26 | Time: 0m 2s\n",
            "\tTrain Loss: 2.822 | Train PPL:  16.818\n",
            "\t Val. Loss: 2.558 |  Val. PPL:  12.905\n",
            "Epoch: 27 | Time: 0m 3s\n",
            "\tTrain Loss: 2.764 | Train PPL:  15.858\n",
            "\t Val. Loss: 2.542 |  Val. PPL:  12.704\n",
            "Epoch: 28 | Time: 0m 3s\n",
            "\tTrain Loss: 2.722 | Train PPL:  15.208\n",
            "\t Val. Loss: 2.550 |  Val. PPL:  12.810\n",
            "Epoch: 29 | Time: 0m 3s\n",
            "\tTrain Loss: 2.610 | Train PPL:  13.604\n",
            "\t Val. Loss: 2.522 |  Val. PPL:  12.454\n",
            "Epoch: 30 | Time: 0m 2s\n",
            "\tTrain Loss: 2.545 | Train PPL:  12.737\n",
            "\t Val. Loss: 2.528 |  Val. PPL:  12.527\n",
            "Epoch: 31 | Time: 0m 2s\n",
            "\tTrain Loss: 2.479 | Train PPL:  11.926\n",
            "\t Val. Loss: 2.525 |  Val. PPL:  12.486\n",
            "Epoch: 32 | Time: 0m 2s\n",
            "\tTrain Loss: 2.431 | Train PPL:  11.369\n",
            "\t Val. Loss: 2.534 |  Val. PPL:  12.598\n",
            "Epoch: 33 | Time: 0m 2s\n",
            "\tTrain Loss: 2.377 | Train PPL:  10.769\n",
            "\t Val. Loss: 2.492 |  Val. PPL:  12.085\n",
            "Epoch: 34 | Time: 0m 2s\n",
            "\tTrain Loss: 2.305 | Train PPL:  10.027\n",
            "\t Val. Loss: 2.552 |  Val. PPL:  12.828\n",
            "Epoch: 35 | Time: 0m 3s\n",
            "\tTrain Loss: 2.232 | Train PPL:   9.323\n",
            "\t Val. Loss: 2.589 |  Val. PPL:  13.310\n",
            "Epoch: 36 | Time: 0m 3s\n",
            "\tTrain Loss: 2.266 | Train PPL:   9.642\n",
            "\t Val. Loss: 2.524 |  Val. PPL:  12.475\n",
            "Epoch: 37 | Time: 0m 2s\n",
            "\tTrain Loss: 2.221 | Train PPL:   9.217\n",
            "\t Val. Loss: 2.603 |  Val. PPL:  13.502\n",
            "Epoch: 38 | Time: 0m 2s\n",
            "\tTrain Loss: 2.212 | Train PPL:   9.130\n",
            "\t Val. Loss: 2.546 |  Val. PPL:  12.755\n",
            "Epoch: 39 | Time: 0m 2s\n",
            "\tTrain Loss: 2.131 | Train PPL:   8.420\n",
            "\t Val. Loss: 2.555 |  Val. PPL:  12.874\n",
            "Epoch: 40 | Time: 0m 2s\n",
            "\tTrain Loss: 2.108 | Train PPL:   8.235\n",
            "\t Val. Loss: 2.543 |  Val. PPL:  12.712\n",
            "Epoch: 41 | Time: 0m 3s\n",
            "\tTrain Loss: 2.088 | Train PPL:   8.070\n",
            "\t Val. Loss: 2.673 |  Val. PPL:  14.478\n",
            "Epoch: 42 | Time: 0m 3s\n",
            "\tTrain Loss: 2.075 | Train PPL:   7.965\n",
            "\t Val. Loss: 2.529 |  Val. PPL:  12.539\n",
            "Validation loss hasn't improved for 10 epochs. Stopping early.\n"
          ]
        }
      ]
    },
    {
      "cell_type": "code",
      "source": [
        "model.load_state_dict(torch.load(path))\n",
        "\n",
        "test_loss = evaluate(model, test_iterator, criterion)\n",
        "\n",
        "print(f'| Test Loss: {test_loss:.3f} | Test PPL: {math.exp(test_loss):7.3f} |')"
      ],
      "metadata": {
        "colab": {
          "base_uri": "https://localhost:8080/"
        },
        "id": "iY_rReTa-9NX",
        "outputId": "3c6be45f-f1fa-43b6-d4a2-ce34c4856aef"
      },
      "execution_count": 776,
      "outputs": [
        {
          "output_type": "stream",
          "name": "stdout",
          "text": [
            "| Test Loss: 2.450 | Test PPL:  11.592 |\n"
          ]
        }
      ]
    },
    {
      "cell_type": "markdown",
      "source": [
        "# **Translating using our model**"
      ],
      "metadata": {
        "id": "70tbtVycVUi8"
      }
    },
    {
      "cell_type": "code",
      "source": [
        "def translate_sentence(sentence, src_field, trg_field, model, device, max_len = 50):\n",
        "    \n",
        "    model.eval()\n",
        "        \n",
        "    if isinstance(sentence, str):\n",
        "        nlp = spacy.load('de_core_news_sm')\n",
        "        tokens = [token.text.lower() for token in nlp(sentence)]\n",
        "    else:\n",
        "        tokens = [token.lower() for token in sentence]\n",
        "\n",
        "    tokens = [src_field.init_token] + tokens + [src_field.eos_token]\n",
        "        \n",
        "    src_indexes = [src_field.vocab.stoi[token] for token in tokens]\n",
        "\n",
        "    src_tensor = torch.LongTensor(src_indexes).unsqueeze(0).to(device)\n",
        "    \n",
        "    src_mask = model.make_src_mask(src_tensor)\n",
        "    \n",
        "    with torch.no_grad():\n",
        "        enc_src = model.encoder(src_tensor, src_mask)\n",
        "\n",
        "    trg_indexes = [trg_field.vocab.stoi[trg_field.init_token]]\n",
        "\n",
        "    for i in range(max_len):\n",
        "\n",
        "        trg_tensor = torch.LongTensor(trg_indexes).unsqueeze(0).to(device)\n",
        "\n",
        "        trg_mask = model.make_trg_mask(trg_tensor)\n",
        "        \n",
        "        with torch.no_grad():\n",
        "            output, attention = model.decoder(trg_tensor, enc_src, trg_mask, src_mask)\n",
        "        \n",
        "        pred_token = output.argmax(2)[:,-1].item()\n",
        "        \n",
        "        trg_indexes.append(pred_token)\n",
        "\n",
        "        if pred_token == trg_field.vocab.stoi[trg_field.eos_token]:\n",
        "            break\n",
        "    \n",
        "    trg_tokens = [trg_field.vocab.itos[i] for i in trg_indexes]\n",
        "    \n",
        "    return trg_tokens[1:], attention"
      ],
      "metadata": {
        "id": "1WPn_UfRUNXd"
      },
      "execution_count": 777,
      "outputs": []
    },
    {
      "cell_type": "code",
      "source": [
        "example_idx = 4\n",
        "\n",
        "src = vars(train_data.examples[example_idx])['src']\n",
        "trg = vars(train_data.examples[example_idx])['trg']\n",
        "\n",
        "print(f'src = {src}')\n",
        "print(f'trg = {trg}')"
      ],
      "metadata": {
        "colab": {
          "base_uri": "https://localhost:8080/"
        },
        "id": "eIssE6h9UPsp",
        "outputId": "0fe12623-1d41-498e-d707-f15eeef9b87c"
      },
      "execution_count": 778,
      "outputs": [
        {
          "output_type": "stream",
          "name": "stdout",
          "text": [
            "src = ['school', 'of', 'public', 'health']\n",
            "trg = ['school', 'of', 'public', 'health']\n"
          ]
        }
      ]
    },
    {
      "cell_type": "code",
      "source": [
        "translation, attention = translate_sentence(src, SRC, TRG, model, device)\n",
        "\n",
        "print(f'predicted trg = {translation}')"
      ],
      "metadata": {
        "colab": {
          "base_uri": "https://localhost:8080/"
        },
        "id": "Rjv8DhccUSb8",
        "outputId": "3696a68d-c9df-4fcf-c65d-eebed6328a52"
      },
      "execution_count": 779,
      "outputs": [
        {
          "output_type": "stream",
          "name": "stdout",
          "text": [
            "predicted trg = ['school', 'of', 'school', 'of', '<unk>', '<eos>']\n"
          ]
        }
      ]
    },
    {
      "cell_type": "code",
      "source": [
        "example_idx = 33\n",
        "\n",
        "src = vars(train_data.examples[example_idx])['src']\n",
        "trg = vars(train_data.examples[example_idx])['trg']\n",
        "\n",
        "print(f'src = {src}')\n",
        "print(f'trg = {trg}')"
      ],
      "metadata": {
        "colab": {
          "base_uri": "https://localhost:8080/"
        },
        "id": "BOBCtILNUX3C",
        "outputId": "c08b4a41-b805-40e3-ced2-2afa73353a75"
      },
      "execution_count": 780,
      "outputs": [
        {
          "output_type": "stream",
          "name": "stdout",
          "text": [
            "src = ['in', 'den', 'medien']\n",
            "trg = ['in', 'the', 'media']\n"
          ]
        }
      ]
    },
    {
      "cell_type": "code",
      "source": [
        "translation, attention = translate_sentence(src, SRC, TRG, model, device)\n",
        "\n",
        "print(f'predicted trg = {translation}')"
      ],
      "metadata": {
        "colab": {
          "base_uri": "https://localhost:8080/"
        },
        "id": "NyuyIWyGUeUH",
        "outputId": "ed8d081f-db26-42da-df7a-459cb9e31085"
      },
      "execution_count": 781,
      "outputs": [
        {
          "output_type": "stream",
          "name": "stdout",
          "text": [
            "predicted trg = ['the', 'in', 'the', 'media', '<eos>']\n"
          ]
        }
      ]
    },
    {
      "cell_type": "code",
      "source": [
        "example_idx = 40\n",
        "\n",
        "src = vars(train_data.examples[example_idx])['src']\n",
        "trg = vars(train_data.examples[example_idx])['trg']\n",
        "\n",
        "print(f'src = {src}')\n",
        "print(f'trg = {trg}')"
      ],
      "metadata": {
        "colab": {
          "base_uri": "https://localhost:8080/"
        },
        "id": "a7gDHiaqU--x",
        "outputId": "d64e2f51-8a05-43ab-d728-4025615f54fe"
      },
      "execution_count": 782,
      "outputs": [
        {
          "output_type": "stream",
          "name": "stdout",
          "text": [
            "src = ['die', 'yale', 'school', 'of', 'medicine', 'begrüßt', 'während', 'der', 'jährlichen', 'white', 'coat-zeremonie', 'das', 'erste', 'studienjahr', 'zu', 'einem', 'leben', 'in', 'der', 'medizin', '.']\n",
            "trg = ['the', 'yale', 'school', 'of', 'medicine', 'welcomes', 'first', '-', 'year', 'students', 'to', 'a', 'life', 'in', 'medicine', 'during', 'the', 'annual', 'white', 'coat', 'ceremony', '.']\n"
          ]
        }
      ]
    },
    {
      "cell_type": "code",
      "source": [
        "translation, attention = translate_sentence(src, SRC, TRG, model, device)\n",
        "\n",
        "print(f'predicted trg = {translation}')"
      ],
      "metadata": {
        "colab": {
          "base_uri": "https://localhost:8080/"
        },
        "id": "PdqM5FNBVDZZ",
        "outputId": "4ae7708b-1353-4409-9e0f-86397e2b0598"
      },
      "execution_count": 783,
      "outputs": [
        {
          "output_type": "stream",
          "name": "stdout",
          "text": [
            "predicted trg = ['the', 'the', 'yale', 'the', '<unk>', 'yale', 'the', '<unk>', 'of', 'the', '<unk>', 'the', '<unk>', '-', '<unk>', '-', '<unk>', '-', '<unk>', '-', '<unk>', '-', '<unk>', '-', '<unk>', '-', '<unk>', '-', '<unk>', '-', '<unk>', '-', '<unk>', '-', '<unk>', '-', '<unk>', '-', '<unk>', '-', '<unk>', '-', '<unk>', '-', '<unk>', '-', '<unk>', '-', '<unk>', '-']\n"
          ]
        }
      ]
    },
    {
      "cell_type": "code",
      "source": [
        "len(trainLoss)"
      ],
      "metadata": {
        "colab": {
          "base_uri": "https://localhost:8080/"
        },
        "id": "1OIVND8aw756",
        "outputId": "3a62c23f-8009-49a6-a691-908639db8d18"
      },
      "execution_count": 784,
      "outputs": [
        {
          "output_type": "execute_result",
          "data": {
            "text/plain": [
              "43"
            ]
          },
          "metadata": {},
          "execution_count": 784
        }
      ]
    },
    {
      "cell_type": "code",
      "source": [
        "# Plot the train loss and valid loss over epochs\n",
        "plt.plot(range(1, len(trainLoss)+1), trainLoss, label='Train Loss')\n",
        "plt.plot(range(1, len(trainLoss)+1), validLoss, label='Valid Loss')\n",
        "\n",
        "# Set the axis labels and title\n",
        "plt.xlabel('Epoch')\n",
        "plt.ylabel('Loss')\n",
        "plt.title('Train and Valid Loss over Epochs')\n",
        "\n",
        "# Add the legend and show the plot\n",
        "plt.legend()\n",
        "plt.show()"
      ],
      "metadata": {
        "colab": {
          "base_uri": "https://localhost:8080/",
          "height": 472
        },
        "id": "Y16ICvGVtfhK",
        "outputId": "85dea11c-5d98-4c43-f9d9-725c180bd043"
      },
      "execution_count": 785,
      "outputs": [
        {
          "output_type": "display_data",
          "data": {
            "text/plain": [
              "<Figure size 640x480 with 1 Axes>"
            ],
            "image/png": "[encoded data removed]"
          },
          "metadata": {}
        }
      ]
    }
  ]
}