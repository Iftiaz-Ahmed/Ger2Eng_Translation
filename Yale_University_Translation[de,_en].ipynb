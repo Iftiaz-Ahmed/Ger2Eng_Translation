{
  "nbformat": 4,
  "nbformat_minor": 0,
  "metadata": {
    "colab": {
      "provenance": [],
      "toc_visible": true
    },
    "kernelspec": {
      "name": "python3",
      "display_name": "Python 3"
    },
    "language_info": {
      "name": "python"
    }
  },
  "cells": [
    {
      "cell_type": "code",
      "source": [
        "# !pip uninstall torch -y\n",
        "# !pip uninstall torchtext -y\n",
        "# !pip install torch==1.10.1+cu111 torchvision==0.11.2+cu111 torchaudio===0.10.1+cu111 -f https://download.pytorch.org/whl/cu111/torch_stable.html\n",
        "# !pip install torchtext==0.9.0"
      ],
      "metadata": {
        "id": "-0--_9yGFGLk"
      },
      "execution_count": 893,
      "outputs": []
    },
    {
      "cell_type": "code",
      "source": [
        "# !python -m spacy download de_core_news_sm"
      ],
      "metadata": {
        "id": "YbZfGEd3GYiX"
      },
      "execution_count": 894,
      "outputs": []
    },
    {
      "cell_type": "code",
      "source": [
        "# exit()"
      ],
      "metadata": {
        "id": "Ag_V0bASF_sV"
      },
      "execution_count": 895,
      "outputs": []
    },
    {
      "cell_type": "markdown",
      "source": [
        "# **Preparing the Data**"
      ],
      "metadata": {
        "id": "5iUZYrPgG3pm"
      }
    },
    {
      "cell_type": "code",
      "source": [
        "import torch\n",
        "import torch.nn as nn\n",
        "import torch.optim as optim\n",
        "\n",
        "import torchtext\n",
        "from torch.utils.data import DataLoader, random_split\n",
        "from torchtext.legacy.datasets import Multi30k\n",
        "from torchtext.legacy.data import Field, BucketIterator, Dataset, Example, TabularDataset\n",
        "\n",
        "import matplotlib.pyplot as plt\n",
        "import matplotlib.ticker as ticker\n",
        "\n",
        "import spacy\n",
        "import numpy as np\n",
        "import pandas as pd"
      ],
      "metadata": {
        "id": "6sku0_bXRmLx"
      },
      "execution_count": 896,
      "outputs": []
    },
    {
      "cell_type": "code",
      "source": [
        "from google.colab import drive\n",
        "drive.mount('/content/drive')"
      ],
      "metadata": {
        "colab": {
          "base_uri": "https://localhost:8080/"
        },
        "id": "jo0UkSfEXkd3",
        "outputId": "b157dd05-e7b5-4aec-ec70-e4f0dde326ea"
      },
      "execution_count": 897,
      "outputs": [
        {
          "output_type": "stream",
          "name": "stdout",
          "text": [
            "Drive already mounted at /content/drive; to attempt to forcibly remount, call drive.mount(\"/content/drive\", force_remount=True).\n"
          ]
        }
      ]
    },
    {
      "cell_type": "code",
      "source": [
        "device = torch.device('cuda' if torch.cuda.is_available() else 'cpu')"
      ],
      "metadata": {
        "id": "-q2DBw9cLBLX"
      },
      "execution_count": 898,
      "outputs": []
    },
    {
      "cell_type": "code",
      "source": [
        "# class TranslationDataset:\n",
        "#   def __init__(self, filepath):\n",
        "#     self.spacy_en = spacy.load('en_core_web_sm')\n",
        "#     self.spacy_de = spacy.load('de_core_news_sm')\n",
        "#     self.SRC = Field(tokenize=self.tokenize_de, \n",
        "#                 init_token='<sos>', \n",
        "#                 eos_token='<eos>', \n",
        "#                 lower=True, \n",
        "#                 batch_first=False)\n",
        "#     self.TRG = Field(tokenize=self.tokenize_en, \n",
        "#                 init_token='<sos>', \n",
        "#                 eos_token='<eos>', \n",
        "#                 lower=True, \n",
        "#                 batch_first=False)\n",
        "#     self.dataset = TabularDataset(\n",
        "#         path=filepath, format='tsv', skip_header=True,\n",
        "#         fields=[('trg', self.TRG), ('src', self.SRC)]\n",
        "#     )\n",
        "    \n",
        "#   def __len__(self):\n",
        "#     length = len(self.dataset)\n",
        "#     return length\n",
        "\n",
        "#   def tokenize_de(self, text):\n",
        "#     tokens = [tok.text for tok in self.spacy_de.tokenizer(text)]\n",
        "#     if not tokens:\n",
        "#         return []\n",
        "#     return tokens\n",
        "\n",
        "#   def tokenize_en(self, text):\n",
        "#     tokens = [tok.text for tok in self.spacy_en.tokenizer(text)]\n",
        "#     if not tokens:\n",
        "#         return []\n",
        "#     return tokens\n",
        "  \n",
        "#   def __getitem__(self, idx):\n",
        "#     en = self.dataset[idx].trg\n",
        "#     de = self.dataset[idx].src\n",
        "#     return de, en\n",
        "\n",
        "#   def splitDataset(self, batch_size=32):\n",
        "#     train_data, valid_data, test_data = self.dataset.split(split_ratio=[0.8, 0.1, 0.1])\n",
        "#     return train_data, valid_data, test_data\n",
        "  \n",
        "#   def buildVocab(self, data):\n",
        "#     self.SRC.build_vocab(data, min_freq = 2)\n",
        "#     self.TRG.build_vocab(data, min_freq = 2)\n",
        "  \n",
        "#   def setIterator(self, train_data, valid_data, test_data, batch_size=32):\n",
        "#     train_iterator, valid_iterator, test_iterator = BucketIterator.splits((train_data, valid_data, test_data), batch_size=batch_size, device=device)\n",
        "#     return train_iterator, valid_iterator, test_iterator\n",
        "\n",
        "  \n",
        "#   def getSrcTrg(self):\n",
        "#     return self.SRC, self.TRG\n"
      ],
      "metadata": {
        "id": "0qCTZRP7kItH"
      },
      "execution_count": 899,
      "outputs": []
    },
    {
      "cell_type": "code",
      "source": [
        "# dataset = TranslationDataset('/content/drive/MyDrive/dataset.tsv')"
      ],
      "metadata": {
        "id": "oD1RhkiCXe3E"
      },
      "execution_count": 900,
      "outputs": []
    },
    {
      "cell_type": "code",
      "source": [
        "# dataset[8]"
      ],
      "metadata": {
        "id": "P2bwSc_6OGSz"
      },
      "execution_count": 901,
      "outputs": []
    },
    {
      "cell_type": "code",
      "source": [
        "# train_data, valid_data, test_data = dataset.splitDataset(8)"
      ],
      "metadata": {
        "id": "SEawFpYkXsQR"
      },
      "execution_count": 902,
      "outputs": []
    },
    {
      "cell_type": "code",
      "source": [
        "# dataset.buildVocab(train_data)"
      ],
      "metadata": {
        "id": "lHTfyHcloilB"
      },
      "execution_count": 903,
      "outputs": []
    },
    {
      "cell_type": "code",
      "source": [
        "# train_iterator, valid_iterator, test_iterator = dataset.setIterator(train_data, valid_data, test_data, 8)"
      ],
      "metadata": {
        "id": "-h4Yq1rDorv7"
      },
      "execution_count": 904,
      "outputs": []
    },
    {
      "cell_type": "code",
      "source": [
        "# SRC, TRG = dataset.getSrcTrg()"
      ],
      "metadata": {
        "id": "2kBouTr6z94a"
      },
      "execution_count": 905,
      "outputs": []
    },
    {
      "cell_type": "code",
      "source": [
        "spacy_de = spacy.load('de_core_news_sm')\n",
        "spacy_en = spacy.load('en_core_web_sm')\n",
        "\n",
        "def tokenize_de(text):\n",
        "    \"\"\"\n",
        "    Tokenizes German text from a string into a list of strings\n",
        "    \"\"\"\n",
        "    return [tok.text for tok in spacy_de.tokenizer(text)]\n",
        "\n",
        "def tokenize_en(text):\n",
        "    \"\"\"\n",
        "    Tokenizes English text from a string into a list of strings\n",
        "    \"\"\"\n",
        "    return [tok.text for tok in spacy_en.tokenizer(text)]\n",
        "\n",
        "SRC = Field(tokenize = tokenize_de, \n",
        "            init_token = '<sos>', \n",
        "            eos_token = '<eos>', \n",
        "            lower = True, \n",
        "            batch_first = True)\n",
        "\n",
        "TRG = Field(tokenize = tokenize_en, \n",
        "            init_token = '<sos>', \n",
        "            eos_token = '<eos>', \n",
        "            lower = True, \n",
        "            batch_first = True)\n",
        "\n",
        "# train_data, valid_data, test_data = Multi30k.splits(exts = ('.de', '.en'), \n",
        "#                                                     fields = (SRC, TRG))\n",
        "\n",
        "# for i in range(5):\n",
        "#     print(vars(train_data.examples[i]))\n",
        "\n",
        "\n",
        "dataset = TabularDataset(\n",
        "        path='/content/drive/MyDrive/filtered_dataset.tsv', format='tsv', skip_header=True,\n",
        "        fields=[('trg', TRG), ('src', SRC)]\n",
        "    )\n",
        "train_data, valid_data, test_data = dataset.split(split_ratio=[0.8, 0.1, 0.1])\n",
        "\n",
        "for i in range(5):\n",
        "    print(vars(train_data.examples[i]))\n",
        "\n",
        "SRC.build_vocab(train_data, min_freq = 2)\n",
        "TRG.build_vocab(train_data, min_freq = 2)\n",
        "\n",
        "device = torch.device('cuda' if torch.cuda.is_available() else 'cpu')\n",
        "\n",
        "BATCH_SIZE = 128\n",
        "\n",
        "# def sort_key(example):\n",
        "#     # return the length of the source sentence\n",
        "#     return len(example.src)\n",
        "\n",
        "train_iterator, valid_iterator, test_iterator = BucketIterator.splits(\n",
        "    (train_data, valid_data, test_data), \n",
        "    batch_size=BATCH_SIZE,\n",
        "    device=device,\n",
        "    sort_key=lambda x: len(x.src),\n",
        "    sort_within_batch=True,\n",
        ")"
      ],
      "metadata": {
        "colab": {
          "base_uri": "https://localhost:8080/"
        },
        "id": "kDF3ez6NaVdD",
        "outputId": "9ceebc7d-b615-4cf3-ee03-d729f89da458"
      },
      "execution_count": 906,
      "outputs": [
        {
          "output_type": "stream",
          "name": "stdout",
          "text": [
            "{'trg': ['international', 'experiences'], 'src': ['internationale', 'erfahrungen']}\n",
            "{'trg': ['accessibility', 'statement', 'page'], 'src': ['seite', '\"', 'accessity', 'anweisung', '\"']}\n",
            "{'trg': ['landmarks', 'in', 'yale', '’s', 'history'], 'src': ['sehenswürdigkeiten', 'in', 'der', 'geschichte', 'von', 'yale']}\n",
            "{'trg': ['share', 'this', 'with', 'twitter'], 'src': ['teilen', 'sie', 'dies', 'mit', 'twitter']}\n",
            "{'trg': ['a', 'number', 'of', 'our', 'centers', 'and', 'institutes', 'offer', 'additional', 'opportunities', 'for', 'graduate', 'and', 'professional', 'study', '.'], 'src': ['einige', 'unserer', 'zentren', 'und', 'institute', 'bieten', 'zusätzliche', 'möglichkeiten', 'für', 'absolventen', 'und', 'berufstudien', '.']}\n"
          ]
        }
      ]
    },
    {
      "cell_type": "markdown",
      "source": [
        "# **Building the Model**"
      ],
      "metadata": {
        "id": "2wHHDdfpGrdF"
      }
    },
    {
      "cell_type": "markdown",
      "source": [
        "**Encoder**"
      ],
      "metadata": {
        "id": "SM-QVlpoIY4r"
      }
    },
    {
      "cell_type": "code",
      "source": [
        "class Encoder(nn.Module):\n",
        "    def __init__(self, \n",
        "                 input_dim, \n",
        "                 hid_dim, \n",
        "                 n_layers, \n",
        "                 n_heads, \n",
        "                 pf_dim,\n",
        "                 dropout, \n",
        "                 device,\n",
        "                 max_length = 100):\n",
        "        super().__init__()\n",
        "\n",
        "        self.device = device\n",
        "        \n",
        "        self.tok_embedding = nn.Embedding(input_dim, hid_dim)\n",
        "        self.pos_embedding = nn.Embedding(max_length, hid_dim)\n",
        "        \n",
        "        self.layers = nn.ModuleList([EncoderLayer(hid_dim, \n",
        "                                                  n_heads, \n",
        "                                                  pf_dim,\n",
        "                                                  dropout, \n",
        "                                                  device) \n",
        "                                     for _ in range(n_layers)])\n",
        "        \n",
        "        self.dropout = nn.Dropout(dropout)\n",
        "        self.scale = torch.sqrt(torch.FloatTensor([hid_dim])).to(device)\n",
        "        \n",
        "    def forward(self, src, src_mask):\n",
        "        #src = [batch size, src len]\n",
        "        #src_mask = [batch size, 1, 1, src len]\n",
        "        batch_size = src.shape[0]\n",
        "        src_len = src.shape[1]\n",
        "        \n",
        "        pos = torch.arange(0, src_len).unsqueeze(0).repeat(batch_size, 1).to(self.device)\n",
        "        #pos = [batch size, src len]\n",
        "        \n",
        "        src = self.dropout((self.tok_embedding(src) * self.scale) + self.pos_embedding(pos))  \n",
        "        #src = [batch size, src len, hid dim]\n",
        "        \n",
        "        for layer in self.layers:\n",
        "            src = layer(src, src_mask)\n",
        "            \n",
        "        #src = [batch size, src len, hid dim]\n",
        "            \n",
        "        return src"
      ],
      "metadata": {
        "id": "_rPy7y-OHFrD"
      },
      "execution_count": 907,
      "outputs": []
    },
    {
      "cell_type": "code",
      "source": [
        "class EncoderLayer(nn.Module):\n",
        "    def __init__(self, \n",
        "                 hid_dim, \n",
        "                 n_heads, \n",
        "                 pf_dim,  \n",
        "                 dropout, \n",
        "                 device):\n",
        "        super().__init__()\n",
        "        \n",
        "        self.self_attn_layer_norm = nn.LayerNorm(hid_dim)\n",
        "        self.ff_layer_norm = nn.LayerNorm(hid_dim)\n",
        "        self.self_attention = MultiHeadAttentionLayer(hid_dim, n_heads, dropout, device)\n",
        "        self.positionwise_feedforward = PositionwiseFeedforwardLayer(hid_dim, \n",
        "                                                                     pf_dim, \n",
        "                                                                     dropout)\n",
        "        self.dropout = nn.Dropout(dropout)\n",
        "        \n",
        "    def forward(self, src, src_mask):\n",
        "        #src = [batch size, src len, hid dim]\n",
        "        #src_mask = [batch size, 1, 1, src len] \n",
        "                \n",
        "        #self attention\n",
        "        _src, _ = self.self_attention(src, src, src, src_mask)\n",
        "        \n",
        "        #dropout, residual connection and layer norm\n",
        "        src = self.self_attn_layer_norm(src + self.dropout(_src))\n",
        "        \n",
        "        #src = [batch size, src len, hid dim]\n",
        "        \n",
        "        #positionwise feedforward\n",
        "        _src = self.positionwise_feedforward(src)\n",
        "        \n",
        "        #dropout, residual and layer norm\n",
        "        src = self.ff_layer_norm(src + self.dropout(_src))\n",
        "        \n",
        "        #src = [batch size, src len, hid dim]\n",
        "        \n",
        "        return src"
      ],
      "metadata": {
        "id": "RpuVkkTQHXfP"
      },
      "execution_count": 908,
      "outputs": []
    },
    {
      "cell_type": "code",
      "source": [
        "class MultiHeadAttentionLayer(nn.Module):\n",
        "    def __init__(self, hid_dim, n_heads, dropout, device):\n",
        "        super().__init__()\n",
        "        \n",
        "        assert hid_dim % n_heads == 0\n",
        "        \n",
        "        self.hid_dim = hid_dim\n",
        "        self.n_heads = n_heads\n",
        "        self.head_dim = hid_dim // n_heads\n",
        "        \n",
        "        self.fc_q = nn.Linear(hid_dim, hid_dim)\n",
        "        self.fc_k = nn.Linear(hid_dim, hid_dim)\n",
        "        self.fc_v = nn.Linear(hid_dim, hid_dim)\n",
        "        \n",
        "        self.fc_o = nn.Linear(hid_dim, hid_dim)\n",
        "        \n",
        "        self.dropout = nn.Dropout(dropout)\n",
        "        \n",
        "        self.scale = torch.sqrt(torch.FloatTensor([self.head_dim])).to(device)\n",
        "        \n",
        "    def forward(self, query, key, value, mask = None):\n",
        "        batch_size = query.shape[0]\n",
        "        #query = [batch size, query len, hid dim]\n",
        "        #key = [batch size, key len, hid dim]\n",
        "        #value = [batch size, value len, hid dim]\n",
        "                \n",
        "        Q = self.fc_q(query)\n",
        "        K = self.fc_k(key)\n",
        "        V = self.fc_v(value)\n",
        "        \n",
        "        #Q = [batch size, query len, hid dim]\n",
        "        #K = [batch size, key len, hid dim]\n",
        "        #V = [batch size, value len, hid dim]\n",
        "                \n",
        "        Q = Q.view(batch_size, -1, self.n_heads, self.head_dim).permute(0, 2, 1, 3)\n",
        "        K = K.view(batch_size, -1, self.n_heads, self.head_dim).permute(0, 2, 1, 3)\n",
        "        V = V.view(batch_size, -1, self.n_heads, self.head_dim).permute(0, 2, 1, 3)\n",
        "        \n",
        "        #Q = [batch size, n heads, query len, head dim]\n",
        "        #K = [batch size, n heads, key len, head dim]\n",
        "        #V = [batch size, n heads, value len, head dim]\n",
        "                \n",
        "        energy = torch.matmul(Q, K.permute(0, 1, 3, 2)) / self.scale\n",
        "        \n",
        "        #energy = [batch size, n heads, query len, key len]\n",
        "\n",
        "        if mask is not None:\n",
        "            energy = energy.masked_fill(mask == 0, -1e10)\n",
        "        \n",
        "        attention = torch.softmax(energy, dim = -1)\n",
        "        #attention = [batch size, n heads, query len, key len]\n",
        "                \n",
        "        x = torch.matmul(self.dropout(attention), V)\n",
        "        #x = [batch size, n heads, query len, head dim]\n",
        "        \n",
        "        x = x.permute(0, 2, 1, 3).contiguous()\n",
        "        \n",
        "        #x = [batch size, query len, n heads, head dim]\n",
        "        \n",
        "        x = x.view(batch_size, -1, self.hid_dim)\n",
        "        \n",
        "        #x = [batch size, query len, hid dim]\n",
        "        \n",
        "        x = self.fc_o(x)\n",
        "        \n",
        "        #x = [batch size, query len, hid dim]\n",
        "        \n",
        "        return x, attention"
      ],
      "metadata": {
        "id": "5aXcleHAHaPy"
      },
      "execution_count": 909,
      "outputs": []
    },
    {
      "cell_type": "code",
      "source": [
        "class PositionwiseFeedforwardLayer(nn.Module):\n",
        "    def __init__(self, hid_dim, pf_dim, dropout):\n",
        "        super().__init__()\n",
        "        \n",
        "        self.fc_1 = nn.Linear(hid_dim, pf_dim)\n",
        "        self.fc_2 = nn.Linear(pf_dim, hid_dim)\n",
        "        \n",
        "        self.dropout = nn.Dropout(dropout)\n",
        "        \n",
        "    def forward(self, x):\n",
        "        \n",
        "        #x = [batch size, seq len, hid dim]\n",
        "        \n",
        "        x = self.dropout(torch.relu(self.fc_1(x)))\n",
        "        \n",
        "        #x = [batch size, seq len, pf dim]\n",
        "        \n",
        "        x = self.fc_2(x)\n",
        "        \n",
        "        #x = [batch size, seq len, hid dim]\n",
        "        \n",
        "        return x"
      ],
      "metadata": {
        "id": "r1QEQ3OVHn03"
      },
      "execution_count": 910,
      "outputs": []
    },
    {
      "cell_type": "markdown",
      "source": [
        "**Decoder**"
      ],
      "metadata": {
        "id": "CJvj3Al-Idvn"
      }
    },
    {
      "cell_type": "code",
      "source": [
        "class Decoder(nn.Module):\n",
        "    def __init__(self, \n",
        "                 output_dim, \n",
        "                 hid_dim, \n",
        "                 n_layers, \n",
        "                 n_heads, \n",
        "                 pf_dim, \n",
        "                 dropout, \n",
        "                 device,\n",
        "                 max_length = 100):\n",
        "        super().__init__()\n",
        "        \n",
        "        self.device = device\n",
        "        \n",
        "        self.tok_embedding = nn.Embedding(output_dim, hid_dim)\n",
        "        self.pos_embedding = nn.Embedding(max_length, hid_dim)\n",
        "        \n",
        "        self.layers = nn.ModuleList([DecoderLayer(hid_dim, \n",
        "                                                  n_heads, \n",
        "                                                  pf_dim, \n",
        "                                                  dropout, \n",
        "                                                  device)\n",
        "                                     for _ in range(n_layers)])\n",
        "        \n",
        "        self.fc_out = nn.Linear(hid_dim, output_dim)\n",
        "        \n",
        "        self.dropout = nn.Dropout(dropout)\n",
        "        \n",
        "        self.scale = torch.sqrt(torch.FloatTensor([hid_dim])).to(device)\n",
        "        \n",
        "    def forward(self, trg, enc_src, trg_mask, src_mask):\n",
        "        \n",
        "        #trg = [batch size, trg len]\n",
        "        #enc_src = [batch size, src len, hid dim]\n",
        "        #trg_mask = [batch size, 1, trg len, trg len]\n",
        "        #src_mask = [batch size, 1, 1, src len]\n",
        "                \n",
        "        batch_size = trg.shape[0]\n",
        "        trg_len = trg.shape[1]\n",
        "        \n",
        "        pos = torch.arange(0, trg_len).unsqueeze(0).repeat(batch_size, 1).to(self.device)\n",
        "                            \n",
        "        #pos = [batch size, trg len]\n",
        "            \n",
        "        trg = self.dropout((self.tok_embedding(trg) * self.scale) + self.pos_embedding(pos))\n",
        "                \n",
        "        #trg = [batch size, trg len, hid dim]\n",
        "        \n",
        "        for layer in self.layers:\n",
        "            trg, attention = layer(trg, enc_src, trg_mask, src_mask)\n",
        "        \n",
        "        #trg = [batch size, trg len, hid dim]\n",
        "        #attention = [batch size, n heads, trg len, src len]\n",
        "        \n",
        "        output = self.fc_out(trg)\n",
        "        \n",
        "        #output = [batch size, trg len, output dim]\n",
        "            \n",
        "        return output, attention"
      ],
      "metadata": {
        "id": "e4owmFQbIf93"
      },
      "execution_count": 911,
      "outputs": []
    },
    {
      "cell_type": "code",
      "source": [
        "class DecoderLayer(nn.Module):\n",
        "    def __init__(self, \n",
        "                 hid_dim, \n",
        "                 n_heads, \n",
        "                 pf_dim, \n",
        "                 dropout, \n",
        "                 device):\n",
        "        super().__init__()\n",
        "        \n",
        "        self.self_attn_layer_norm = nn.LayerNorm(hid_dim)\n",
        "        self.enc_attn_layer_norm = nn.LayerNorm(hid_dim)\n",
        "        self.ff_layer_norm = nn.LayerNorm(hid_dim)\n",
        "        self.self_attention = MultiHeadAttentionLayer(hid_dim, n_heads, dropout, device)\n",
        "        self.encoder_attention = MultiHeadAttentionLayer(hid_dim, n_heads, dropout, device)\n",
        "        self.positionwise_feedforward = PositionwiseFeedforwardLayer(hid_dim, \n",
        "                                                                     pf_dim, \n",
        "                                                                     dropout)\n",
        "        self.dropout = nn.Dropout(dropout)\n",
        "        \n",
        "    def forward(self, trg, enc_src, trg_mask, src_mask):\n",
        "        \n",
        "        #trg = [batch size, trg len, hid dim]\n",
        "        #enc_src = [batch size, src len, hid dim]\n",
        "        #trg_mask = [batch size, 1, trg len, trg len]\n",
        "        #src_mask = [batch size, 1, 1, src len]\n",
        "        \n",
        "        #self attention\n",
        "        _trg, _ = self.self_attention(trg, trg, trg, trg_mask)\n",
        "        \n",
        "        #dropout, residual connection and layer norm\n",
        "        trg = self.self_attn_layer_norm(trg + self.dropout(_trg))\n",
        "            \n",
        "        #trg = [batch size, trg len, hid dim]\n",
        "            \n",
        "        #encoder attention\n",
        "        _trg, attention = self.encoder_attention(trg, enc_src, enc_src, src_mask)\n",
        "        \n",
        "        #dropout, residual connection and layer norm\n",
        "        trg = self.enc_attn_layer_norm(trg + self.dropout(_trg))\n",
        "                    \n",
        "        #trg = [batch size, trg len, hid dim]\n",
        "        \n",
        "        #positionwise feedforward\n",
        "        _trg = self.positionwise_feedforward(trg)\n",
        "        \n",
        "        #dropout, residual and layer norm\n",
        "        trg = self.ff_layer_norm(trg + self.dropout(_trg))\n",
        "        \n",
        "        #trg = [batch size, trg len, hid dim]\n",
        "        #attention = [batch size, n heads, trg len, src len]\n",
        "        \n",
        "        return trg, attention"
      ],
      "metadata": {
        "id": "qlvG4IwwIomY"
      },
      "execution_count": 912,
      "outputs": []
    },
    {
      "cell_type": "code",
      "source": [
        "class Seq2Seq(nn.Module):\n",
        "    def __init__(self, \n",
        "                 encoder, \n",
        "                 decoder, \n",
        "                 src_pad_idx, \n",
        "                 trg_pad_idx, \n",
        "                 device):\n",
        "        super().__init__()\n",
        "        \n",
        "        self.encoder = encoder\n",
        "        self.decoder = decoder\n",
        "        self.src_pad_idx = src_pad_idx\n",
        "        self.trg_pad_idx = trg_pad_idx\n",
        "        self.device = device\n",
        "        \n",
        "    def make_src_mask(self, src):\n",
        "        #src = [batch size, src len]\n",
        "        src_mask = (src != self.src_pad_idx).unsqueeze(1).unsqueeze(2)\n",
        "\n",
        "        #src_mask = [batch size, 1, 1, src len]\n",
        "\n",
        "        return src_mask\n",
        "    \n",
        "    def make_trg_mask(self, trg):\n",
        "        #trg = [batch size, trg len]\n",
        "        \n",
        "        trg_pad_mask = (trg != self.trg_pad_idx).unsqueeze(1).unsqueeze(2)\n",
        "        \n",
        "        #trg_pad_mask = [batch size, 1, 1, trg len]\n",
        "        \n",
        "        trg_len = trg.shape[1]\n",
        "        \n",
        "        trg_sub_mask = torch.tril(torch.ones((trg_len, trg_len), device=self.device)).bool()\n",
        "        \n",
        "        #trg_sub_mask = [trg len, trg len]\n",
        "            \n",
        "        trg_mask = trg_pad_mask & trg_sub_mask\n",
        "        \n",
        "        #trg_mask = [batch size, 1, trg len, trg len]\n",
        "        \n",
        "        return trg_mask\n",
        "\n",
        "    def forward(self, src, trg):\n",
        "        #src = [batch size, src len]\n",
        "        #trg = [batch size, trg len]\n",
        "                \n",
        "        src_mask = self.make_src_mask(src)\n",
        "        trg_mask = self.make_trg_mask(trg)\n",
        "        \n",
        "        #src_mask = [batch size, 1, 1, src len]\n",
        "        #trg_mask = [batch size, 1, trg len, trg len]\n",
        "        \n",
        "        enc_src = self.encoder(src, src_mask)\n",
        "        \n",
        "        #enc_src = [batch size, src len, hid dim]\n",
        "                \n",
        "        output, attention = self.decoder(trg, enc_src, trg_mask, src_mask)\n",
        "        \n",
        "        #output = [batch size, trg len, output dim]\n",
        "        #attention = [batch size, n heads, trg len, src len]\n",
        "        \n",
        "        return output, attention\n"
      ],
      "metadata": {
        "id": "tDyIAvb1Jtuu"
      },
      "execution_count": 913,
      "outputs": []
    },
    {
      "cell_type": "markdown",
      "source": [
        "# **Training Model**"
      ],
      "metadata": {
        "id": "whDxYzEf_mLa"
      }
    },
    {
      "cell_type": "code",
      "source": [
        "INPUT_DIM = len(SRC.vocab)\n",
        "OUTPUT_DIM = len(TRG.vocab)\n",
        "HID_DIM = 256\n",
        "ENC_LAYERS = 3\n",
        "DEC_LAYERS = 3\n",
        "ENC_HEADS = 8\n",
        "DEC_HEADS = 8\n",
        "ENC_PF_DIM = 512\n",
        "DEC_PF_DIM = 512\n",
        "ENC_DROPOUT = 0.1\n",
        "DEC_DROPOUT = 0.1\n",
        "\n",
        "enc = Encoder(INPUT_DIM, \n",
        "              HID_DIM, \n",
        "              ENC_LAYERS, \n",
        "              ENC_HEADS, \n",
        "              ENC_PF_DIM, \n",
        "              ENC_DROPOUT, \n",
        "              device)\n",
        "\n",
        "dec = Decoder(OUTPUT_DIM, \n",
        "              HID_DIM, \n",
        "              DEC_LAYERS, \n",
        "              DEC_HEADS, \n",
        "              DEC_PF_DIM, \n",
        "              DEC_DROPOUT, \n",
        "              device)"
      ],
      "metadata": {
        "id": "b2h8rSA8HZTX"
      },
      "execution_count": 914,
      "outputs": []
    },
    {
      "cell_type": "code",
      "source": [
        "SRC_PAD_IDX = SRC.vocab.stoi[SRC.pad_token]\n",
        "TRG_PAD_IDX = TRG.vocab.stoi[TRG.pad_token]\n",
        "\n",
        "model = Seq2Seq(enc, dec, SRC_PAD_IDX, TRG_PAD_IDX, device).to(device)"
      ],
      "metadata": {
        "id": "C0_dYj0yLURs"
      },
      "execution_count": 915,
      "outputs": []
    },
    {
      "cell_type": "code",
      "source": [
        "def count_parameters(model):\n",
        "    return sum(p.numel() for p in model.parameters() if p.requires_grad)\n",
        "\n",
        "print(f'The model has {count_parameters(model):,} trainable parameters')"
      ],
      "metadata": {
        "colab": {
          "base_uri": "https://localhost:8080/"
        },
        "id": "XQ71bmmgLZlN",
        "outputId": "7fa16258-e929-431d-ece1-bcffaf15837d"
      },
      "execution_count": 916,
      "outputs": [
        {
          "output_type": "stream",
          "name": "stdout",
          "text": [
            "The model has 4,139,703 trainable parameters\n"
          ]
        }
      ]
    },
    {
      "cell_type": "code",
      "source": [
        "def initialize_weights(m):\n",
        "    if hasattr(m, 'weight') and m.weight.dim() > 1:\n",
        "        nn.init.xavier_uniform_(m.weight.data)"
      ],
      "metadata": {
        "id": "4Yydq6HsLnQ6"
      },
      "execution_count": 917,
      "outputs": []
    },
    {
      "cell_type": "code",
      "source": [
        "model.apply(initialize_weights);"
      ],
      "metadata": {
        "id": "x5pWwunJLoQ4"
      },
      "execution_count": 918,
      "outputs": []
    },
    {
      "cell_type": "code",
      "source": [
        "LEARNING_RATE = 0.0005\n",
        "\n",
        "optimizer = torch.optim.Adam(model.parameters(), lr = LEARNING_RATE)"
      ],
      "metadata": {
        "id": "eFvF-ynmLxGj"
      },
      "execution_count": 919,
      "outputs": []
    },
    {
      "cell_type": "code",
      "source": [
        "criterion = nn.CrossEntropyLoss(ignore_index = TRG_PAD_IDX)"
      ],
      "metadata": {
        "id": "V3GTHtJnL0x5"
      },
      "execution_count": 920,
      "outputs": []
    },
    {
      "cell_type": "code",
      "source": [
        "def train(model, iterator, optimizer, criterion, clip):\n",
        "    \n",
        "    model.train()\n",
        "    \n",
        "    epoch_loss = 0\n",
        "    \n",
        "    for i, batch in enumerate(iterator):\n",
        "        \n",
        "        src = batch.src\n",
        "        trg = batch.trg\n",
        "        \n",
        "        optimizer.zero_grad()\n",
        "        \n",
        "        output, _ = model(src, trg[:,:-1])\n",
        "                \n",
        "        #output = [batch size, trg len - 1, output dim]\n",
        "        #trg = [batch size, trg len]\n",
        "            \n",
        "        output_dim = output.shape[-1]\n",
        "            \n",
        "        output = output.contiguous().view(-1, output_dim)\n",
        "        trg = trg[:,1:].contiguous().view(-1)\n",
        "                \n",
        "        #output = [batch size * trg len - 1, output dim]\n",
        "        #trg = [batch size * trg len - 1]\n",
        "            \n",
        "        loss = criterion(output, trg)\n",
        "        \n",
        "        loss.backward()\n",
        "        \n",
        "        torch.nn.utils.clip_grad_norm_(model.parameters(), clip)\n",
        "        \n",
        "        optimizer.step()\n",
        "        \n",
        "        epoch_loss += loss.item()\n",
        "        \n",
        "    return epoch_loss / len(iterator)"
      ],
      "metadata": {
        "id": "vDvsIrWKL5Q4"
      },
      "execution_count": 921,
      "outputs": []
    },
    {
      "cell_type": "code",
      "source": [
        "def evaluate(model, iterator, criterion):\n",
        "    \n",
        "    model.eval()\n",
        "    \n",
        "    epoch_loss = 0\n",
        "    \n",
        "    with torch.no_grad():\n",
        "    \n",
        "        for i, batch in enumerate(iterator):\n",
        "\n",
        "            src = batch.src\n",
        "            trg = batch.trg\n",
        "\n",
        "            output, _ = model(src, trg[:,:-1])\n",
        "            \n",
        "            #output = [batch size, trg len - 1, output dim]\n",
        "            #trg = [batch size, trg len]\n",
        "            \n",
        "            output_dim = output.shape[-1]\n",
        "            \n",
        "            output = output.contiguous().view(-1, output_dim)\n",
        "            trg = trg[:,1:].contiguous().view(-1)\n",
        "            \n",
        "            #output = [batch size * trg len - 1, output dim]\n",
        "            #trg = [batch size * trg len - 1]\n",
        "            \n",
        "            loss = criterion(output, trg)\n",
        "\n",
        "            epoch_loss += loss.item()\n",
        "        \n",
        "    return epoch_loss / len(iterator)"
      ],
      "metadata": {
        "id": "1AFAN-P6L9d2"
      },
      "execution_count": 922,
      "outputs": []
    },
    {
      "cell_type": "code",
      "source": [
        "def epoch_time(start_time, end_time):\n",
        "    elapsed_time = end_time - start_time\n",
        "    elapsed_mins = int(elapsed_time / 60)\n",
        "    elapsed_secs = int(elapsed_time - (elapsed_mins * 60))\n",
        "    return elapsed_mins, elapsed_secs"
      ],
      "metadata": {
        "id": "kwOhsfkdMBNh"
      },
      "execution_count": 923,
      "outputs": []
    },
    {
      "cell_type": "code",
      "source": [
        "import random\n",
        "import math\n",
        "import time"
      ],
      "metadata": {
        "id": "HJ73d4XJMNK1"
      },
      "execution_count": 924,
      "outputs": []
    },
    {
      "cell_type": "code",
      "source": [
        "# Print the size of the SRC and TRG vocabularies\n",
        "print(len(SRC.vocab), len(TRG.vocab))\n",
        "\n",
        "# Get a batch from the iterator\n",
        "batch = next(iter(train_iterator))\n",
        "\n",
        "# Print the maximum index value in the input tensor\n",
        "print(torch.max(batch.src).item())"
      ],
      "metadata": {
        "colab": {
          "base_uri": "https://localhost:8080/"
        },
        "id": "rKBW-zGGpUYa",
        "outputId": "36fc8da3-c537-475e-bfff-5f311fa40e89"
      },
      "execution_count": 925,
      "outputs": [
        {
          "output_type": "stream",
          "name": "stdout",
          "text": [
            "160 183\n",
            "159\n"
          ]
        }
      ]
    },
    {
      "cell_type": "code",
      "source": [
        "print(torch.max(batch.src).item())\n",
        "print(enc.tok_embedding.weight.size())"
      ],
      "metadata": {
        "colab": {
          "base_uri": "https://localhost:8080/"
        },
        "id": "WUApkeSLu_Ek",
        "outputId": "22df766b-4dd5-4105-fe5c-a0c551c463a3"
      },
      "execution_count": 926,
      "outputs": [
        {
          "output_type": "stream",
          "name": "stdout",
          "text": [
            "159\n",
            "torch.Size([160, 256])\n"
          ]
        }
      ]
    },
    {
      "cell_type": "code",
      "source": [
        "path = '/content/drive/MyDrive/model.pt'"
      ],
      "metadata": {
        "id": "E53yoakQ9rzX"
      },
      "execution_count": 927,
      "outputs": []
    },
    {
      "cell_type": "code",
      "source": [
        "N_EPOCHS = 50\n",
        "CLIP = 1\n",
        "\n",
        "best_valid_loss = float('inf')\n",
        "\n",
        "for epoch in range(N_EPOCHS):\n",
        "    \n",
        "    start_time = time.time()\n",
        "    \n",
        "    train_loss = train(model, train_iterator, optimizer, criterion, CLIP)\n",
        "    valid_loss = evaluate(model, valid_iterator, criterion)\n",
        "    \n",
        "    end_time = time.time()\n",
        "    \n",
        "    epoch_mins, epoch_secs = epoch_time(start_time, end_time)\n",
        "    \n",
        "    if valid_loss < best_valid_loss:\n",
        "        best_valid_loss = valid_loss\n",
        "        torch.save(model.state_dict(), path)\n",
        "    \n",
        "    print(f'Epoch: {epoch+1:02} | Time: {epoch_mins}m {epoch_secs}s')\n",
        "    print(f'\\tTrain Loss: {train_loss:.3f} | Train PPL: {math.exp(train_loss):7.3f}')\n",
        "    print(f'\\t Val. Loss: {valid_loss:.3f} |  Val. PPL: {math.exp(valid_loss):7.3f}')"
      ],
      "metadata": {
        "colab": {
          "base_uri": "https://localhost:8080/"
        },
        "id": "QZ1EO9CoMH2j",
        "outputId": "7e23ce5c-d6c4-4bfe-ae73-ee1b5bc35ec7"
      },
      "execution_count": 928,
      "outputs": [
        {
          "output_type": "stream",
          "name": "stdout",
          "text": [
            "Epoch: 01 | Time: 0m 3s\n",
            "\tTrain Loss: 5.830 | Train PPL: 340.367\n",
            "\t Val. Loss: 3.385 |  Val. PPL:  29.524\n",
            "Epoch: 02 | Time: 0m 3s\n",
            "\tTrain Loss: 4.207 | Train PPL:  67.155\n",
            "\t Val. Loss: 2.997 |  Val. PPL:  20.016\n",
            "Epoch: 03 | Time: 0m 2s\n",
            "\tTrain Loss: 3.847 | Train PPL:  46.844\n",
            "\t Val. Loss: 2.858 |  Val. PPL:  17.435\n",
            "Epoch: 04 | Time: 0m 2s\n",
            "\tTrain Loss: 3.796 | Train PPL:  44.510\n",
            "\t Val. Loss: 3.097 |  Val. PPL:  22.138\n",
            "Epoch: 05 | Time: 0m 2s\n",
            "\tTrain Loss: 3.689 | Train PPL:  39.991\n",
            "\t Val. Loss: 2.863 |  Val. PPL:  17.508\n",
            "Epoch: 06 | Time: 0m 2s\n",
            "\tTrain Loss: 3.716 | Train PPL:  41.104\n",
            "\t Val. Loss: 2.833 |  Val. PPL:  17.003\n",
            "Epoch: 07 | Time: 0m 3s\n",
            "\tTrain Loss: 3.596 | Train PPL:  36.456\n",
            "\t Val. Loss: 2.835 |  Val. PPL:  17.023\n",
            "Epoch: 08 | Time: 0m 3s\n",
            "\tTrain Loss: 3.530 | Train PPL:  34.135\n",
            "\t Val. Loss: 2.747 |  Val. PPL:  15.602\n",
            "Epoch: 09 | Time: 0m 2s\n",
            "\tTrain Loss: 3.449 | Train PPL:  31.479\n",
            "\t Val. Loss: 2.735 |  Val. PPL:  15.411\n",
            "Epoch: 10 | Time: 0m 2s\n",
            "\tTrain Loss: 3.387 | Train PPL:  29.566\n",
            "\t Val. Loss: 2.679 |  Val. PPL:  14.576\n",
            "Epoch: 11 | Time: 0m 2s\n",
            "\tTrain Loss: 3.260 | Train PPL:  26.040\n",
            "\t Val. Loss: 2.663 |  Val. PPL:  14.338\n",
            "Epoch: 12 | Time: 0m 2s\n",
            "\tTrain Loss: 3.205 | Train PPL:  24.645\n",
            "\t Val. Loss: 2.610 |  Val. PPL:  13.597\n",
            "Epoch: 13 | Time: 0m 3s\n",
            "\tTrain Loss: 3.052 | Train PPL:  21.154\n",
            "\t Val. Loss: 2.562 |  Val. PPL:  12.957\n",
            "Epoch: 14 | Time: 0m 3s\n",
            "\tTrain Loss: 2.916 | Train PPL:  18.474\n",
            "\t Val. Loss: 2.814 |  Val. PPL:  16.673\n",
            "Epoch: 15 | Time: 0m 2s\n",
            "\tTrain Loss: 2.926 | Train PPL:  18.657\n",
            "\t Val. Loss: 2.586 |  Val. PPL:  13.278\n",
            "Epoch: 16 | Time: 0m 2s\n",
            "\tTrain Loss: 2.810 | Train PPL:  16.617\n",
            "\t Val. Loss: 2.587 |  Val. PPL:  13.292\n",
            "Epoch: 17 | Time: 0m 2s\n",
            "\tTrain Loss: 2.732 | Train PPL:  15.369\n",
            "\t Val. Loss: 2.693 |  Val. PPL:  14.778\n",
            "Epoch: 18 | Time: 0m 2s\n",
            "\tTrain Loss: 2.650 | Train PPL:  14.160\n",
            "\t Val. Loss: 2.625 |  Val. PPL:  13.811\n",
            "Epoch: 19 | Time: 0m 3s\n",
            "\tTrain Loss: 2.586 | Train PPL:  13.281\n",
            "\t Val. Loss: 2.429 |  Val. PPL:  11.349\n",
            "Epoch: 20 | Time: 0m 2s\n",
            "\tTrain Loss: 2.411 | Train PPL:  11.142\n",
            "\t Val. Loss: 2.493 |  Val. PPL:  12.097\n",
            "Epoch: 21 | Time: 0m 2s\n",
            "\tTrain Loss: 2.365 | Train PPL:  10.642\n",
            "\t Val. Loss: 2.642 |  Val. PPL:  14.035\n",
            "Epoch: 22 | Time: 0m 2s\n",
            "\tTrain Loss: 2.292 | Train PPL:   9.897\n",
            "\t Val. Loss: 2.412 |  Val. PPL:  11.159\n",
            "Epoch: 23 | Time: 0m 2s\n",
            "\tTrain Loss: 2.220 | Train PPL:   9.209\n",
            "\t Val. Loss: 2.414 |  Val. PPL:  11.183\n",
            "Epoch: 24 | Time: 0m 2s\n",
            "\tTrain Loss: 2.079 | Train PPL:   7.996\n",
            "\t Val. Loss: 2.451 |  Val. PPL:  11.601\n",
            "Epoch: 25 | Time: 0m 3s\n",
            "\tTrain Loss: 2.024 | Train PPL:   7.569\n",
            "\t Val. Loss: 2.378 |  Val. PPL:  10.787\n",
            "Epoch: 26 | Time: 0m 2s\n",
            "\tTrain Loss: 1.948 | Train PPL:   7.018\n",
            "\t Val. Loss: 2.348 |  Val. PPL:  10.465\n",
            "Epoch: 27 | Time: 0m 2s\n",
            "\tTrain Loss: 1.869 | Train PPL:   6.482\n",
            "\t Val. Loss: 2.541 |  Val. PPL:  12.697\n",
            "Epoch: 28 | Time: 0m 2s\n",
            "\tTrain Loss: 1.854 | Train PPL:   6.386\n",
            "\t Val. Loss: 2.399 |  Val. PPL:  11.015\n",
            "Epoch: 29 | Time: 0m 2s\n",
            "\tTrain Loss: 1.805 | Train PPL:   6.082\n",
            "\t Val. Loss: 2.413 |  Val. PPL:  11.169\n",
            "Epoch: 30 | Time: 0m 2s\n",
            "\tTrain Loss: 1.746 | Train PPL:   5.731\n",
            "\t Val. Loss: 2.607 |  Val. PPL:  13.559\n",
            "Epoch: 31 | Time: 0m 3s\n",
            "\tTrain Loss: 1.692 | Train PPL:   5.431\n",
            "\t Val. Loss: 2.429 |  Val. PPL:  11.351\n",
            "Epoch: 32 | Time: 0m 2s\n",
            "\tTrain Loss: 1.567 | Train PPL:   4.790\n",
            "\t Val. Loss: 2.365 |  Val. PPL:  10.647\n",
            "Epoch: 33 | Time: 0m 2s\n",
            "\tTrain Loss: 1.488 | Train PPL:   4.427\n",
            "\t Val. Loss: 2.461 |  Val. PPL:  11.716\n",
            "Epoch: 34 | Time: 0m 2s\n",
            "\tTrain Loss: 1.439 | Train PPL:   4.217\n",
            "\t Val. Loss: 2.442 |  Val. PPL:  11.491\n",
            "Epoch: 35 | Time: 0m 2s\n",
            "\tTrain Loss: 1.363 | Train PPL:   3.909\n",
            "\t Val. Loss: 2.371 |  Val. PPL:  10.708\n",
            "Epoch: 36 | Time: 0m 2s\n",
            "\tTrain Loss: 1.351 | Train PPL:   3.860\n",
            "\t Val. Loss: 2.405 |  Val. PPL:  11.073\n",
            "Epoch: 37 | Time: 0m 3s\n",
            "\tTrain Loss: 1.272 | Train PPL:   3.566\n",
            "\t Val. Loss: 2.438 |  Val. PPL:  11.451\n",
            "Epoch: 38 | Time: 0m 3s\n",
            "\tTrain Loss: 1.204 | Train PPL:   3.335\n",
            "\t Val. Loss: 2.432 |  Val. PPL:  11.381\n",
            "Epoch: 39 | Time: 0m 2s\n",
            "\tTrain Loss: 1.163 | Train PPL:   3.199\n",
            "\t Val. Loss: 2.429 |  Val. PPL:  11.350\n",
            "Epoch: 40 | Time: 0m 2s\n",
            "\tTrain Loss: 1.105 | Train PPL:   3.019\n",
            "\t Val. Loss: 2.461 |  Val. PPL:  11.719\n",
            "Epoch: 41 | Time: 0m 2s\n",
            "\tTrain Loss: 1.077 | Train PPL:   2.937\n",
            "\t Val. Loss: 2.693 |  Val. PPL:  14.780\n",
            "Epoch: 42 | Time: 0m 2s\n",
            "\tTrain Loss: 1.146 | Train PPL:   3.146\n",
            "\t Val. Loss: 2.481 |  Val. PPL:  11.954\n",
            "Epoch: 43 | Time: 0m 3s\n",
            "\tTrain Loss: 1.049 | Train PPL:   2.853\n",
            "\t Val. Loss: 2.598 |  Val. PPL:  13.441\n",
            "Epoch: 44 | Time: 0m 3s\n",
            "\tTrain Loss: 0.999 | Train PPL:   2.716\n",
            "\t Val. Loss: 2.603 |  Val. PPL:  13.510\n",
            "Epoch: 45 | Time: 0m 2s\n",
            "\tTrain Loss: 0.966 | Train PPL:   2.628\n",
            "\t Val. Loss: 2.602 |  Val. PPL:  13.497\n",
            "Epoch: 46 | Time: 0m 2s\n",
            "\tTrain Loss: 0.910 | Train PPL:   2.484\n",
            "\t Val. Loss: 2.698 |  Val. PPL:  14.857\n",
            "Epoch: 47 | Time: 0m 2s\n",
            "\tTrain Loss: 0.989 | Train PPL:   2.687\n",
            "\t Val. Loss: 2.730 |  Val. PPL:  15.332\n",
            "Epoch: 48 | Time: 0m 2s\n",
            "\tTrain Loss: 0.971 | Train PPL:   2.641\n",
            "\t Val. Loss: 2.655 |  Val. PPL:  14.221\n",
            "Epoch: 49 | Time: 0m 3s\n",
            "\tTrain Loss: 1.089 | Train PPL:   2.972\n",
            "\t Val. Loss: 2.607 |  Val. PPL:  13.565\n",
            "Epoch: 50 | Time: 0m 3s\n",
            "\tTrain Loss: 0.950 | Train PPL:   2.586\n",
            "\t Val. Loss: 2.946 |  Val. PPL:  19.026\n"
          ]
        }
      ]
    },
    {
      "cell_type": "code",
      "source": [
        "model.load_state_dict(torch.load(path))\n",
        "\n",
        "test_loss = evaluate(model, test_iterator, criterion)\n",
        "\n",
        "print(f'| Test Loss: {test_loss:.3f} | Test PPL: {math.exp(test_loss):7.3f} |')"
      ],
      "metadata": {
        "colab": {
          "base_uri": "https://localhost:8080/"
        },
        "id": "iY_rReTa-9NX",
        "outputId": "646fd94b-6e11-40bd-802d-63331f520db7"
      },
      "execution_count": 929,
      "outputs": [
        {
          "output_type": "stream",
          "name": "stdout",
          "text": [
            "| Test Loss: 2.670 | Test PPL:  14.438 |\n"
          ]
        }
      ]
    }
  ]
}