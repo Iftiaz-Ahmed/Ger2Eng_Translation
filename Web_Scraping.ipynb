{
  "nbformat": 4,
  "nbformat_minor": 0,
  "metadata": {
    "colab": {
      "provenance": []
    },
    "kernelspec": {
      "name": "python3",
      "display_name": "Python 3"
    },
    "language_info": {
      "name": "python"
    }
  },
  "cells": [
    {
      "cell_type": "code",
      "source": [
        "# !pip install googletrans==4.0.0-rc1\n",
        "# !pip install goslate"
      ],
      "metadata": {
        "id": "cYY5ymo3fEB7"
      },
      "execution_count": null,
      "outputs": []
    },
    {
      "cell_type": "code",
      "execution_count": null,
      "metadata": {
        "id": "_hB-BMdeDwt8"
      },
      "outputs": [],
      "source": [
        "from bs4 import BeautifulSoup\n",
        "import requests\n",
        "from googletrans import Translator\n",
        "import re\n",
        "import pandas as pd\n",
        "# import goslate"
      ]
    },
    {
      "cell_type": "code",
      "source": [
        "from google.colab import drive\n",
        "drive.mount('/content/drive')"
      ],
      "metadata": {
        "colab": {
          "base_uri": "https://localhost:8080/"
        },
        "id": "H5koWuI-0Hny",
        "outputId": "c4c9e293-58ee-4ad9-e7c6-3d25b69d7b62"
      },
      "execution_count": null,
      "outputs": [
        {
          "output_type": "stream",
          "name": "stdout",
          "text": [
            "Drive already mounted at /content/drive; to attempt to forcibly remount, call drive.mount(\"/content/drive\", force_remount=True).\n"
          ]
        }
      ]
    },
    {
      "cell_type": "code",
      "source": [
        "html_text = requests.get('https://your.yale.edu/policies-procedures/procedures/1605-pr01-web-accessibility-procedure').text"
      ],
      "metadata": {
        "id": "EE5Yf04iF7I5"
      },
      "execution_count": null,
      "outputs": []
    },
    {
      "cell_type": "code",
      "source": [
        "html_text"
      ],
      "metadata": {
        "colab": {
          "base_uri": "https://localhost:8080/",
          "height": 105
        },
        "id": "5Y0b436RMLA7",
        "outputId": "af4419d5-f313-4c8c-9bd3-455ade37f36f"
      },
      "execution_count": null,
      "outputs": [
        {
          "output_type": "execute_result",
          "data": {
            "text/plain": [
              "'<!DOCTYPE html>\\n<!--[if IEMobile 7]><html class=\"iem7\"  lang=\"en\" dir=\"ltr\"><![endif]-->\\n<!--[if lte IE 6]><html class=\"lt-ie9 lt-ie8 lt-ie7\"  lang=\"en\" dir=\"ltr\"><![endif]-->\\n<!--[if (IE 7)&(!IEMobile)]><html class=\"lt-ie9 lt-ie8\"  lang=\"en\" dir=\"ltr\"><![endif]-->\\n<!--[if IE 8]><html class=\"lt-ie9\"  lang=\"en\" dir=\"ltr\"><![endif]-->\\n<!--[if (gte IE 9)|(gt IEMobile 7)]><!--><html  lang=\"en\" dir=\"ltr\" prefix=\"content: http://purl.org/rss/1.0/modules/content/ dc: http://purl.org/dc/terms/ foaf: http://xmlns.com/foaf/0.1/ og: http://ogp.me/ns# rdfs: http://www.w3.org/2000/01/rdf-schema# sioc: http://rdfs.org/sioc/ns# sioct: http://rdfs.org/sioc/types# skos: http://www.w3.org/2004/02/skos/core# xsd: http://www.w3.org/2001/XMLSchema#\"><!--<![endif]-->\\n\\n<head>\\n  <meta http-equiv=\"X-UA-Compatible\" content=\"IE=edge\" />\\n<meta charset=\"utf-8\" /><script type=\"text/javascript\">(window.NREUM||(NREUM={})).init={ajax:{deny_list:[\"bam.nr-data.net\"]}};(window.NREUM||(NREUM={})).loader_config={licenseKey:\"6ac5e27a90\",applicationID:\"168632476\"};;(()=>{var e,t,r={8768:(e,t,r)=>{\"use strict\";r.d(t,{T:()=>n,p:()=>i});const n=/(iPad|iPhone|iPod)/g.test(navigator.userAgent),i=n&&Boolean(\"undefined\"==typeof SharedWorker)},6562:(e,t,r)=>{\"use strict\";r.d(t,{P_:()=>v,Mt:()=>p,C5:()=>d,DL:()=>w,OP:()=>R,lF:()=>z,Yu:()=>A,Dg:()=>h,CX:()=>f,GE:()=>y,sU:()=>M});var n={};r.r(n),r.d(n,{agent:()=>x,match:()=>k,version:()=>j});var i=r(6797),o=r(909),a=r(8610);class s{constructor(e,t){try{if(!e||\"object\"!=typeof e)return(0,a.Z)(\"New setting a Configurable requires an object as input\");if(!t||\"object\"!=typeof t)return(0,a.Z)(\"Setting a Configurable requires a model to set its initial properties\");Object.assign(this,t),Object.entries(e).forEach((e=>{let[t,r]=e;const n=(0,o.q)(t);n.length&&r&&\"object\"==typeof r&&n.forEach((e=>{e in r&&((0,a.Z)(\\'\"\\'.concat(e,\\'\" is a protected attribute and can not be changed in feature \\').concat(t,\".  It will have no effect.\")),delete r[e])})),this[t]=r}))}catch(e){(0,a.Z)(\"An error occured while setting a Configurable\",e)}}}const c={beacon:i.ce.beacon,errorBeacon:i.ce.errorBeacon,licenseKey:void 0,applicationID:void 0,sa:void 0,queueTime:void 0,applicationTime:void 0,ttGuid:void 0,user:void 0,account:void 0,product:void 0,extra:void 0,jsAttributes:{},userAttributes:void 0,atts:void 0,transactionName:void 0,tNamePlain:void 0},u={};function d(e){if(!e)throw new Error(\"All info objects require an agent identifier!\");if(!u[e])throw new Error(\"Info for \".concat(e,\" was never set\"));return u[e]}function f(e,t){if(!e)throw new Error(\"All info objects require an agent identifier!\");u[e]=new s(t,c),(0,i.Qy)(e,u[e],\"info\")}const l={allow_bfcache:!0,privacy:{cookies_enabled:!0},ajax:{deny_list:void 0,enabled:!0,harvestTimeSeconds:10},distributed_tracing:{enabled:void 0,exclude_newrelic_header:void 0,cors_use_newrelic_header:void 0,cors_use_tracecontext_headers:void 0,allowed_origins:void 0},ssl:void 0,obfuscate:void 0,jserrors:{enabled:!0,harvestTimeSeconds:10},metrics:{enabled:!0},page_action:{enabled:!0,harvestTimeSeconds:30},page_view_event:{enabled:!0},page_view_timing:{enabled:!0,harvestTimeSeconds:30,long_task:!1},session_trace:{enabled:!0,harvestTimeSeconds:10},spa:{enabled:!0,harvestTimeSeconds:10}},g={};function v(e){if(!e)throw new Error(\"All configuration objects require an agent identifier!\");if(!g[e])throw new Error(\"Configuration for \".concat(e,\" was never set\"));return g[e]}function h(e,t){if(!e)throw new Error(\"All configuration objects require an agent identifier!\");g[e]=new s(t,l),(0,i.Qy)(e,g[e],\"config\")}function p(e,t){if(!e)throw new Error(\"All configuration objects require an agent identifier!\");var r=v(e);if(r){for(var n=t.split(\".\"),i=0;i<n.length-1;i++)if(\"object\"!=typeof(r=r[n[i]]))return;r=r[n[n.length-1]]}return r}const m={accountID:void 0,trustKey:void 0,agentID:void 0,licenseKey:void 0,applicationID:void 0,xpid:void 0},b={};function w(e){if(!e)throw new Error(\"All loader-config objects require an agent identifier!\");if(!b[e])throw new Error(\"LoaderConfig for \".concat(e,\" was never set\"));return b[e]}function y(e,t){if(!e)throw new Error(\"All loader-config objects require an agent identifier!\");b[e]=new s(t,m),(0,i.Qy)(e,b[e],\"loader_config\")}const A=(0,i.mF)().o;var x=null,j=null;const _=/Version\\\\/(\\\\S+)\\\\s+Safari/;if(navigator.userAgent){var E=navigator.userAgent,D=E.match(_);D&&-1===E.indexOf(\"Chrome\")&&-1===E.indexOf(\"Chromium\")&&(x=\"Safari\",j=D[1])}function k(e,t){if(!x)return!1;if(e!==x)return!1;if(!t)return!0;if(!j)return!1;for(var r=j.split(\".\"),n=t.split(\".\"),i=0;i<n.length;i++)if(n[i]!==r[i])return!1;return!0}var S=r(5526),P=r(2374);const T=\"NRBA_SESSION_ID\";function N(){if(!P.il)return null;try{let e;return null===(e=window.sessionStorage.getItem(T))&&(e=(0,S.ky)(16),window.sessionStorage.setItem(T,e)),e}catch(e){return null}}var O=r(8226);const I=e=>({buildEnv:O.Re,customTransaction:void 0,disabled:!1,distMethod:O.gF,isolatedBacklog:!1,loaderType:void 0,maxBytes:3e4,offset:Math.floor(P._A?.performance?.timeOrigin||P._A?.performance?.timing?.navigationStart||Date.now()),onerror:void 0,origin:\"\"+P._A.location,ptid:void 0,releaseIds:{},sessionId:1==p(e,\"privacy.cookies_enabled\")?N():null,xhrWrappable:\"function\"==typeof P._A.XMLHttpRequest?.prototype?.addEventListener,userAgent:n,version:O.q4}),C={};function R(e){if(!e)throw new Error(\"All runtime objects require an agent identifier!\");if(!C[e])throw new Error(\"Runtime for \".concat(e,\" was never set\"));return C[e]}function M(e,t){if(!e)throw new Error(\"All runtime objects require an agent identifier!\");C[e]=new s(t,I(e)),(0,i.Qy)(e,C[e],\"runtime\")}function z(e){return function(e){try{const t=d(e);return!!t.licenseKey&&!!t.errorBeacon&&!!t.applicationID}catch(e){return!1}}(e)}},8226:(e,t,r)=>{\"use strict\";r.d(t,{Re:()=>i,gF:()=>o,q4:()=>n});const n=\"1.229.0\",i=\"PROD\",o=\"CDN\"},9557:(e,t,r)=>{\"use strict\";r.d(t,{w:()=>o});var n=r(8610);const i={agentIdentifier:\"\"};class o{constructor(e){try{if(\"object\"!=typeof e)return(0,n.Z)(\"shared context requires an object as input\");this.sharedContext={},Object.assign(this.sharedContext,i),Object.entries(e).forEach((e=>{let[t,r]=e;Object.keys(i).includes(t)&&(this.sharedContext[t]=r)}))}catch(e){(0,n.Z)(\"An error occured while setting SharedContext\",e)}}}},4329:(e,t,r)=>{\"use strict\";r.d(t,{L:()=>d,R:()=>c});var n=r(3752),i=r(7022),o=r(4045),a=r(2325);const s={};function c(e,t){const r={staged:!1,priority:a.p[t]||0};u(e),s[e].get(t)||s[e].set(t,r)}function u(e){e&&(s[e]||(s[e]=new Map))}function d(){let e=arguments.length>0&&void 0!==arguments[0]?arguments[0]:\"\",t=arguments.length>1&&void 0!==arguments[1]?arguments[1]:\"feature\";if(u(e),!e||!s[e].get(t))return a(t);s[e].get(t).staged=!0;const r=Array.from(s[e]);function a(t){const r=e?n.ee.get(e):n.ee,a=o.X.handlers;if(r.backlog&&a){var s=r.backlog[t],c=a[t];if(c){for(var u=0;s&&u<s.length;++u)f(s[u],c);(0,i.D)(c,(function(e,t){(0,i.D)(t,(function(t,r){r[0].on(e,r[1])}))}))}delete a[t],r.backlog[t]=null,r.emit(\"drain-\"+t,[])}}r.every((e=>{let[t,r]=e;return r.staged}))&&(r.sort(((e,t)=>e[1].priority-t[1].priority)),r.forEach((e=>{let[t]=e;a(t)})))}function f(e,t){var r=e[1];(0,i.D)(t[r],(function(t,r){var n=e[0];if(r[0]===n){var i=r[1],o=e[3],a=e[2];i.apply(o,a)}}))}},3752:(e,t,r)=>{\"use strict\";r.d(t,{ee:()=>u});var n=r(6797),i=r(3916),o=r(7022),a=r(6562),s=\"nr@context\";let c=(0,n.fP)();var u;function d(){}function f(){return new d}function l(){u.aborted=!0,u.backlog={}}c.ee?u=c.ee:(u=function e(t,r){var n={},c={},g={},v=!1;try{v=16===r.length&&(0,a.OP)(r).isolatedBacklog}catch(e){}var h={on:b,addEventListener:b,removeEventListener:w,emit:m,get:A,listeners:y,context:p,buffer:x,abort:l,aborted:!1,isBuffering:j,debugId:r,backlog:v?{}:t&&\"object\"==typeof t.backlog?t.backlog:{}};return h;function p(e){return e&&e instanceof d?e:e?(0,i.X)(e,s,f):f()}function m(e,r,n,i,o){if(!1!==o&&(o=!0),!u.aborted||i){t&&o&&t.emit(e,r,n);for(var a=p(n),s=y(e),d=s.length,f=0;f<d;f++)s[f].apply(a,r);var l=_()[c[e]];return l&&l.push([h,e,r,a]),a}}function b(e,t){n[e]=y(e).concat(t)}function w(e,t){var r=n[e];if(r)for(var i=0;i<r.length;i++)r[i]===t&&r.splice(i,1)}function y(e){return n[e]||[]}function A(t){return g[t]=g[t]||e(h,t)}function x(e,t){var r=_();h.aborted||(0,o.D)(e,(function(e,n){t=t||\"feature\",c[n]=t,t in r||(r[t]=[])}))}function j(e){return!!_()[c[e]]}function _(){return h.backlog}}(void 0,\"globalEE\"),c.ee=u)},9252:(e,t,r)=>{\"use strict\";r.d(t,{E:()=>n,p:()=>i});var n=r(3752).ee.get(\"handle\");function i(e,t,r,i,o){o?(o.buffer([e],i),o.emit(e,t,r)):(n.buffer([e],i),n.emit(e,t,r))}},4045:(e,t,r)=>{\"use strict\";r.d(t,{X:()=>o});var n=r(9252);o.on=a;var i=o.handlers={};function o(e,t,r,o){a(o||n.E,i,e,t,r)}function a(e,t,r,i,o){o||(o=\"feature\"),e||(e=n.E);var a=t[o]=t[o]||{};(a[r]=a[r]||[]).push([e,i])}},8544:(e,t,r)=>{\"use strict\";r.d(t,{bP:()=>s,iz:()=>c,m$:()=>a});var n=r(2374);let i=!1,o=!1;try{const e={get passive(){return i=!0,!1},get signal(){return o=!0,!1}};n._A.addEventListener(\"test\",null,e),n._A.removeEventListener(\"test\",null,e)}catch(e){}function a(e,t){return i||o?{capture:!!e,passive:i,signal:t}:!!e}function s(e,t){let r=arguments.length>2&&void 0!==arguments[2]&&arguments[2];window.addEventListener(e,t,a(r))}function c(e,t){let r=arguments.length>2&&void 0!==arguments[2]&&arguments[2];document.addEventListener(e,t,a(r))}},5526:(e,t,r)=>{\"use strict\";r.d(t,{Rl:()=>i,ky:()=>o});var n=r(2374);function i(){var e=null,t=0,r=n._A?.crypto||n._A?.msCrypto;function i(){return e?15&e[t++]:16*Math.random()|0}r&&r.getRandomValues&&(e=r.getRandomValues(new Uint8Array(31)));for(var o,a=\"xxxxxxxx-xxxx-4xxx-yxxx-xxxxxxxxxxxx\",s=\"\",c=0;c<a.length;c++)s+=\"x\"===(o=a[c])?i().toString(16):\"y\"===o?(o=3&i()|8).toString(16):o;return s}function o(e){var t=null,r=0,n=self.crypto||self.msCrypto;n&&n.getRandomValues&&Uint8Array&&(t=n.getRandomValues(new Uint8Array(31)));for(var i=[],o=0;o<e;o++)i.push(a().toString(16));return i.join(\"\");function a(){return t?15&t[r++]:16*Math.random()|0}}},2053:(e,t,r)=>{\"use strict\";function n(){return Math.round(performance.now())}r.d(t,{z:()=>n})},8610:(e,t,r)=>{\"use strict\";function n(e,t){console&&console.warn&&\"function\"==typeof console.warn&&(console.warn(\"New Relic: \".concat(e)),t&&console.warn(t))}r.d(t,{Z:()=>n})},3916:(e,t,r)=>{\"use strict\";r.d(t,{X:()=>i});var n=Object.prototype.hasOwnProperty;function i(e,t,r){if(n.call(e,t))return e[t];var i=r();if(Object.defineProperty&&Object.keys)try{return Object.defineProperty(e,t,{value:i,writable:!0,enumerable:!1}),i}catch(e){}return e[t]=i,i}},2374:(e,t,r)=>{\"use strict\";r.d(t,{_A:()=>o,il:()=>n,lW:()=>a,v6:()=>i});const n=Boolean(\"undefined\"!=typeof window&&window.document),i=Boolean(\"undefined\"!=typeof WorkerGlobalScope&&self.navigator instanceof WorkerNavigator);let o=(()=>{if(n)return window;if(i){if(\"undefined\"!=typeof globalThis&&globalThis instanceof WorkerGlobalScope)return globalThis;if(self instanceof WorkerGlobalScope)return self}throw new Error(\\'New Relic browser agent shutting down due to error: Unable to locate global scope. This is possibly due to code redefining browser global variables like \"self\" and \"window\".\\')})();function a(){return o}},7022:(e,t,r)=>{\"use strict\";r.d(t,{D:()=>i});var n=Object.prototype.hasOwnProperty;function i(e,t){var r=[],i=\"\",o=0;for(i in e)n.call(e,i)&&(r[o]=t(i,e[i]),o+=1);return r}},2438:(e,t,r)=>{\"use strict\";r.d(t,{P:()=>o});var n=r(3752);const i=()=>{const e=new WeakSet;return(t,r)=>{if(\"object\"==typeof r&&null!==r){if(e.has(r))return;e.add(r)}return r}};function o(e){try{return JSON.stringify(e,i())}catch(e){try{n.ee.emit(\"internal-error\",[e])}catch(e){}}}},2650:(e,t,r)=>{\"use strict\";r.d(t,{K:()=>a,b:()=>o});var n=r(8544);function i(){return\"undefined\"==typeof document||\"complete\"===document.readyState}function o(e,t){if(i())return e();(0,n.bP)(\"load\",e,t)}function a(e){if(i())return e();(0,n.iz)(\"DOMContentLoaded\",e)}},6797:(e,t,r)=>{\"use strict\";r.d(t,{EZ:()=>u,Qy:()=>c,ce:()=>o,fP:()=>a,gG:()=>d,mF:()=>s});var n=r(2053),i=r(2374);const o={beacon:\"bam.nr-data.net\",errorBeacon:\"bam.nr-data.net\"};function a(){return i._A.NREUM||(i._A.NREUM={}),void 0===i._A.newrelic&&(i._A.newrelic=i._A.NREUM),i._A.NREUM}function s(){let e=a();return e.o||(e.o={ST:i._A.setTimeout,SI:i._A.setImmediate,CT:i._A.clearTimeout,XHR:i._A.XMLHttpRequest,REQ:i._A.Request,EV:i._A.Event,PR:i._A.Promise,MO:i._A.MutationObserver,FETCH:i._A.fetch}),e}function c(e,t,r){let i=a();const o=i.initializedAgents||{},s=o[e]||{};return Object.keys(s).length||(s.initializedAt={ms:(0,n.z)(),date:new Date}),i.initializedAgents={...o,[e]:{...s,[r]:t}},i}function u(e,t){a()[e]=t}function d(){return function(){let e=a();const t=e.info||{};e.info={beacon:o.beacon,errorBeacon:o.errorBeacon,...t}}(),function(){let e=a();const t=e.init||{};e.init={...t}}(),s(),function(){let e=a();const t=e.loader_config||{};e.loader_config={...t}}(),a()}},6998:(e,t,r)=>{\"use strict\";r.d(t,{N:()=>i});var n=r(8544);function i(e){let t=arguments.length>1&&void 0!==arguments[1]&&arguments[1];return void(0,n.iz)(\"visibilitychange\",(function(){if(t){if(\"hidden\"!=document.visibilityState)return;e()}e(document.visibilityState)}))}},6034:(e,t,r)=>{\"use strict\";r.d(t,{gF:()=>o,mY:()=>i,t9:()=>n,vz:()=>s,xS:()=>a});const n=r(2325).D.metrics,i=\"sm\",o=\"cm\",a=\"storeSupportabilityMetrics\",s=\"storeEventMetrics\"},2484:(e,t,r)=>{\"use strict\";r.d(t,{Dz:()=>i,OJ:()=>a,qw:()=>o,t9:()=>n});const n=r(2325).D.pageViewEvent,i=\"firstbyte\",o=\"domcontent\",a=\"windowload\"},6382:(e,t,r)=>{\"use strict\";r.d(t,{t:()=>n});const n=r(2325).D.pageViewTiming},1509:(e,t,r)=>{\"use strict\";r.d(t,{W:()=>s});var n=r(6562),i=r(3752),o=r(5432),a=r(6797);class s{constructor(e,t,r){this.agentIdentifier=e,this.aggregator=t,this.ee=i.ee.get(e,(0,n.OP)(this.agentIdentifier).isolatedBacklog),this.featureName=r,this.blocked=!1,this.checkConfiguration()}checkConfiguration(){if(!(0,n.lF)(this.agentIdentifier)){let e={...(0,a.gG)().info?.jsAttributes};try{e={...e,...(0,n.C5)(this.agentIdentifier)?.jsAttributes}}catch(e){}(0,o.j)(this.agentIdentifier,{...(0,a.gG)(),info:{...(0,a.gG)().info,jsAttributes:e}})}}}},5432:(e,t,r)=>{\"use strict\";r.d(t,{j:()=>y});var n=r(8683),i=r.n(n),o=r(2325),a=r(6562),s=r(9252),c=r(7022),u=r(3752),d=r(2053),f=r(4329),l=r(2650),g=r(2374),v=r(8610),h=r(6034);var p=r(6797);const m={stn:[o.D.sessionTrace],err:[o.D.jserrors,o.D.metrics],ins:[o.D.pageAction],spa:[o.D.spa]};const b={};function w(){const e=(0,p.gG)();[\"setErrorHandler\",\"finished\",\"addToTrace\",\"inlineHit\",\"addRelease\",\"addPageAction\",\"setCurrentRouteName\",\"setPageViewName\",\"setCustomAttribute\",\"interaction\",\"noticeError\"].forEach((t=>{e[t]=function(){for(var r=arguments.length,n=new Array(r),i=0;i<r;i++)n[i]=arguments[i];return function(t){for(var r=arguments.length,n=new Array(r>1?r-1:0),i=1;i<r;i++)n[i-1]=arguments[i];let o=[];return Object.values(e.initializedAgents).forEach((e=>{e.exposed&&e.api[t]&&o.push(e.api[t](...n))})),o.length>1?returnsVals:o[0]}(t,...n)}}))}function y(e){let t=arguments.length>1&&void 0!==arguments[1]?arguments[1]:{},n=arguments.length>2?arguments[2]:void 0,y=arguments.length>3?arguments[3]:void 0,{init:A,info:x,loader_config:j,runtime:_={loaderType:n},exposed:E=!0}=t;const D=(0,p.gG)();x||(A=D.init,x=D.info,j=D.loader_config),g.v6&&(x.jsAttributes={...x.jsAttributes,isWorker:!0}),(0,a.CX)(e,x),(0,a.Dg)(e,A||{}),(0,a.GE)(e,j||{}),(0,a.sU)(e,_),w();const k=function(e,t){t||(0,f.R)(e,\"api\");const n={};var p=u.ee.get(e),m=p.get(\"tracer\"),b=\"api-\",w=b+\"ixn-\";function y(){}(0,c.D)([\"setErrorHandler\",\"finished\",\"addToTrace\",\"inlineHit\",\"addRelease\"],(function(e,t){n[t]=x(b,t,!0,\"api\")})),n.addPageAction=x(b,\"addPageAction\",!0,o.D.pageAction),n.setCurrentRouteName=x(b,\"routeName\",!0,o.D.spa),n.setPageViewName=function(t,r){if(\"string\"==typeof t)return\"/\"!==t.charAt(0)&&(t=\"/\"+t),(0,a.OP)(e).customTransaction=(r||\"http://custom.transaction\")+t,x(b,\"setPageViewName\",!0,\"api\")()},n.setCustomAttribute=function(t,r){const n=(0,a.C5)(e);return(0,a.CX)(e,{...n,jsAttributes:{...n.jsAttributes,[t]:r}}),x(b,\"setCustomAttribute\",!0,\"api\")()},n.interaction=function(){return(new y).get()};var A=y.prototype={createTracer:function(e,t){var r={},n=this,i=\"function\"==typeof t;return(0,s.p)(w+\"tracer\",[(0,d.z)(),e,r],n,o.D.spa,p),function(){if(m.emit((i?\"\":\"no-\")+\"fn-start\",[(0,d.z)(),n,i],r),i)try{return t.apply(this,arguments)}catch(e){throw m.emit(\"fn-err\",[arguments,this,\"string\"==typeof e?new Error(e):e],r),e}finally{m.emit(\"fn-end\",[(0,d.z)()],r)}}}};function x(e,t,r,n){return function(){return(0,s.p)(h.xS,[\"API/\"+t+\"/called\"],void 0,o.D.metrics,p),(0,s.p)(e+t,[(0,d.z)()].concat(i()(arguments)),r?null:this,n,p),r?void 0:this}}function j(){r.e(439).then(r.bind(r,5692)).then((t=>{let{setAPI:r}=t;r(e),(0,f.L)(e,\"api\")})).catch((()=>(0,v.Z)(\"Downloading runtime APIs failed...\")))}return(0,c.D)(\"actionText,setName,setAttribute,save,ignore,onEnd,getContext,end,get\".split(\",\"),(function(e,t){A[t]=x(w,t,void 0,o.D.spa)})),n.noticeError=function(e,t){\"string\"==typeof e&&(e=new Error(e)),(0,s.p)(h.xS,[\"API/noticeError/called\"],void 0,o.D.metrics,p),(0,s.p)(\"err\",[e,(0,d.z)(),!1,t],void 0,o.D.jserrors,p)},g.v6?j():(0,l.b)((()=>j()),!0),n}(e,y);return(0,p.Qy)(e,k,\"api\"),(0,p.Qy)(e,E,\"exposed\"),(0,p.EZ)(\"activatedFeatures\",b),(0,p.EZ)(\"setToken\",(t=>function(e,t){var r=u.ee.get(t);e&&\"object\"==typeof e&&((0,c.D)(e,(function(e,t){if(!t)return(m[e]||[]).forEach((t=>{(0,s.p)(\"block-\"+e,[],void 0,t,r)}));b[e]||((0,s.p)(\"feat-\"+e,[],void 0,m[e],r),b[e]=!0)})),(0,f.L)(t,o.D.pageViewEvent))}(t,e))),k}},909:(e,t,r)=>{\"use strict\";r.d(t,{Z:()=>i,q:()=>o});var n=r(2325);function i(e){switch(e){case n.D.ajax:return[n.D.jserrors];case n.D.sessionTrace:return[n.D.ajax,n.D.pageViewEvent];case n.D.pageViewTiming:return[n.D.pageViewEvent];default:return[]}}function o(e){return e===n.D.jserrors?[]:[\"auto\"]}},2325:(e,t,r)=>{\"use strict\";r.d(t,{D:()=>n,p:()=>i});const n={ajax:\"ajax\",jserrors:\"jserrors\",metrics:\"metrics\",pageAction:\"page_action\",pageViewEvent:\"page_view_event\",pageViewTiming:\"page_view_timing\",sessionTrace:\"session_trace\",spa:\"spa\"},i={[n.pageViewEvent]:1,[n.pageViewTiming]:2,[n.metrics]:3,[n.jserrors]:4,[n.ajax]:5,[n.sessionTrace]:6,[n.pageAction]:7,[n.spa]:8}},8683:e=>{e.exports=function(e,t,r){t||(t=0),void 0===r&&(r=e?e.length:0);for(var n=-1,i=r-t||0,o=Array(i<0?0:i);++n<i;)o[n]=e[t+n];return o}}},n={};function i(e){var t=n[e];if(void 0!==t)return t.exports;var o=n[e]={exports:{}};return r[e](o,o.exports,i),o.exports}i.m=r,i.n=e=>{var t=e&&e.__esModule?()=>e.default:()=>e;return i.d(t,{a:t}),t},i.d=(e,t)=>{for(var r in t)i.o(t,r)&&!i.o(e,r)&&Object.defineProperty(e,r,{enumerable:!0,get:t[r]})},i.f={},i.e=e=>Promise.all(Object.keys(i.f).reduce(((t,r)=>(i.f[r](e,t),t)),[])),i.u=e=>(({78:\"page_action-aggregate\",147:\"metrics-aggregate\",193:\"session_trace-aggregate\",317:\"jserrors-aggregate\",348:\"page_view_timing-aggregate\",439:\"async-api\",729:\"lazy-loader\",786:\"page_view_event-aggregate\",873:\"spa-aggregate\",898:\"ajax-aggregate\"}[e]||e)+\".\"+{78:\"8658345c\",147:\"fde0a6c6\",193:\"afe7d95b\",317:\"265ba41e\",348:\"92e7c907\",439:\"71768fc8\",729:\"ff971c03\",786:\"a968183b\",862:\"5040a0e9\",873:\"6a952689\",898:\"ebcbd305\"}[e]+\"-1.229.0.min.js\"),i.o=(e,t)=>Object.prototype.hasOwnProperty.call(e,t),e={},t=\"NRBA:\",i.l=(r,n,o,a)=>{if(e[r])e[r].push(n);else{var s,c;if(void 0!==o)for(var u=document.getElementsByTagName(\"script\"),d=0;d<u.length;d++){var f=u[d];if(f.getAttribute(\"src\")==r||f.getAttribute(\"data-webpack\")==t+o){s=f;break}}s||(c=!0,(s=document.createElement(\"script\")).charset=\"utf-8\",s.timeout=120,i.nc&&s.setAttribute(\"nonce\",i.nc),s.setAttribute(\"data-webpack\",t+o),s.src=r),e[r]=[n];var l=(t,n)=>{s.onerror=s.onload=null,clearTimeout(g);var i=e[r];if(delete e[r],s.parentNode&&s.parentNode.removeChild(s),i&&i.forEach((e=>e(n))),t)return t(n)},g=setTimeout(l.bind(null,void 0,{type:\"timeout\",target:s}),12e4);s.onerror=l.bind(null,s.onerror),s.onload=l.bind(null,s.onload),c&&document.head.appendChild(s)}},i.r=e=>{\"undefined\"!=typeof Symbol&&Symbol.toStringTag&&Object.defineProperty(e,Symbol.toStringTag,{value:\"Module\"}),Object.defineProperty(e,\"__esModule\",{value:!0})},i.p=\"https://js-agent.newrelic.com/\",(()=>{var e={521:0,38:0};i.f.j=(t,r)=>{var n=i.o(e,t)?e[t]:void 0;if(0!==n)if(n)r.push(n[2]);else{var o=new Promise(((r,i)=>n=e[t]=[r,i]));r.push(n[2]=o);var a=i.p+i.u(t),s=new Error;i.l(a,(r=>{if(i.o(e,t)&&(0!==(n=e[t])&&(e[t]=void 0),n)){var o=r&&(\"load\"===r.type?\"missing\":r.type),a=r&&r.target&&r.target.src;s.message=\"Loading chunk \"+t+\" failed.\\\\n(\"+o+\": \"+a+\")\",s.name=\"ChunkLoadError\",s.type=o,s.request=a,n[1](s)}}),\"chunk-\"+t,t)}};var t=(t,r)=>{var n,o,[a,s,c]=r,u=0;if(a.some((t=>0!==e[t]))){for(n in s)i.o(s,n)&&(i.m[n]=s[n]);if(c)c(i)}for(t&&t(r);u<a.length;u++)o=a[u],i.o(e,o)&&e[o]&&e[o][0](),e[o]=0},r=window.webpackChunkNRBA=window.webpackChunkNRBA||[];r.forEach(t.bind(null,0)),r.push=t.bind(null,r.push.bind(r))})();var o={};(()=>{\"use strict\";i.r(o);var e=i(2325),t=i(6562);const r=Object.values(e.D);function n(e){const n={};return r.forEach((r=>{n[r]=function(e,r){return!1!==(0,t.Mt)(r,\"\".concat(e,\".enabled\"))}(r,e)})),n}var a=i(5432),s=i(909),c=i(9252),u=i(8768),d=i(4329),f=i(1509),l=i(2650),g=i(2374),v=i(8610);class h extends f.W{constructor(e,t,r){let n=!(arguments.length>3&&void 0!==arguments[3])||arguments[3];super(e,t,r),this.hasAggregator=!1,this.auto=n,this.abortHandler,n&&(0,d.R)(e,r)}importAggregator(){if(this.hasAggregator||!this.auto)return;this.hasAggregator=!0;const e=async()=>{try{const{lazyLoader:e}=await i.e(729).then(i.bind(i,8110)),{Aggregate:t}=await e(this.featureName,\"aggregate\");new t(this.agentIdentifier,this.aggregator)}catch(e){(0,v.Z)(\"Downloading \".concat(this.featureName,\" failed...\")),this.abortHandler?.()}};g.v6?e():(0,l.b)((()=>e()),!0)}}var p,m,b,w=i(2484),y=i(2053);class A extends h{constructor(r,n){let i=!(arguments.length>2&&void 0!==arguments[2])||arguments[2];if(super(r,n,w.t9,i),(\"undefined\"==typeof PerformanceNavigationTiming||u.T)&&\"undefined\"!=typeof PerformanceTiming){const n=(0,t.OP)(r);n[w.Dz]=Math.max(Date.now()-n.offset,0),(0,l.K)((()=>n[w.qw]=Math.max((0,y.z)()-n[w.Dz],0))),(0,l.b)((()=>{const t=(0,y.z)();n[w.OJ]=Math.max(t-n[w.Dz],0),(0,c.p)(\"timing\",[\"load\",t],void 0,e.D.pageViewTiming,this.ee)}))}this.importAggregator()}}p=A,m=\"featureName\",b=w.t9,(m=function(e){var t=function(e,t){if(\"object\"!=typeof e||null===e)return e;var r=e[Symbol.toPrimitive];if(void 0!==r){var n=r.call(e,t||\"default\");if(\"object\"!=typeof n)return n;throw new TypeError(\"@@toPrimitive must return a primitive value.\")}return(\"string\"===t?String:Number)(e)}(e,\"string\");return\"symbol\"==typeof t?t:String(t)}(m))in p?Object.defineProperty(p,m,{value:b,enumerable:!0,configurable:!0,writable:!0}):p[m]=b;var x=i(9557),j=i(7022);class _ extends x.w{constructor(e){super(e),this.aggregatedData={}}store(e,t,r,n,i){var o=this.getBucket(e,t,r,i);return o.metrics=function(e,t){t||(t={count:0});return t.count+=1,(0,j.D)(e,(function(e,r){t[e]=E(r,t[e])})),t}(n,o.metrics),o}merge(e,t,r,n,i){var o=this.getBucket(e,t,n,i);if(o.metrics){var a=o.metrics;a.count+=r.count,(0,j.D)(r,(function(e,t){if(\"count\"!==e){var n=a[e],i=r[e];i&&!i.c?a[e]=E(i.t,n):a[e]=function(e,t){if(!t)return e;t.c||(t=D(t.t));return t.min=Math.min(e.min,t.min),t.max=Math.max(e.max,t.max),t.t+=e.t,t.sos+=e.sos,t.c+=e.c,t}(i,a[e])}}))}else o.metrics=r}storeMetric(e,t,r,n){var i=this.getBucket(e,t,r);return i.stats=E(n,i.stats),i}getBucket(e,t,r,n){this.aggregatedData[e]||(this.aggregatedData[e]={});var i=this.aggregatedData[e][t];return i||(i=this.aggregatedData[e][t]={params:r||{}},n&&(i.custom=n)),i}get(e,t){return t?this.aggregatedData[e]&&this.aggregatedData[e][t]:this.aggregatedData[e]}take(e){for(var t={},r=\"\",n=!1,i=0;i<e.length;i++)t[r=e[i]]=k(this.aggregatedData[r]),t[r].length&&(n=!0),delete this.aggregatedData[r];return n?t:null}}function E(e,t){return null==e?function(e){e?e.c++:e={c:1};return e}(t):t?(t.c||(t=D(t.t)),t.c+=1,t.t+=e,t.sos+=e*e,e>t.max&&(t.max=e),e<t.min&&(t.min=e),t):{t:e}}function D(e){return{t:e,min:e,max:e,sos:e*e,c:1}}function k(e){return\"object\"!=typeof e?[]:(0,j.D)(e,S)}function S(e,t){return t}var P=i(6797),T=i(5526),N=i(2438);var O=i(6998),I=i(8544),C=i(6382);class R extends h{constructor(e,r){let n=!(arguments.length>2&&void 0!==arguments[2])||arguments[2];super(e,r,C.t,n),g.il&&((0,t.OP)(e).initHidden=Boolean(\"hidden\"===document.visibilityState),(0,O.N)((()=>(0,c.p)(\"docHidden\",[(0,y.z)()],void 0,C.t,this.ee)),!0),(0,I.bP)(\"pagehide\",(()=>(0,c.p)(\"winPagehide\",[(0,y.z)()],void 0,C.t,this.ee))),this.importAggregator())}}!function(e,t,r){(t=function(e){var t=function(e,t){if(\"object\"!=typeof e||null===e)return e;var r=e[Symbol.toPrimitive];if(void 0!==r){var n=r.call(e,t||\"default\");if(\"object\"!=typeof n)return n;throw new TypeError(\"@@toPrimitive must return a primitive value.\")}return(\"string\"===t?String:Number)(e)}(e,\"string\");return\"symbol\"==typeof t?t:String(t)}(t))in e?Object.defineProperty(e,t,{value:r,enumerable:!0,configurable:!0,writable:!0}):e[t]=r}(R,\"featureName\",C.t);const M=Boolean(g._A?.Worker),z=Boolean(g._A?.SharedWorker),B=Boolean(g._A?.navigator?.serviceWorker);let q,W,V;var L=i(6034);class Z extends h{constructor(t,r){let n=!(arguments.length>2&&void 0!==arguments[2])||arguments[2];super(t,r,L.t9,n),function(e){if(!q){if(M){q=Worker;try{g._A.Worker=r(q,\"Dedicated\")}catch(e){o(e,\"Dedicated\")}if(z){W=SharedWorker;try{g._A.SharedWorker=r(W,\"Shared\")}catch(e){o(e,\"Shared\")}}else n(\"Shared\");if(B){V=navigator.serviceWorker.register;try{g._A.navigator.serviceWorker.register=(t=V,function(){for(var e=arguments.length,r=new Array(e),n=0;n<e;n++)r[n]=arguments[n];return i(\"Service\",r[1]?.type),t.apply(navigator.serviceWorker,r)})}catch(e){o(e,\"Service\")}}else n(\"Service\");var t;return}n(\"All\")}function r(e,t){return\"undefined\"==typeof Proxy?e:new Proxy(e,{construct:(e,r)=>(i(t,r[1]?.type),new e(...r))})}function n(t){g.v6||e(\"Workers/\".concat(t,\"/Unavailable\"))}function i(t,r){e(\"Workers/\".concat(t,\"module\"===r?\"/Module\":\"/Classic\"))}function o(t,r){e(\"Workers/\".concat(r,\"/SM/Unsupported\")),(0,v.Z)(\"NR Agent: Unable to capture \".concat(r,\" workers.\"),t)}}((t=>(0,c.p)(L.xS,[t],void 0,e.D.metrics,this.ee))),this.importAggregator()}}!function(e,t,r){(t=function(e){var t=function(e,t){if(\"object\"!=typeof e||null===e)return e;var r=e[Symbol.toPrimitive];if(void 0!==r){var n=r.call(e,t||\"default\");if(\"object\"!=typeof n)return n;throw new TypeError(\"@@toPrimitive must return a primitive value.\")}return(\"string\"===t?String:Number)(e)}(e,\"string\");return\"symbol\"==typeof t?t:String(t)}(t))in e?Object.defineProperty(e,t,{value:r,enumerable:!0,configurable:!0,writable:!0}):e[t]=r}(Z,\"featureName\",L.t9),new class{constructor(e){let t=arguments.length>1&&void 0!==arguments[1]?arguments[1]:(0,T.ky)(16);this.agentIdentifier=t,this.sharedAggregator=new _({agentIdentifier:this.agentIdentifier}),this.features={},this.desiredFeatures=new Set(e.features||[]),this.desiredFeatures.add(A),Object.assign(this,(0,a.j)(this.agentIdentifier,e,e.loaderType||\"agent\")),this.start()}get config(){return{info:(0,t.C5)(this.agentIdentifier),init:(0,t.P_)(this.agentIdentifier),loader_config:(0,t.DL)(this.agentIdentifier),runtime:(0,t.OP)(this.agentIdentifier)}}start(){const t=\"features\";try{const r=n(this.agentIdentifier),i=Array.from(this.desiredFeatures);i.sort(((t,r)=>e.p[t.featureName]-e.p[r.featureName])),i.forEach((t=>{if(r[t.featureName]||t.featureName===e.D.pageViewEvent){const e=(0,s.Z)(t.featureName);e.every((e=>r[e]))||(0,v.Z)(\"\".concat(t.featureName,\" is enabled but one or more dependent features has been disabled (\").concat((0,N.P)(e),\"). This may cause unintended consequences or missing data...\")),this.features[t.featureName]=new t(this.agentIdentifier,this.sharedAggregator)}})),(0,P.Qy)(this.agentIdentifier,this.features,t)}catch(e){(0,v.Z)(\"Failed to initialize all enabled instrument classes (agent aborted) -\",e);for(const e in this.features)this.features[e].abortHandler?.();const r=(0,P.fP)();return delete r.initializedAgents[this.agentIdentifier]?.api,delete r.initializedAgents[this.agentIdentifier]?.[t],delete this.sharedAggregator,r.ee?.abort(),delete r.ee?.get(this.agentIdentifier),!1}}}({features:[A,R,Z],loaderType:\"lite\"})})(),window.NRBA=o})();</script>\\n<link rel=\"shortcut icon\" href=\"https://your.yale.edu/sites/all/themes/youryale/images/favicons/favicon.ico\" type=\"image/vnd.microsoft.icon\" />\\n<meta name=\"msvalidate.01\" content=\"0B36DB5E6285E0FDFFF68067DC0CD8E9\" />\\n<meta name=\"description\" content=\"Contents Overview Identifying a Site Owner for a University Website Managing Content on a University Website Evaluating a University Website for Accessibility Requesting an Exception Acquiring Accessible Software and Professional Services\" />\\n<meta name=\"generator\" content=\"Drupal 7 (https://www.drupal.org)\" />\\n<link rel=\"canonical\" href=\"https://your.yale.edu/policies-procedures/procedures/1605-pr01-web-accessibility-procedure\" />\\n<link rel=\"shortlink\" href=\"https://your.yale.edu/node/48096\" />\\n  <title>1605 PR.01 Web Accessibility Procedure | It\\'s Your Yale</title>\\n\\n  <!-- Favions / Touch Icons -->\\n  <link rel=\"apple-touch-icon\" sizes=\"57x57\" href=\"/sites/all/themes/youryale/images/favicons/apple-touch-icon-57x57.png\">\\n\\n  <!-- Favions / Touch Icons -->\\n  <link rel=\"apple-touch-icon\" sizes=\"57x57\" href=\"/sites/all/themes/youryale/images/favicons/apple-touch-icon-57x57.png\">\\n  <link rel=\"apple-touch-icon\" sizes=\"60x60\" href=\"/sites/all/themes/youryale/images/favicons/apple-touch-icon-60x60.png\">\\n  <link rel=\"apple-touch-icon\" sizes=\"72x72\" href=\"/sites/all/themes/youryale/images/favicons/apple-touch-icon-72x72.png\">\\n  <link rel=\"apple-touch-icon\" sizes=\"76x76\" href=\"/sites/all/themes/youryale/images/favicons/apple-touch-icon-76x76.png\">\\n  <link rel=\"apple-touch-icon\" sizes=\"114x114\" href=\"/sites/all/themes/youryale/images/favicons/apple-touch-icon-114x114.png\">\\n  <link rel=\"apple-touch-icon\" sizes=\"120x120\" href=\"/sites/all/themes/youryale/images/favicons/apple-touch-icon-120x120.png\">\\n  <link rel=\"apple-touch-icon\" sizes=\"144x144\" href=\"/sites/all/themes/youryale/images/favicons/apple-touch-icon-144x144.png\">\\n  <link rel=\"apple-touch-icon\" sizes=\"152x152\" href=\"/sites/all/themes/youryale/images/favicons/apple-touch-icon-152x152.png\">\\n  <link rel=\"apple-touch-icon\" sizes=\"180x180\" href=\"/sites/all/themes/youryale/images/favicons/apple-touch-icon-180x180.png\">\\n  <link rel=\"icon\" type=\"image/png\" href=\"/sites/all/themes/youryale/images/favicons/favicon-32x32.png\" sizes=\"32x32\">\\n  <link rel=\"icon\" type=\"image/png\" href=\"/sites/all/themes/youryale/images/favicons/android-chrome-192x192.png\" sizes=\"192x192\">\\n  <link rel=\"icon\" type=\"image/png\" href=\"/sites/all/themes/youryale/images/favicons/favicon-96x96.png\" sizes=\"96x96\">\\n  <link rel=\"icon\" type=\"image/png\" href=\"/sites/all/themes/youryale/images/favicons/favicon-16x16.png\" sizes=\"16x16\">\\n  <link rel=\"manifest\" href=\"/sites/all/themes/youryale/images/favicons/manifest.json\">\\n  <meta name=\"msapplication-TileColor\" content=\"#00356b\">\\n  <meta name=\"msapplication-TileImage\" content=\"/sites/all/themes/youryale/images/favicons/mstile-144x144.png\">\\n  <meta name=\"theme-color\" content=\"#ffffff\">\\n  <link rel=\"shortcut icon\" href=\"/sites/all/themes/youryale/images/favicons/favicon.ico\">\\n\\n      <meta name=\"MobileOptimized\" content=\"width\">\\n    <meta name=\"HandheldFriendly\" content=\"true\">\\n    <meta name=\"viewport\" content=\"width=device-width, initial-scale=1\">\\n  \\n  <link type=\"text/css\" rel=\"stylesheet\" href=\"https://your.yale.edu/sites/default/files/css/css_lQaZfjVpwP_oGNqdtWCSpJT1EMqXdMiU84ekLLxQnc4.css\" media=\"all\" />\\n<link type=\"text/css\" rel=\"stylesheet\" href=\"https://your.yale.edu/sites/default/files/css/css_FmL6Kqv_n5IpA2SmDKNB6sVztCt39qXocI7AiNpg1NE.css\" media=\"all\" />\\n<link type=\"text/css\" rel=\"stylesheet\" href=\"https://your.yale.edu/sites/default/files/css/css_PkKtdr6n5OZP228cducWKjoPWnMTrXtpD-Hg38fTHus.css\" media=\"all\" />\\n<link type=\"text/css\" rel=\"stylesheet\" href=\"https://your.yale.edu/sites/default/files/css/css_0bdYle_jk8ViQ04g2sCYExVOQN97wu0zX4fWqnT7aOg.css\" media=\"all\" />\\n<link type=\"text/css\" rel=\"stylesheet\" href=\"//maxcdn.bootstrapcdn.com/font-awesome/4.7.0/css/font-awesome.min.css\" media=\"all\" />\\n<link type=\"text/css\" rel=\"stylesheet\" href=\"https://your.yale.edu/sites/default/files/css/css_ixxFkVnUvqv82FGikLBczbj0JP2Rr2ou3YxbGQWjJYU.css\" media=\"all\" />\\n<link type=\"text/css\" rel=\"stylesheet\" href=\"https://your.yale.edu/sites/default/files/css/css_73CAPKE5CcoUQhV3qrfKpJc2IjXeuT_pAQXLAL6Szp0.css\" media=\"all\" />\\n<link type=\"text/css\" rel=\"stylesheet\" href=\"https://your.yale.edu/sites/default/files/css_injector/css_injector_51.css?rspkus\" media=\"all\" />\\n<link type=\"text/css\" rel=\"stylesheet\" href=\"https://your.yale.edu/sites/default/files/css_injector/css_injector_131.css?rspkus\" media=\"all\" />\\n<link type=\"text/css\" rel=\"stylesheet\" href=\"https://your.yale.edu/sites/default/files/css_injector/css_injector_137.css?rspkus\" media=\"all\" />\\n<link type=\"text/css\" rel=\"stylesheet\" href=\"https://your.yale.edu/sites/default/files/css_injector/css_injector_140.css?rspkus\" media=\"all\" />\\n<link type=\"text/css\" rel=\"stylesheet\" href=\"https://your.yale.edu/sites/default/files/css_injector/css_injector_147.css?rspkus\" media=\"all\" />\\n<link type=\"text/css\" rel=\"stylesheet\" href=\"https://your.yale.edu/sites/default/files/css_injector/css_injector_150.css?rspkus\" media=\"all\" />\\n  <script>document.cookie = \\'adaptive_image=\\' + Math.max(screen.width, screen.height) + \\'; path=/\\';</script>\\n<script src=\"//ajax.googleapis.com/ajax/libs/jquery/1.8.3/jquery.min.js\"></script>\\n<script>window.jQuery || document.write(\"<script src=\\'/sites/all/modules/contrib/jquery_update/replace/jquery/1.8/jquery.min.js\\'>\\\\x3C/script>\")</script>\\n<script src=\"https://your.yale.edu/sites/default/files/js/js_Hfha9RCTNm8mqMDLXriIsKGMaghzs4ZaqJPLj2esi7s.js\"></script>\\n<script src=\"//ajax.googleapis.com/ajax/libs/jqueryui/1.10.2/jquery-ui.min.js\"></script>\\n<script>window.jQuery.ui || document.write(\"<script src=\\'/sites/all/modules/contrib/jquery_update/replace/ui/ui/minified/jquery-ui.min.js\\'>\\\\x3C/script>\")</script>\\n<script src=\"https://your.yale.edu/sites/default/files/js/js_MiJp43iEf0FDQ1n9nvzw8fltzo4x59gfVKTrx-Sr6Og.js\"></script>\\n<script src=\"https://your.yale.edu/sites/default/files/js/js_cSY2twNhtt38CHVo0Yjkbg20bIbXEKgTdbTQKAJvqys.js\"></script>\\n<script src=\"https://your.yale.edu/sites/default/files/js/js_ch1mvH_FMzqkjRy2FoOsQmlXDsD2kJrvD7dgnjgyhqU.js\"></script>\\n<script>(function(i,s,o,g,r,a,m){i[\"GoogleAnalyticsObject\"]=r;i[r]=i[r]||function(){(i[r].q=i[r].q||[]).push(arguments)},i[r].l=1*new Date();a=s.createElement(o),m=s.getElementsByTagName(o)[0];a.async=1;a.src=g;m.parentNode.insertBefore(a,m)})(window,document,\"script\",\"https://www.google-analytics.com/analytics.js\",\"ga\");ga(\"create\", \"UA-11629554-9\", {\"cookieDomain\":\"auto\"});ga(\"set\", \"anonymizeIp\", true);ga(\"send\", \"pageview\");</script>\\n<script src=\"https://your.yale.edu/sites/default/files/js/js_ut9oOhaeB7z2kgzflLlsZr7wzHyaCYOxXfOo6ffFwF8.js\"></script>\\n<script>jQuery.extend(Drupal.settings, {\"basePath\":\"\\\\/\",\"pathPrefix\":\"\",\"setHasJsCookie\":0,\"ajaxPageState\":{\"theme\":\"youryale\",\"theme_token\":\"FM1fKzVsjn4XxRdX5FIOJNRllfansQK-g4L9VmUorJw\",\"js\":{\"sites\\\\/all\\\\/modules\\\\/features\\\\/your_yale\\\\/your_yale_sitewide_search\\\\/js\\\\/your_yale_sitewide_search.js\":1,\"0\":1,\"1\":1,\"\\\\/\\\\/ajax.googleapis.com\\\\/ajax\\\\/libs\\\\/jquery\\\\/1.8.3\\\\/jquery.min.js\":1,\"2\":1,\"misc\\\\/jquery-extend-3.4.0.js\":1,\"misc\\\\/jquery-html-prefilter-3.5.0-backport.js\":1,\"misc\\\\/jquery.once.js\":1,\"misc\\\\/drupal.js\":1,\"\\\\/\\\\/ajax.googleapis.com\\\\/ajax\\\\/libs\\\\/jqueryui\\\\/1.10.2\\\\/jquery-ui.min.js\":1,\"3\":1,\"sites\\\\/all\\\\/modules\\\\/contrib\\\\/jquery_update\\\\/replace\\\\/ui\\\\/external\\\\/jquery.cookie.js\":1,\"misc\\\\/ui\\\\/jquery.ui.position-1.13.0-backport.js\":1,\"sites\\\\/all\\\\/modules\\\\/contrib\\\\/collapsiblock\\\\/collapsiblock.js\":1,\"sites\\\\/all\\\\/modules\\\\/contrib\\\\/fancy_file_delete\\\\/js\\\\/fancyfiledelete.js\":1,\"sites\\\\/all\\\\/modules\\\\/contrib\\\\/authcache\\\\/authcache.js\":1,\"sites\\\\/all\\\\/libraries\\\\/colorbox\\\\/jquery.colorbox-min.js\":1,\"sites\\\\/all\\\\/modules\\\\/contrib\\\\/colorbox\\\\/js\\\\/colorbox.js\":1,\"sites\\\\/all\\\\/modules\\\\/contrib\\\\/colorbox\\\\/styles\\\\/plain\\\\/colorbox_style.js\":1,\"sites\\\\/all\\\\/modules\\\\/contrib\\\\/colorbox\\\\/js\\\\/colorbox_load.js\":1,\"sites\\\\/all\\\\/modules\\\\/contrib\\\\/jscrollpane\\\\/js\\\\/jquery.jscrollpane.min.js\":1,\"sites\\\\/all\\\\/modules\\\\/contrib\\\\/jscrollpane\\\\/js\\\\/jquery.mousewheel.js\":1,\"sites\\\\/all\\\\/modules\\\\/contrib\\\\/jscrollpane\\\\/js\\\\/script.js\":1,\"sites\\\\/all\\\\/modules\\\\/contrib\\\\/google_analytics\\\\/googleanalytics.js\":1,\"4\":1,\"sites\\\\/all\\\\/themes\\\\/youryale\\\\/js\\\\/build\\\\/scripts.min.js\":1},\"css\":{\"modules\\\\/system\\\\/system.base.css\":1,\"modules\\\\/system\\\\/system.menus.css\":1,\"modules\\\\/system\\\\/system.messages.css\":1,\"modules\\\\/system\\\\/system.theme.css\":1,\"misc\\\\/ui\\\\/jquery.ui.core.css\":1,\"misc\\\\/ui\\\\/jquery.ui.theme.css\":1,\"misc\\\\/ui\\\\/jquery.ui.accordion.css\":1,\"misc\\\\/ui\\\\/jquery.ui.menu.css\":1,\"misc\\\\/ui\\\\/jquery.ui.autocomplete.css\":1,\"sites\\\\/all\\\\/modules\\\\/contrib\\\\/adaptive_image\\\\/css\\\\/adaptive-image.css\":1,\"sites\\\\/all\\\\/modules\\\\/contrib\\\\/calendar\\\\/css\\\\/calendar_multiday.css\":1,\"sites\\\\/all\\\\/modules\\\\/contrib\\\\/collapsiblock\\\\/collapsiblock.css\":1,\"modules\\\\/comment\\\\/comment.css\":1,\"modules\\\\/field\\\\/theme\\\\/field.css\":1,\"modules\\\\/node\\\\/node.css\":1,\"modules\\\\/search\\\\/search.css\":1,\"modules\\\\/user\\\\/user.css\":1,\"sites\\\\/all\\\\/modules\\\\/contrib\\\\/views\\\\/css\\\\/views.css\":1,\"sites\\\\/all\\\\/modules\\\\/contrib\\\\/ckeditor\\\\/css\\\\/ckeditor.css\":1,\"sites\\\\/all\\\\/modules\\\\/contrib\\\\/colorbox\\\\/styles\\\\/plain\\\\/colorbox_style.css\":1,\"sites\\\\/all\\\\/modules\\\\/contrib\\\\/ctools\\\\/css\\\\/ctools.css\":1,\"sites\\\\/all\\\\/modules\\\\/contrib\\\\/jscrollpane\\\\/css\\\\/jquery.jscrollpane.css\":1,\"sites\\\\/all\\\\/modules\\\\/contrib\\\\/panels\\\\/css\\\\/panels.css\":1,\"sites\\\\/all\\\\/modules\\\\/contrib\\\\/typogrify\\\\/typogrify.css\":1,\"sites\\\\/all\\\\/modules\\\\/contrib\\\\/date\\\\/date_api\\\\/date.css\":1,\"sites\\\\/all\\\\/modules\\\\/contrib\\\\/addtoany\\\\/addtoany.css\":1,\"\\\\/\\\\/maxcdn.bootstrapcdn.com\\\\/font-awesome\\\\/4.7.0\\\\/css\\\\/font-awesome.min.css\":1,\"sites\\\\/all\\\\/themes\\\\/youryale\\\\/system.menus.css\":1,\"sites\\\\/all\\\\/themes\\\\/youryale\\\\/system.messages.css\":1,\"sites\\\\/all\\\\/themes\\\\/youryale\\\\/system.theme.css\":1,\"sites\\\\/all\\\\/themes\\\\/youryale\\\\/css\\\\/styles.css\":1,\"public:\\\\/\\\\/fontyourface\\\\/local_fonts\\\\/TheSans-normal-300\\\\/stylesheet.css\":1,\"public:\\\\/\\\\/fontyourface\\\\/local_fonts\\\\/TheSans-normal-600\\\\/stylesheet.css\":1,\"public:\\\\/\\\\/fontyourface\\\\/local_fonts\\\\/TheSans-normal-normal\\\\/stylesheet.css\":1,\"public:\\\\/\\\\/fontyourface\\\\/local_fonts\\\\/YaleNew-normal-normal\\\\/stylesheet.css\":1,\"public:\\\\/\\\\/css_injector\\\\/css_injector_51.css\":1,\"public:\\\\/\\\\/css_injector\\\\/css_injector_131.css\":1,\"public:\\\\/\\\\/css_injector\\\\/css_injector_137.css\":1,\"public:\\\\/\\\\/css_injector\\\\/css_injector_140.css\":1,\"public:\\\\/\\\\/css_injector\\\\/css_injector_147.css\":1,\"public:\\\\/\\\\/css_injector\\\\/css_injector_150.css\":1}},\"authcache\":{\"q\":\"node\\\\/48096\",\"cp\":{\"path\":\"\\\\/\",\"domain\":\"your.yale.edu\",\"secure\":true},\"cl\":1},\"collapsiblock\":{\"blocks\":{\"block-block-412\":\"1\",\"block-block-396\":\"1\",\"block-block-384\":\"1\",\"block-block-389\":\"1\",\"block-block-340\":\"1\",\"block-block-413\":\"1\",\"block-block-320\":\"1\",\"block-block-313\":\"1\",\"block-block-331\":\"1\",\"block-block-289\":\"1\",\"block-block-332\":\"1\",\"block-block-414\":\"1\",\"block-block-243\":\"1\",\"block-block-395\":\"1\",\"block-block-411\":\"1\",\"block-block-372\":\"1\",\"block-block-419\":\"1\",\"block-block-417\":\"1\",\"block-block-418\":\"1\",\"block-block-416\":\"1\",\"block-block-415\":\"1\",\"block-panels-mini-clerical-technical-service-maint\":\"1\",\"block-panels-mini-bottom-clerical-technical-servic\":\"1\",\"block-block-420\":\"1\",\"block-block-294\":\"1\",\"block-block-423\":\"1\",\"block-block-424\":\"1\",\"block-panels-mini-top-fac-mp-postdoc-assoc-pol-com\":\"1\",\"block-panels-mini-bottom-fac-mp-postdoc-assoc-pol-\":\"1\",\"block-panels-mini-bottom2-fac-mp-postdoc-assoc-pol\":\"1\",\"block-block-421\":\"1\",\"block-block-422\":\"1\",\"block-block-425\":\"1\",\"block-block-281\":\"1\",\"block-block-426\":\"1\",\"block-block-427\":\"1\",\"block-block-364\":\"1\",\"block-block-428\":\"1\",\"block-views-engagement-block\":\"1\",\"block-block-385\":\"1\",\"block-block-400\":\"1\",\"block-block-391\":\"1\",\"block-block-236\":\"1\",\"block-block-221\":\"1\",\"block-block-397\":\"1\",\"block-block-6\":\"1\",\"block-block-431\":\"1\",\"block-block-432\":\"1\",\"block-block-430\":\"1\",\"block-block-410\":\"1\",\"block-block-433\":\"1\",\"block-block-434\":\"1\",\"block-panels-mini-cool-beans-recipes-\":\"1\",\"block-block-437\":\"1\",\"block-block-438\":\"1\",\"block-block-439\":\"1\",\"block-block-324\":\"1\",\"block-block-247\":\"1\",\"block-block-442\":\"1\",\"block-block-443\":\"1\",\"block-block-448\":\"1\",\"block-block-444\":\"1\",\"block-block-445\":\"1\",\"block-block-446\":\"1\",\"block-block-447\":\"1\",\"block-block-449\":\"1\",\"block-block-450\":\"1\",\"block-panels-mini-chat-stickers-staff-row-one\":\"1\",\"block-panels-mini-chat-stickers-staff-row-three\":\"1\",\"block-panels-mini-chat-stickers-staff-row-two\":\"1\",\"block-block-383\":\"1\",\"block-block-451\":\"1\",\"block-block-330\":\"1\",\"block-block-453\":\"1\",\"block-panels-mini-lsr-50-years\":\"1\",\"block-block-454\":\"1\",\"block-block-455\":\"1\",\"block-block-456\":\"1\",\"block-block-457\":\"1\",\"block-block-458\":\"1\",\"block-block-459\":\"1\",\"block-quicktabs-procurement-sourcing\":\"1\",\"block-block-471\":\"1\",\"block-panels-mini-procurement-page-row-one\":\"1\",\"block-panels-mini-procurement-page-row-two\":\"1\",\"block-block-470\":\"1\",\"block-block-472\":\"1\",\"block-block-466\":\"1\",\"block-block-467\":\"1\",\"block-block-473\":\"1\",\"block-block-474\":\"1\",\"block-block-468\":\"1\",\"block-block-475\":\"1\",\"block-panels-mini-procurement-landing-page-one\":\"1\",\"block-panels-mini-procurement-landing-page-two\":\"1\",\"block-block-463\":\"1\",\"block-block-345\":\"1\",\"block-panels-mini-work-models-at-yale\":\"1\",\"block-block-477\":\"1\",\"block-block-478\":\"1\",\"block-block-479\":\"1\",\"block-block-476\":\"1\",\"block-block-408\":\"1\",\"block-panels-mini-one-finance-announcement\":\"1\",\"block-block-482\":\"1\",\"block-block-483\":\"1\",\"block-block-485\":\"1\",\"block-block-486\":\"1\",\"block-panels-mini-ora-section\":\"1\",\"block-block-489\":\"1\",\"block-block-490\":\"1\",\"block-block-491\":\"1\",\"block-panels-mini-ora-landing\":\"1\",\"block-block-493\":\"1\",\"block-block-492\":\"1\",\"block-views-youryale-news-block-1\":\"1\",\"block-views-youryale-news-block\":\"1\",\"block-block-460\":\"1\",\"block-block-270\":\"1\",\"block-views-youryale-news-block-2\":\"1\",\"block-block-494\":\"1\",\"block-block-495\":\"1\",\"block-block-293\":\"1\",\"block-menu-block-16\":\"1\",\"block-block-496\":\"1\",\"block-block-498\":\"1\",\"block-menu-menu-operations\":\"1\",\"block-block-500\":\"1\",\"block-panels-mini-onefinance-strategic-initiative-\":\"1\",\"block-panels-mini-onefinance-strategic-row-two\":\"1\",\"block-views-youryale-news-block-3\":\"1\",\"block-views-engagement-block-1\":\"1\",\"block-panels-mini-financeone-learning-row-one\":\"1\",\"block-panels-mini-financeone-learning-strategic-in\":\"1\",\"block-views-engagement-block-2\":\"1\",\"block-views-yale-calendar-events-block-2\":\"1\",\"block-menu-menu-more-to-explore\":\"1\",\"block-views-1d2d61b466921e4fd96dfabea733b0d4\":\"1\",\"block-block-511\":\"1\",\"block-block-516\":\"1\",\"block-block-513\":\"1\",\"block-block-515\":\"1\",\"block-block-512\":\"1\",\"block-block-429\":\"1\",\"block-block-514\":\"1\",\"block-block-497\":\"1\",\"block-block-503\":\"1\",\"block-block-501\":\"1\",\"block-block-517\":\"1\",\"block-menu-block-1\":\"1\",\"block-block-502\":\"1\",\"block-block-505\":\"1\",\"block-block-504\":\"1\",\"block-block-507\":\"1\",\"block-block-506\":\"1\",\"block-block-509\":\"1\",\"block-block-510\":\"1\",\"block-panels-mini-onefinance-recruiting-row-two\":\"1\",\"block-panels-mini-onefinance-recruiting-row-one\":\"1\",\"block-block-519\":\"1\",\"block-block-518\":\"1\",\"block-block-258\":\"1\",\"block-block-520\":\"1\",\"block-bean-banner-message\":\"1\",\"block-block-521\":\"1\",\"block-block-347\":\"1\",\"block-views-yale-calendar-events-block-1\":\"1\",\"block-block-522\":\"1\",\"block-block-523\":\"1\",\"block-block-524\":\"1\",\"block-block-529\":\"1\",\"block-block-530\":\"1\",\"block-block-531\":\"1\",\"block-block-532\":\"1\",\"block-block-533\":\"1\",\"block-block-534\":\"1\",\"block-block-540\":\"1\",\"block-block-541\":\"1\",\"block-block-525\":\"1\",\"block-block-526\":\"1\",\"block-block-527\":\"1\",\"block-panels-mini-experience-builder-book-row-1\":\"1\",\"block-panels-mini-experience-builder-book-row-2\":\"1\",\"block-block-537\":\"1\",\"block-block-536\":\"1\",\"block-block-528\":\"1\",\"block-bean-youryale\":\"1\",\"block-block-545\":\"1\",\"block-panels-mini-office-research-compliance\":\"1\",\"block-block-547\":\"1\",\"block-block-546\":\"1\"},\"default_state\":1,\"slide_type\":1,\"slide_speed\":200,\"block_title\":\":header:first\",\"block\":\"div.block\",\"block_content\":\"div.content\"},\"colorbox\":{\"transition\":\"elastic\",\"speed\":\"350\",\"opacity\":\"0.85\",\"slideshow\":false,\"slideshowAuto\":true,\"slideshowSpeed\":\"2500\",\"slideshowStart\":\"start slideshow\",\"slideshowStop\":\"stop slideshow\",\"current\":\"{current} of {total}\",\"previous\":\"\\\\u00ab Prev\",\"next\":\"Next \\\\u00bb\",\"close\":\"Close\",\"overlayClose\":true,\"returnFocus\":true,\"maxWidth\":\"98%\",\"maxHeight\":\"98%\",\"initialWidth\":\"300\",\"initialHeight\":\"250\",\"fixed\":true,\"scrolling\":false,\"mobiledetect\":true,\"mobiledevicewidth\":\"480px\",\"file_public_path\":\"\\\\/sites\\\\/default\\\\/files\",\"specificPagesDefaultValue\":\"admin*\\\\nimagebrowser*\\\\nimg_assist*\\\\nimce*\\\\nnode\\\\/add\\\\/*\\\\nnode\\\\/*\\\\/edit\\\\nprint\\\\/*\\\\nprintpdf\\\\/*\\\\nsystem\\\\/ajax\\\\nsystem\\\\/ajax\\\\/*\"},\"jScrollPane\":{\"class\":\".scroll-pane\"},\"urlIsAjaxTrusted\":{\"\\\\/search\":true},\"better_exposed_filters\":{\"views\":{\"related_documents\":{\"displays\":{\"attachment_1\":{\"filters\":[]},\"block\":{\"filters\":[]}}},\"contact_information\":{\"displays\":{\"block_2\":{\"filters\":[]},\"block\":{\"filters\":[]}}}}},\"googleanalytics\":{\"trackOutbound\":1,\"trackMailto\":1,\"trackDownload\":1,\"trackDownloadExtensions\":\"7z|aac|arc|arj|asf|asx|avi|bin|csv|doc(x|m)?|dot(x|m)?|exe|flv|gif|gz|gzip|hqx|jar|jpe?g|js|mp(2|3|4|e?g)|mov(ie)?|msi|msp|pdf|phps|png|ppt(x|m)?|pot(x|m)?|pps(x|m)?|ppam|sld(x|m)?|thmx|qtm?|ra(m|r)?|sea|sit|tar|tgz|torrent|txt|wav|wma|wmv|wpd|xls(x|m|b)?|xlt(x|m)|xlam|xml|z|zip\",\"trackColorbox\":1}});</script>\\n      <!--[if lt IE 9]>\\n    <script src=\"/sites/all/themes/youryale/js/polyfills/html5-respond.js\"></script>\\n    <![endif]-->\\n    <!--[if (gte IE 6)&(lte IE 8)]>\\n  <script type=\"text/javascript\" src=\"/sites/all/themes/youryale/js/polyfills/selectivizr-min.js\"></script>\\n  <![endif]-->\\n\\n</head>\\n<body class=\"html not-front not-logged-in one-sidebar sidebar-second page-node page-node- page-node-48096 node-type-procedure section-policies-procedures\" >\\n      <p id=\"skip-link\" class=\"skip-link\">\\n      <a href=\"#content\" class=\"element-invisible element-focusable\">Jump to content</a>\\n    </p>\\n      \\n\\n<div id=\"page\" class=\"page\">\\n\\n  <header class=\"header clearfix\" id=\"header\">\\n\\n     <div class=\"header__logo\">\\n      <a href=\"/\" title=\"It\\'s Your Yale\" class=\"header__logo-link\" rel=\"home\">\\n        <div class=\"element-invisible\">\\n          It\\'s Your Yale</div>\\n        <img src=\"/sites/all/themes/youryale/images/build/logo.png\"\\n          srcset=\"/sites/all/themes/youryale/images/build/logo.png 1x, /sites/all/themes/youryale/images/build/logo-2x.png 2x\"\\n          width=\"346\" alt=\"\" class=\"desktop-logo\">\\n        <img src=\"/sites/all/themes/youryale/images/build/logo-mobile.png\" width=\"346\" alt=\"\" class=\"mobile-logo\">\\n      </a>\\n    </div>\\n    <img src=\"/sites/all/themes/youryale/images/build/logo-2x.png\" width=\"300\" alt=\"It\\'s Your Yale\" class=\"print-logo\" > \\n\\n      <div class=\"header__region region region-header\">\\n    <div id=\"block-your-yale-mobile-nav-your-yale-mobile-nav-buttons\" class=\"block block--your-yale-mobile-nav block--your-yale-mobile-nav-your-yale-mobile-nav-buttons first odd\">\\n\\n      \\n  <a role=\"button\" class=\"nav-search\"><span class=\"element-invisible\">Search</span></a><a role=\"button\" class=\"nav-toggle\" href=\"#\" aria-expanded=\"false\"><div><span class=\"element-invisible\">Toggle the Menu</span></div></a>\\n</div>\\n<div id=\"block-menu-block-8\" class=\"block menu--header-utility-menu block--menu-block block--menu-block-8 even\">\\n\\n      \\n  <div class=\"menu-block-wrapper menu-block-8 menu-name-menu-utility-menu parent-mlid-0 menu-level-1\">\\n  <ul class=\"menu\"><li class=\"menu__item is-leaf first leaf menu-mlid-1096\"><a href=\"https://your.yale.edu/node/55675\" title=\"Yale Calendars\" class=\"menu__link\">Ycards</a></li>\\n<li class=\"menu__item is-leaf leaf menu-mlid-1101\"><a href=\"https://www.myworkday.com/yale\" title=\"Workday\" class=\"menu__link\">Workday</a></li>\\n<li class=\"menu__item is-leaf leaf menu-mlid-1106\"><a href=\"http://news.yale.edu/\" title=\"News\" class=\"menu__link\">News</a></li>\\n<li class=\"menu__item is-leaf leaf menu-mlid-28231\"><a href=\"https://directory.yale.edu/\" target=\"_blank\" class=\"menu__link\">Directories</a></li>\\n<li class=\"menu__item is-leaf leaf menu-mlid-29614\"><a href=\"/yale-links\" class=\"menu__link\">YaleLinks</a></li>\\n<li class=\"menu__item is-leaf last leaf menu-mlid-1121\"><a href=\"/search/node\" class=\"menu__link menu--search fa fa-search\">Search</a></li>\\n</ul></div>\\n\\n</div>\\n<div id=\"block-menu-block-2\" class=\"block menu--header-main-menu block--menu-block block--menu-block-2 odd\">\\n\\n      \\n  <div class=\"menu-block-wrapper menu-block-2 menu-name-main-menu parent-mlid-0 menu-level-1\">\\n  <ul class=\"menu\"><li class=\"menu__item is-expanded first expanded menu-mlid-996\"><a href=\"/work-yale\" class=\"menu__link\">Work at Yale</a><ul class=\"menu\"><li class=\"menu__item is-parent is-leaf first leaf has-children menu-mlid-28811\"><a href=\"/work-yale/workplace-guidance\" class=\"menu__link\">Workplace Guidance</a></li>\\n<li class=\"menu__item is-parent is-leaf leaf has-children menu-mlid-1021\"><a href=\"/work-yale/benefits\" title=\"Benefits\" class=\"menu__link\">Benefits</a></li>\\n<li class=\"menu__item is-parent is-leaf leaf has-children menu-mlid-29446\"><a href=\"/work-yale/careers\" class=\"menu__link\">Careers</a></li>\\n<li class=\"menu__item is-parent is-leaf leaf has-children menu-mlid-4401\"><a href=\"/work-yale/campus-services\" class=\"menu__link\">Campus Services</a></li>\\n<li class=\"menu__item is-parent is-leaf leaf has-children menu-mlid-25456\"><a href=\"/work-yale/financial-management\" class=\"menu__link\">Financial Management</a></li>\\n<li class=\"menu__item is-parent is-leaf leaf has-children menu-mlid-27909\"><a href=\"/work-yale/learn-grow\" class=\"menu__link\">Learn and Grow</a></li>\\n<li class=\"menu__item is-parent is-leaf leaf has-children menu-mlid-8826\"><a href=\"/work-yale/manager-toolkit\" class=\"menu__link\">Manager Toolkit</a></li>\\n<li class=\"menu__item is-parent is-leaf leaf has-children menu-mlid-27927\"><a href=\"/work-yale/staff-resources\" class=\"menu__link\">Staff Resources</a></li>\\n<li class=\"menu__item is-parent is-leaf leaf has-children menu-mlid-20511\"><a href=\"/work-yale/support\" class=\"menu__link\">Support</a></li>\\n<li class=\"menu__item is-parent is-leaf last leaf has-children menu-mlid-29210\"><a href=\"/work-yale/work-models-yale\" class=\"menu__link\">Work Models at Yale</a></li>\\n</ul></li>\\n<li class=\"menu__item is-expanded expanded menu-mlid-27026\"><a href=\"/technology\" class=\"menu__link\">Technology at Yale</a></li>\\n<li class=\"menu__item is-expanded expanded menu-mlid-23711\"><a href=\"/policies-procedures\" class=\"menu__link\">Policies &amp; Procedures</a><ul class=\"menu\"><li class=\"menu__item is-leaf first last leaf menu-mlid-27935\"><a href=\"/university-policies-procedures-forms-and-guides\" class=\"menu__link\">University Policies, Procedures, Forms, and Guides</a></li>\\n</ul></li>\\n<li class=\"menu__item is-expanded expanded menu-mlid-1011\"><a href=\"/research-support\" class=\"menu__link\">Research Support</a><ul class=\"menu\"><li class=\"menu__item is-parent is-leaf first leaf has-children menu-mlid-29234\"><a href=\"/research-support/office-research-administration\" class=\"menu__link\">Office of Research Administration</a></li>\\n<li class=\"menu__item is-parent is-leaf leaf has-children menu-mlid-5906\"><a href=\"/research-support/office-sponsored-projects\" class=\"menu__link\">Office of Sponsored Projects</a></li>\\n<li class=\"menu__item is-parent is-leaf leaf has-children menu-mlid-1216\"><a href=\"/research-support/human-research-protection-program\" title=\"Human Research\" class=\"menu__link\">Human Research Protection Program</a></li>\\n<li class=\"menu__item is-parent is-leaf leaf has-children menu-mlid-1211\"><a href=\"/research-support/animal-research-support\" title=\"Animal Research\" class=\"menu__link\">Animal Research Support</a></li>\\n<li class=\"menu__item is-parent is-leaf leaf has-children menu-mlid-1236\"><a href=\"/research-support/conflict-interest-office\" title=\"Conflict of Interest\" class=\"menu__link\">Conflict of Interest Office</a></li>\\n<li class=\"menu__item is-parent is-leaf leaf has-children menu-mlid-7011\"><a href=\"/research-support/export-controls\" class=\"menu__link\">Export Controls</a></li>\\n<li class=\"menu__item is-leaf leaf menu-mlid-11061\"><a href=\"/research-support/office-research-compliance\" class=\"menu__link\">Office of Research Compliance</a></li>\\n<li class=\"menu__item is-parent is-leaf last leaf has-children menu-mlid-5151\"><a href=\"/research-support/faculty-research-management-services\" class=\"menu__link\">Faculty Research Management Services</a></li>\\n</ul></li>\\n<li class=\"menu__item is-expanded last expanded menu-mlid-1016\"><a href=\"/community\" class=\"menu__link\">Community</a><ul class=\"menu\"><li class=\"menu__item is-parent is-leaf first leaf has-children menu-mlid-4051\"><a href=\"/community/diversity-and-inclusion\" class=\"menu__link\">Diversity and Inclusion</a></li>\\n<li class=\"menu__item is-parent is-leaf last leaf has-children menu-mlid-5661\"><a href=\"/community/public-safety\" class=\"menu__link\">Public Safety</a></li>\\n</ul></li>\\n</ul></div>\\n\\n</div>\\n<div id=\"block-views-exp-sitewide-search-page\" class=\"block block--views block--views--exp-sitewide-search-page last even\">\\n\\n      \\n  <form action=\"/search\" method=\"get\" id=\"views-exposed-form-sitewide-search-page\" accept-charset=\"UTF-8\"><div><div class=\"views-exposed-form\">\\n  <div class=\"views-exposed-widgets clearfix\">\\n          <div id=\"edit-search-api-views-fulltext-wrapper\" class=\"views-exposed-widget views-widget-filter-search_api_views_fulltext\">\\n                  <label for=\"edit-search-api-views-fulltext\">\\n            Search It&#039;s Your Yale          </label>\\n                        <div class=\"views-widget\">\\n          <div class=\"form-item form-type-textfield form-item-search-api-views-fulltext\">\\n <input placeholder=\"Search all of Yale...\" type=\"text\" id=\"edit-search-api-views-fulltext\" name=\"search_api_views_fulltext\" value=\"\" size=\"30\" maxlength=\"128\" class=\"form-text\" />\\n</div>\\n        </div>\\n              </div>\\n                    <div class=\"views-exposed-widget views-submit-button\">\\n      <input type=\"submit\" id=\"edit-submit-sitewide-search\" name=\"edit-submit-sitewide-search\" value=\"Search\" class=\"form-submit\" />    </div>\\n      </div>\\n</div>\\n</div></form>\\n</div>\\n  </div>\\n\\n  </header>\\n\\n  <div id=\"highlighted\" class=\"highlighted\">\\n      </div>\\n  <div id=\"main\" class=\"main clearfix\">\\n    <nav class=\"breadcrumb\"><div class=\"element-invisible\">You are here</div><a href=\"/\">Home</a><div class=\"breadcrumb__trail\" aria-hidden=\"true\">></div> <a href=\"/policies-procedures\">Policies &amp; Procedures</a><div class=\"breadcrumb__trail\" aria-hidden=\"true\">></div> <a href=\"/university-policies-procedures-forms-and-guides\">University Policies, Procedures, Forms, and Guides</a><div class=\"breadcrumb__trail\" aria-hidden=\"true\">></div> 1605 PR.01 Web Accessibility Procedure</nav>    <div id=\"content\" class=\"column main-content\" tabindex=\"-1\">\\n      <a id=\"main-content\"></a>\\n                    <h1 class=\"page__title title\" id=\"page-title\">1605 PR.01 Web Accessibility Procedure</h1>\\n                                            <ul class=\"action-links\"></ul>\\n            \\n\\n\\n<div  about=\"/policies-procedures/procedures/1605-pr01-web-accessibility-procedure\" typeof=\"sioc:Item foaf:Document\" class=\"ds-1col node node-48096 node--procedure clearfix node--view-mode-full view-mode-full clearfix\">\\n\\n  \\n  <div class=\"field field-label-inline clearfix field--date\"><div class=\"field-label\">Revision Date:&nbsp;</div><div class=\"field-items\"><div class=\"field-item even\"><span class=\"date-display-single\" property=\"dc:date\" datatype=\"xsd:dateTime\" content=\"2021-03-26T00:00:00-04:00\">March 26, 2021</span></div></div></div><div class=\"field field-label-hidden field--body\"><div class=\"field-items\"><div class=\"field-item even\" property=\"content:encoded\"><h2>Contents</h2>\\n<ol>\\n<li class=\"rteindent1\"><a href=\"#1\">Overview</a></li>\\n<li class=\"rteindent1\"><a href=\"#2\">Identifying a Site Owner for a University Website</a></li>\\n<li class=\"rteindent1\"><a href=\"#3\">Managing Content on a University Website</a></li>\\n<li class=\"rteindent1\"><a href=\"#4\">Evaluating a University Website for Accessibility</a></li>\\n<li class=\"rteindent1\"><a href=\"#5\">Requesting an Exception</a></li>\\n<li class=\"rteindent1\"><a href=\"#6\">Acquiring Accessible Software and Professional Services</a></li>\\n<li class=\"rteindent1\"><a href=\"#7\">Reporting and Responding to Accessibility Issues</a></li>\\n<li class=\"rteindent1\"><a href=\"#8\">Available Assistance</a></li>\\n</ol>\\n<div>\\n<h2><a name=\"1\" id=\"1\">1. Overview</a></h2>\\n</div>\\n<p><a href=\"/policies-procedures/policies/1605-web-accessibility-policy\">Policy 1605</a> <em>Web Accessibility Policy</em> was established to promote an accessible University environment online. This Procedure describes and specifies the steps a Site Owner may be required to take in order to comply with the Web Accessibility Policy. It also details the steps any unit can take to improve the accessibility of its University Website, and the help that is available to support this process.\\xa0 All capitalized terms in this Procedure shall have the definitions assigned to them in the Web Accessibility Policy, which shall be incorporated into this Procedure by reference.</p>\\n<div>\\n<h2><a name=\"2\" id=\"2\">2. Identifying a Site Owner for a University Website</a></h2>\\n</div>\\n<p>Per <a href=\"/policies-procedures/policies/1605-web-accessibility-policy\">Policy 1605</a> <em>Web Accessibility Policy</em>, a Site Owner is the designated role or individual responsible for a University Website, as determined by the cognizant Dean, Vice President, Chair and/or Director of a University unit. \\xa0Site ownership is best assigned to a role, instead of to individual people whose role can change over time. \\xa0Site Owners may not have the knowledge and skills to directly address the accessibility of the University Website they own. They are, however, responsible for the accessibility of these by holding accountable content creators, developers, Suppliers, and others whose assistance is needed to ensure the accessibility of the site.</p>\\n<p>ITS maintains a database of Site Owners and requests all changes in ownership to be reported via the <a href=\"https://its.yale.edu/it-help-and-support\">Help Desk</a>.</p>\\n<div>\\n<h2><a name=\"3\" id=\"3\">3. Managing Content on a University Website</a></h2>\\n</div>\\n<p>To meet the requirements of <a href=\"/policies-procedures/policies/1605-web-accessibility-policy\">Policy 1605</a> <em>Web Accessibility Policy</em>, University Websites should be in compliance with the Standards. \\xa0\\xa0 <a href=\"https://usability.yale.edu/web-accessibility/learning-accessibility/accessibility-concepts?field_accessibility_audience_tid=6\">Information on creating accessible content</a> can be found on the <a href=\"https://usability.yale.edu/web-accessibility\">Usability &amp; Web Accessibility website</a>.</p>\\n<div>\\n<h2><a name=\"4\" id=\"4\">4. Evaluating a University Website for Accessibility</a></h2>\\n</div>\\n<p>Evaluating a University Website for accessibility can be handled in multiple ways. It is recommended to apply a variety of approaches. ITS can assist with accessibility testing, including identifying reputable Suppliers.\\xa0 For more <a href=\"https://usability.yale.edu/web-accessibility/testing-accessibility\">information on accessibility testing</a>, visit the <a href=\"https://usability.yale.edu/web-accessibility\">Usability &amp; Web Accessibility website</a>.</p>\\n<h3>Automatic scanning</h3>\\n<p>The use of automatic scanning tools such as WAVE or SiteImprove is recommended as a quick way to determine a rough level of accessibility; however, these tools cannot be relied on as the only means of assessment.</p>\\n<h3>Manual checklist</h3>\\n<p>A <a href=\"https://usability.yale.edu/web-accessibility/testing-accessibility/accessibility-testing-procedures\">variety of manual checklists</a> suited for developers, as well as visual designers and content creators, are available on the <a href=\"https://usability.yale.edu/web-accessibility\">Usability &amp; Web Accessibility website</a>. Checklists can be simple and quick guides to identify the most common accessibility issues, or extensive documents which lead a development team through a full review.</p>\\n<h3>User testing</h3>\\n<p>User testing can identify accessibility challenges that may render a site or web-based service difficult for people with disabilities to use. Assistive technology should be used as part of user testing.</p>\\n<h3>Expert review</h3>\\n<p>ITS can assist with identifying reputable Suppliers for those wishing to have a third-party expert to validate accessibility. After review, Suppliers can either remediate or provide guidance to the site’s developers and/or content creators on remediation.</p>\\n<div>\\n<h2><a name=\"5\" id=\"5\">5. Requesting an Exception</a></h2>\\n</div>\\n<p>In order to request an exception to <a href=\"/policies-procedures/policies/1605-web-accessibility-policy\">Policy 1605</a> <em>Web Accessibility Policy</em>, the Site Owner may be required to complete an Exception Request which details the use and audience for the University Website and why compliance is not technically feasible or would create an undue hardship (e.g., by fundamentally altering the site). In addition, an accommodation plan may be required. An <a href=\"https://yale.box.com/s/slqz61uz0ja1j19a0bdtqlxw0h74xi4p\">Exception Request template</a> is available. Email the completed template to the Accessibility Steering Committee via <a href=\"&#109;&#97;&#105;&#108;&#116;&#111;&#58;&#97;&#99;&#99;&#101;&#115;&#115;&#105;&#98;&#105;&#108;&#105;&#116;&#121;&#64;&#121;&#97;&#108;&#101;&#46;&#101;&#100;&#117;\">&#97;&#99;&#99;&#101;&#115;&#115;&#105;&#98;&#105;&#108;&#105;&#116;&#121;&#64;&#121;&#97;&#108;&#101;&#46;&#101;&#100;&#117;</a>.</p>\\n<div>\\n<h2><a name=\"6\" id=\"6\">6. Acquiring Accessible Software and Professional Services</a></h2>\\n</div>\\n<h3>The Supplier Selection Process</h3>\\n<p>It is important to consider accessibility from the beginning of the software or service acquisition process.\\xa0 This includes software and web-based services that may be free or built in-house or by Suppliers.\\xa0 Waiting until the later stages of the acquisition or development process may fail to uncover an accessible solution with the desired functionality and features. \\xa0When purchasing or otherwise acquiring a website or web application, whether via a software license or professional services, fill out the <a href=\"https://yalesurvey.qualtrics.com/SE/?SID=SV_80bECxqylY4JwqN&amp;Q_JFE=0\">Web or Technology Procurement Updates Form</a> to inform the ITS Digital Accessibility team, so they can engage with the acquiring unit and Procurement (if applicable) in evaluating the accessibility of applicable deliverables and/or services.</p>\\n<p>When evaluating proposals submitted by Suppliers, apply proper weighting to accessibility responses during scoring.</p>\\n<h3>Contract Negotiation and Signing</h3>\\n<p>While Procurement is negotiating the contract with the selected Supplier, the Site Owner will be responsible for providing input about the use of the product being purchased, to assist with decisions around accessibility.</p>\\n<p>When receiving an exception for the purchase of a product which does not fully comply with WCAG 2.0 Level AA, the Site Owner may be required to document an accommodation plan to meet the needs of users with disabilities and/or a roadmap to full compliance. \\xa0In addition, the contract for the product may include a roadmap with target dates for the product to achieve full compliance. \\xa0Engage the ITS Digital Accessibility team for assistance in assessing the appropriateness of the Supplier’s roadmap.\\xa0 For more information about this process, visit the <a href=\"https://usability.yale.edu/web-accessibility/working-vendors\">Working with Vendors</a> section of the <a href=\"https://usability.yale.edu/web-accessibility\">Usability &amp; Web Accessibility website</a>.</p>\\n<h3>Implement Roadmap to Accessibility Compliance</h3>\\n<p>When the contract includes target dates for a Supplier to achieve full compliance with WCAG 2.0 Level AA, it is the Site Owner’s responsibility to contact Suppliers and inquire about adherence to their roadmap. \\xa0If a Supplier is not cooperative, engage Procurement for assistance. \\xa0If the site is free or based on work done by a Supplier or in-house, the Site Owner is responsible for ensuring the roadmap target dates are met. \\xa0When the product is accessible, notify the Accessibility Steering Committee via <a href=\"&#109;&#97;&#105;&#108;&#116;&#111;&#58;&#97;&#99;&#99;&#101;&#115;&#115;&#105;&#98;&#105;&#108;&#105;&#116;&#121;&#64;&#121;&#97;&#108;&#101;&#46;&#101;&#100;&#117;\">&#97;&#99;&#99;&#101;&#115;&#115;&#105;&#98;&#105;&#108;&#105;&#116;&#121;&#64;&#121;&#97;&#108;&#101;&#46;&#101;&#100;&#117;</a>.</p>\\n<div>\\n<h2><a name=\"7\" id=\"7\">7. Reporting and Responding to Accessibility Issues</a></h2>\\n</div>\\n<h3>Accessibility Statement Page\\xa0</h3>\\n<p>ITS will make available an <a href=\"https://usability.yale.edu/web-accessibility/accessibility-yale\">Accessibility Statement page</a> on the <a href=\"https://usability.yale.edu/web-accessibility\">Usability &amp; Web Accessibility website</a>.\\xa0 This page can be linked from any University Website to communicate the University’s commitment to accessibility. The Accessibility Statement Page will link to an Accessibility Comments and Suggestions form. \\xa0This form can also be linked from any University Website to allow an easy way for the submission of requests, comments and suggestions on technology accessibility.</p>\\n<h3>Site Owner Responsibilities</h3>\\n<p>Site Owners must ensure their University Website complies with <a href=\"/policies-procedures/policies/1605-web-accessibility-policy\">Policy 1605</a> <em>Web Accessibility Policy</em>.</p>\\n<p>All University Websites must include or link to an Accessibility Statement page and to a form allowing the submission of requests, comments and suggestions on technology accessibility. \\xa0These pages must be easy for site visitors to locate.\\xa0 The preferred approach is a link in the footer of each page with link text of “Accessibility” linking to the <a href=\"https://usability.yale.edu/web-accessibility/accessibility-yale\">Accessibility Statement page</a> on the <a href=\"https://usability.yale.edu/web-accessibility\">Usability &amp; Web Accessibility website</a>.</p>\\n<p>If a Site Owner receives a complaint directly, they should immediately report it via the <a href=\"https://yale.service-now.com/its?id=accessibility_comments\">Accessibility Comments and Suggestions form</a>.</p>\\n<p>Site Owners shall treat all accessibility issues with a sense of urgency. \\xa0Address any time-sensitive need of the user promptly (generally within a period of no greater than two business days), unless technology or work involved requires more effort. \\xa0If Site Owners are unable to address the accessibility need of a user promptly, they must contact Student Accessibility Services (for reports from students or visitors) or the Office of Institutional Equity and Accessibility (for reports from others). \\xa0In all cases, accessibility issues must be reported centrally via the university Accessibility Comments and Suggestions Form.</p>\\n<h3>How ITS Handles Accessibility Issues</h3>\\n<p>Upon receiving a report of an accessibility issue, the ITS Digital Accessibility team acknowledges receipt of the issue via email to the individual raising the issue, with a copy to the Site Owner. \\xa0In addition, the ITS Digital Accessibility team notifies Student Accessibility Services (for reports from students or visitors) or the Office of Institutional Equity and Accessibility (for reports from others). \\xa0If the ITS Digital Accessibility team, in consultation with the Site Owner, determines that the information or service provided on the University Website cannot be made accessible, or that doing so would constitute an undue burden, Student Accessibility Services or the Office of Institutional Equity and Accessibility will engage with the user and Site Owner to determine alternative methods for providing the information or service. \\xa0In the event that an alternative format or service cannot be provided or the user is not satisfied with the results, the Accessibility Steering Committee may be called upon for assistance.</p>\\n<div>\\n<h2><a name=\"8\" id=\"8\">8. Available Assistance</a></h2>\\n</div>\\n<h3>Procurement</h3>\\n<p>Procurement has templates for all stages of the purchasing process to hold Suppliers accountable for accessibility. \\xa0Procurement will coordinate with the ITS Digital Accessibility team to provide expert assistance with the purchase of accessible solutions.\\xa0 <a href=\"https://usability.yale.edu/web-accessibility/working-vendors\">Information on the acquisition of accessible free or custom-built software</a> is available on the <a href=\"https://usability.yale.edu/web-accessibility\">Usability &amp; Web Accessibility website</a>.</p>\\n<h3>Training and Support</h3>\\n<p>To assist staff, faculty, and students in meeting the responsibilities described in this document, Yale will make training and support readily available, including a website devoted to providing information regarding web accessibility, the <a href=\"https://usability.yale.edu/web-accessibility\">Usability &amp; Web Accessibility website</a>.</p>\\n<p>The training and support will include specific information for staff, faculty, and students who are responsible for creating, selecting, or maintaining web pages and web-based content in any University program, service or activity. \\xa0The training and support will also include instructions on how to make websites accessible, how to both manually check and use automated tools to ensure the accessibility of content therein, and how to get assistance.</p>\\n<h3>Consulting</h3>\\n<p>On-campus consulting will be made available for designing and implementing websites that meet accessibility guidelines and for evaluating the accessibility of existing sites and those under development. \\xa0If such assistance is needed, please visit the <a href=\"https://usability.yale.edu/web-accessibility\">Usability &amp; Web Accessibility website</a> or email the ITS Digital Accessibility team at <a href=\"&#109;&#97;&#105;&#108;&#116;&#111;&#58;&#97;&#99;&#99;&#101;&#115;&#115;&#105;&#98;&#105;&#108;&#105;&#116;&#121;&#64;&#121;&#97;&#108;&#101;&#46;&#101;&#100;&#117;\">&#97;&#99;&#99;&#101;&#115;&#115;&#105;&#98;&#105;&#108;&#105;&#116;&#121;&#64;&#121;&#97;&#108;&#101;&#46;&#101;&#100;&#117;</a>.</p>\\n<h3>Financial Responsibility</h3>\\n<p>The responsibility for assuring that a University Website is accessible, including providing required funds, rests with the cognizant Dean, Vice President, Chair and/or Director of a University unit. \\xa0Consideration of the costs related to creating accessible web-based information and services early in the development or procurement process will help Site Owners plan their budgets appropriately. \\xa0For help thinking through the financial impact of making your site, information or service accessible, contact the ITS Digital Accessibility team at <a href=\"&#109;&#97;&#105;&#108;&#116;&#111;&#58;&#97;&#99;&#99;&#101;&#115;&#115;&#105;&#98;&#105;&#108;&#105;&#116;&#121;&#64;&#121;&#97;&#108;&#101;&#46;&#101;&#100;&#117;\">&#97;&#99;&#99;&#101;&#115;&#115;&#105;&#98;&#105;&#108;&#105;&#116;&#121;&#64;&#121;&#97;&#108;&#101;&#46;&#101;&#100;&#117;</a>.</p>\\n</div></div></div><div class=\"field field-label-hidden field--tags-view\"><div class=\"field-items\"><div class=\"field-item even\"></div></div></div></div>\\n\\n<div id=\"block-views-related-documents-block\" class=\"block block--related-information block--views block--views-related-documents-block last even\">\\n\\n        <h2 class=\"block__title block__title block-title\">Related Resources</h2>\\n    \\n  <div class=\"view view--related-documents view--id-related_documents view--display-id-block view--dom-id-4f00ba78b73c97ab4b955a7778a1b002 view-related-documents view-id-related_documents view-display-id-block view-dom-id-4f00ba78b73c97ab4b955a7778a1b002\">\\n        \\n  \\n  \\n      <div class=\"view-content\">\\n      <div class=\"grouped-view\">\\n\\t\\t\\t  <div class=\"views-row views-row-1 views-row-odd views-row-first views-row-last\">\\n\\t      \\n  <div class=\"views-field views-field-field-related-policies-procedure\">        <div class=\"field-content\"><a href=\"/policies-procedures/policies/1605-web-accessibility-policy\">1605 Web Accessibility Policy</a></div>  </div>\\t  </div>\\n\\t</div>\\n    </div>\\n  \\n  \\n      <div class=\"attachment attachment-after\">\\n      <div class=\"view view--related-documents view--id-related_documents view--display-id-attachment_1 view-related-documents view-id-related_documents view-display-id-attachment_1\">\\n        \\n  \\n  \\n      <div class=\"view-content\">\\n      <div class=\"grouped-view\">\\n\\t\\t\\t  <div class=\"views-row views-row-1 views-row-odd views-row-first views-row-last\">\\n\\t      \\n  <div class=\"views-field views-field-field-link-to-external-story\">        <div class=\"field-content\"></div>  </div>\\t  </div>\\n\\t</div>\\n    </div>\\n  \\n  \\n  \\n  \\n  \\n  \\n</div>    </div>\\n  \\n  \\n  \\n  \\n</div>\\n</div>\\n          </div>\\n\\n    \\n          <aside class=\"sidebars\">\\n                  <section class=\"region region-sidebar-second column sidebar\">\\n    <div id=\"block-views-contact-information-block\" class=\"block block--sidebar block--views block--views-contact-information-block first last odd\">\\n\\n        <h2 class=\"block__title block__title block-title\">Contact Information</h2>\\n    \\n  <div class=\"view view--contact-information view--id-contact_information view--display-id-block view--dom-id-f2a1a3d8300cdcfa4e256ae032859540 view-contact-information view-id-contact_information view-display-id-block view-dom-id-f2a1a3d8300cdcfa4e256ae032859540\">\\n        \\n  \\n  \\n      <div class=\"view-content\">\\n      <div class=\"grouped-view\">\\n\\t\\t\\t  <div class=\"views-row views-row-1 views-row-odd views-row-first views-row-last\">\\n\\t      \\n  <div class=\"views-field views-field-field-contact-information\">        <div class=\"field-content\"><ul>\\n<li><strong>Web Accessibility, General</strong>: <em>Accessibility Steering Committee</em>: <a href=\"&#109;&#97;&#105;&#108;&#116;&#111;&#58;&#97;&#99;&#99;&#101;&#115;&#115;&#105;&#98;&#105;&#108;&#105;&#116;&#121;&#64;&#121;&#97;&#108;&#101;&#46;&#101;&#100;&#117;\">&#97;&#99;&#99;&#101;&#115;&#115;&#105;&#98;&#105;&#108;&#105;&#116;&#121;&#64;&#121;&#97;&#108;&#101;&#46;&#101;&#100;&#117;</a></li>\\n<li><strong>Web Accessibility, Technical Assistance</strong>: <em>ITS Digital Accessibility Team</em>: <a href=\"&#109;&#97;&#105;&#108;&#116;&#111;&#58;&#97;&#99;&#99;&#101;&#115;&#115;&#105;&#98;&#105;&#108;&#105;&#116;&#121;&#64;&#121;&#97;&#108;&#101;&#46;&#101;&#100;&#117;\">&#97;&#99;&#99;&#101;&#115;&#115;&#105;&#98;&#105;&#108;&#105;&#116;&#121;&#64;&#121;&#97;&#108;&#101;&#46;&#101;&#100;&#117;</a></li>\\n<li><strong>Web Accessibility, Purchasing Services</strong>: <em>Procurement</em>: <a href=\"&#109;&#97;&#105;&#108;&#116;&#111;&#58;&#112;&#114;&#111;&#99;&#117;&#114;&#101;&#109;&#101;&#110;&#116;&#64;&#121;&#97;&#108;&#101;&#46;&#101;&#100;&#117;\">&#112;&#114;&#111;&#99;&#117;&#114;&#101;&#109;&#101;&#110;&#116;&#64;&#121;&#97;&#108;&#101;&#46;&#101;&#100;&#117;</a></li>\\n</ul>\\n<p>\\n\\xa0</p>\\n</div>  </div>\\t  </div>\\n\\t</div>\\n    </div>\\n  \\n  \\n  \\n  \\n  \\n  \\n</div>\\n</div>\\n  </section>\\n      </aside>\\n    \\n  </div>\\n  \\n  <div id=\"secondary-content\" class=\"secondary-content\">\\n      </div>\\n\\n    <footer id=\"footer\" class=\"region region-footer clearfix\">\\n  \\t<div class=\"footer__inner\">\\n    \\t<div id=\"block-block-258\" class=\"block footer-menu__column block--block block--block-258 first odd\">\\n\\n        <h2 class=\"block__title block__title block-title\">Helpful Links</h2>\\n    \\n  <ul>\\n<li><a href=\"/operations\">Operations</a></li>\\n<li><a href=\"/work-yale/campus-services/parking-and-transportation-options\">Parking and Transportation Options</a></li>\\n<li><a href=\"/community/public-safety\">Public Safety</a></li>\\n<li><a href=\"/work-yale/support\">Support</a></li>\\n<li><a href=\"/our-offices\">Our Offices</a></li>\\n</ul>\\n\\n</div>\\n<div id=\"block-block-259\" class=\"block footer-menu__column block--block block--block-259 even\">\\n\\n        <h2 class=\"block__title block__title block-title\">Required Information</h2>\\n    \\n  <ul>\\n<li><a href=\"https://usability.yale.edu/web-accessibility/accessibility-yale\">Accessibility at Yale</a></li>\\n<li><a href=\"/federal-and-state-notice-requirements\">Federal and State Notice Requirements</a></li>\\n<li><a href=\"https://www.yale.edu/nondiscrimination\">Nondiscrimination/Title IX</a></li>\\n<li><a href=\"https://www.yale.edu/privacy-policy\">Privacy Policy</a></li>\\n</ul>\\n\\n</div>\\n<div id=\"block-block-250\" class=\"block footer-menu__column block--block block--block-250 odd\">\\n\\n        <h2 class=\"block__title block__title block-title\">Yale Shuttle</h2>\\n    \\n  <p><a href=\"/work-yale/campus-services/parking-and-transportation-options/shuttle\"><img alt=\"Yale Shuttle Map\" src=\"/sites/default/files/images/Yale-Shuttle-Map.jpg\" style=\"width:185px; height:123px\" width=\"185\" height=\"123\" /></a></p>\\n\\n</div>\\n<div id=\"block-block-6\" class=\"block block--footer-copyright block--block block--block-6 last even\">\\n\\n      \\n  <div class=\"footer-copyright__logo\"><a class=\"icon-yale\" href=\"http://www.yale.edu\"><span class=\"element-invisible\">Yale</span></a></div>\\n<div class=\"footer-copyright__links\">Copyright &copy; 2023 Yale University <span class=\"link-segment first\">All Rights Reserved</span> <a href=\"/contact-us\" class=\"link-segment\">Contact Internal Communications</a></div>\\n\\n</div>\\n\\t</div>\\n  </footer>\\n\\n</div>\\n\\n  <script src=\"https://your.yale.edu/sites/default/files/js/js_OolvlotAkDBzF3Ryz2uN24wmwGGhm89rPlIemytlzkI.js\"></script>\\n<script>\\n      (function() {\\n      var sz = document.createElement(\\'script\\'); sz.type = \\'text/javascript\\'; sz.async = true;\\n      sz.src = \\'//siteimproveanalytics.com/js/siteanalyze_66356571.js\\';\\n      var s = document.getElementsByTagName(\\'script\\')[0]; s.parentNode.insertBefore(sz, s);\\n      })();\\n      </script>\\n<script type=\"text/javascript\">window.NREUM||(NREUM={});NREUM.info={\"beacon\":\"bam.nr-data.net\",\"licenseKey\":\"6ac5e27a90\",\"applicationID\":\"168632476\",\"transactionName\":\"NFAAZ0RQW0MAU0EKCw0aI1BCWFpeTl5aBwE8RQNUU25DWQRH\",\"queueTime\":0,\"applicationTime\":589,\"atts\":\"GBcDEQxKSE0=\",\"errorBeacon\":\"bam.nr-data.net\",\"agent\":\"\"}</script></body>\\n</html>\\n'"
            ],
            "application/vnd.google.colaboratory.intrinsic+json": {
              "type": "string"
            }
          },
          "metadata": {},
          "execution_count": 141
        }
      ]
    },
    {
      "cell_type": "code",
      "source": [
        "soup = BeautifulSoup(html_text, 'lxml')"
      ],
      "metadata": {
        "id": "jP8x671kMboV"
      },
      "execution_count": null,
      "outputs": []
    },
    {
      "cell_type": "code",
      "source": [
        "jobs = soup.find_all(['h1', 'h2', 'h3', 'p', 'span'])"
      ],
      "metadata": {
        "id": "SFBshNIZNB5p"
      },
      "execution_count": null,
      "outputs": []
    },
    {
      "cell_type": "code",
      "source": [
        "retrievedText = []"
      ],
      "metadata": {
        "id": "gECfvKl4iwBR"
      },
      "execution_count": null,
      "outputs": []
    },
    {
      "cell_type": "code",
      "source": [
        "for job in jobs:\n",
        "  retrievedText.append(job.text.replace('\\n', ''))"
      ],
      "metadata": {
        "id": "-HRf_WAfOmZP"
      },
      "execution_count": null,
      "outputs": []
    },
    {
      "cell_type": "code",
      "source": [
        "retrievedText = list(set([string.strip() for string in retrievedText if string != \"\"]))  #removing empty and duplicate strings"
      ],
      "metadata": {
        "id": "0HFUTcOXlAte"
      },
      "execution_count": null,
      "outputs": []
    },
    {
      "cell_type": "code",
      "source": [
        "retrievedText"
      ],
      "metadata": {
        "colab": {
          "base_uri": "https://localhost:8080/"
        },
        "id": "bFS4dgGTkFJx",
        "outputId": "90c6043a-e1b2-471d-e6b5-1acd88815aab"
      },
      "execution_count": null,
      "outputs": [
        {
          "output_type": "execute_result",
          "data": {
            "text/plain": [
              "['While Procurement is negotiating the contract with the selected Supplier, the Site Owner will be responsible for providing input about the use of the product being purchased, to assist with decisions around accessibility.',\n",
              " 'To assist staff, faculty, and students in meeting the responsibilities described in this document, Yale will make training and support readily available, including a website devoted to providing information regarding web accessibility, the Usability & Web Accessibility website.',\n",
              " '',\n",
              " 'When receiving an exception for the purchase of a product which does not fully comply with WCAG 2.0 Level AA, the Site Owner may be required to document an accommodation plan to meet the needs of users with disabilities and/or a roadmap to full compliance. \\xa0In addition, the contract for the product may include a roadmap with target dates for the product to achieve full compliance. \\xa0Engage the ITS Digital Accessibility team for assistance in assessing the appropriateness of the Supplier’s roadmap.\\xa0 For more information about this process, visit the Working with Vendors section of the Usability & Web Accessibility website.',\n",
              " 'All University Websites must include or link to an Accessibility Statement page and to a form allowing the submission of requests, comments and suggestions on technology accessibility. \\xa0These pages must be easy for site visitors to locate.\\xa0 The preferred approach is a link in the footer of each page with link text of “Accessibility” linking to the Accessibility Statement page on the Usability & Web Accessibility website.',\n",
              " 'User testing',\n",
              " 'The training and support will include specific information for staff, faculty, and students who are responsible for creating, selecting, or maintaining web pages and web-based content in any University program, service or activity. \\xa0The training and support will also include instructions on how to make websites accessible, how to both manually check and use automated tools to ensure the accessibility of content therein, and how to get assistance.',\n",
              " 'Required Information',\n",
              " 'Helpful Links',\n",
              " 'All Rights Reserved',\n",
              " 'Evaluating a University Website for accessibility can be handled in multiple ways. It is recommended to apply a variety of approaches. ITS can assist with accessibility testing, including identifying reputable Suppliers.\\xa0 For more information on accessibility testing, visit the Usability & Web Accessibility website.',\n",
              " 'Expert review',\n",
              " 'Accessibility Statement Page',\n",
              " 'Contract Negotiation and Signing',\n",
              " 'Contact Information',\n",
              " 'Toggle the Menu',\n",
              " 'Per Policy 1605 Web Accessibility Policy, a Site Owner is the designated role or individual responsible for a University Website, as determined by the cognizant Dean, Vice President, Chair and/or Director of a University unit. \\xa0Site ownership is best assigned to a role, instead of to individual people whose role can change over time. \\xa0Site Owners may not have the knowledge and skills to directly address the accessibility of the University Website they own. They are, however, responsible for the accessibility of these by holding accountable content creators, developers, Suppliers, and others whose assistance is needed to ensure the accessibility of the site.',\n",
              " '1605 PR.01 Web Accessibility Procedure',\n",
              " 'Manual checklist',\n",
              " '5. Requesting an Exception',\n",
              " 'ITS maintains a database of Site Owners and requests all changes in ownership to be reported via the Help Desk.',\n",
              " 'On-campus consulting will be made available for designing and implementing websites that meet accessibility guidelines and for evaluating the accessibility of existing sites and those under development. \\xa0If such assistance is needed, please visit the Usability & Web Accessibility website or email the ITS Digital Accessibility team at accessibility@yale.edu.',\n",
              " '6. Acquiring Accessible Software and Professional Services',\n",
              " 'Financial Responsibility',\n",
              " '3. Managing Content on a University Website',\n",
              " 'Consulting',\n",
              " 'User testing can identify accessibility challenges that may render a site or web-based service difficult for people with disabilities to use. Assistive technology should be used as part of user testing.',\n",
              " 'Yale Shuttle',\n",
              " 'Search',\n",
              " 'The use of automatic scanning tools such as WAVE or SiteImprove is recommended as a quick way to determine a rough level of accessibility; however, these tools cannot be relied on as the only means of assessment.',\n",
              " '2. Identifying a Site Owner for a University Website',\n",
              " 'Jump to content',\n",
              " 'Site Owner Responsibilities',\n",
              " 'Site Owners shall treat all accessibility issues with a sense of urgency. \\xa0Address any time-sensitive need of the user promptly (generally within a period of no greater than two business days), unless technology or work involved requires more effort. \\xa0If Site Owners are unable to address the accessibility need of a user promptly, they must contact Student Accessibility Services (for reports from students or visitors) or the Office of Institutional Equity and Accessibility (for reports from others). \\xa0In all cases, accessibility issues must be reported centrally via the university Accessibility Comments and Suggestions Form.',\n",
              " '8. Available Assistance',\n",
              " 'Yale',\n",
              " 'When the contract includes target dates for a Supplier to achieve full compliance with WCAG 2.0 Level AA, it is the Site Owner’s responsibility to contact Suppliers and inquire about adherence to their roadmap. \\xa0If a Supplier is not cooperative, engage Procurement for assistance. \\xa0If the site is free or based on work done by a Supplier or in-house, the Site Owner is responsible for ensuring the roadmap target dates are met. \\xa0When the product is accessible, notify the Accessibility Steering Committee via accessibility@yale.edu.',\n",
              " 'Procurement has templates for all stages of the purchasing process to hold Suppliers accountable for accessibility. \\xa0Procurement will coordinate with the ITS Digital Accessibility team to provide expert assistance with the purchase of accessible solutions.\\xa0 Information on the acquisition of accessible free or custom-built software is available on the Usability & Web Accessibility website.',\n",
              " 'March 26, 2021',\n",
              " '4. Evaluating a University Website for Accessibility',\n",
              " '7. Reporting and Responding to Accessibility Issues',\n",
              " 'Site Owners must ensure their University Website complies with Policy 1605 Web Accessibility Policy.',\n",
              " 'How ITS Handles Accessibility Issues',\n",
              " 'Related Resources',\n",
              " 'Procurement',\n",
              " 'Training and Support',\n",
              " 'Contents',\n",
              " 'Implement Roadmap to Accessibility Compliance',\n",
              " 'It is important to consider accessibility from the beginning of the software or service acquisition process.\\xa0 This includes software and web-based services that may be free or built in-house or by Suppliers.\\xa0 Waiting until the later stages of the acquisition or development process may fail to uncover an accessible solution with the desired functionality and features. \\xa0When purchasing or otherwise acquiring a website or web application, whether via a software license or professional services, fill out the Web or Technology Procurement Updates Form to inform the ITS Digital Accessibility team, so they can engage with the acquiring unit and Procurement (if applicable) in evaluating the accessibility of applicable deliverables and/or services.',\n",
              " 'A variety of manual checklists suited for developers, as well as visual designers and content creators, are available on the Usability & Web Accessibility website. Checklists can be simple and quick guides to identify the most common accessibility issues, or extensive documents which lead a development team through a full review.',\n",
              " 'The responsibility for assuring that a University Website is accessible, including providing required funds, rests with the cognizant Dean, Vice President, Chair and/or Director of a University unit. \\xa0Consideration of the costs related to creating accessible web-based information and services early in the development or procurement process will help Site Owners plan their budgets appropriately. \\xa0For help thinking through the financial impact of making your site, information or service accessible, contact the ITS Digital Accessibility team at accessibility@yale.edu.',\n",
              " 'Policy 1605 Web Accessibility Policy was established to promote an accessible University environment online. This Procedure describes and specifies the steps a Site Owner may be required to take in order to comply with the Web Accessibility Policy. It also details the steps any unit can take to improve the accessibility of its University Website, and the help that is available to support this process.\\xa0 All capitalized terms in this Procedure shall have the definitions assigned to them in the Web Accessibility Policy, which shall be incorporated into this Procedure by reference.',\n",
              " 'ITS will make available an Accessibility Statement page on the Usability & Web Accessibility website.\\xa0 This page can be linked from any University Website to communicate the University’s commitment to accessibility. The Accessibility Statement Page will link to an Accessibility Comments and Suggestions form. \\xa0This form can also be linked from any University Website to allow an easy way for the submission of requests, comments and suggestions on technology accessibility.',\n",
              " 'ITS can assist with identifying reputable Suppliers for those wishing to have a third-party expert to validate accessibility. After review, Suppliers can either remediate or provide guidance to the site’s developers and/or content creators on remediation.',\n",
              " 'To meet the requirements of Policy 1605 Web Accessibility Policy, University Websites should be in compliance with the Standards. \\xa0\\xa0 Information on creating accessible content can be found on the Usability & Web Accessibility website.',\n",
              " 'The Supplier Selection Process',\n",
              " 'In order to request an exception to Policy 1605 Web Accessibility Policy, the Site Owner may be required to complete an Exception Request which details the use and audience for the University Website and why compliance is not technically feasible or would create an undue hardship (e.g., by fundamentally altering the site). In addition, an accommodation plan may be required. An Exception Request template is available. Email the completed template to the Accessibility Steering Committee via accessibility@yale.edu.',\n",
              " '1. Overview',\n",
              " 'Automatic scanning',\n",
              " 'If a Site Owner receives a complaint directly, they should immediately report it via the Accessibility Comments and Suggestions form.',\n",
              " 'When evaluating proposals submitted by Suppliers, apply proper weighting to accessibility responses during scoring.',\n",
              " 'Upon receiving a report of an accessibility issue, the ITS Digital Accessibility team acknowledges receipt of the issue via email to the individual raising the issue, with a copy to the Site Owner. \\xa0In addition, the ITS Digital Accessibility team notifies Student Accessibility Services (for reports from students or visitors) or the Office of Institutional Equity and Accessibility (for reports from others). \\xa0If the ITS Digital Accessibility team, in consultation with the Site Owner, determines that the information or service provided on the University Website cannot be made accessible, or that doing so would constitute an undue burden, Student Accessibility Services or the Office of Institutional Equity and Accessibility will engage with the user and Site Owner to determine alternative methods for providing the information or service. \\xa0In the event that an alternative format or service cannot be provided or the user is not satisfied with the results, the Accessibility Steering Committee may be called upon for assistance.']"
            ]
          },
          "metadata": {},
          "execution_count": 147
        }
      ]
    },
    {
      "cell_type": "code",
      "source": [
        "df = pd.DataFrame(retrievedText, columns=['en'])"
      ],
      "metadata": {
        "id": "9GhqfVDjngJK"
      },
      "execution_count": null,
      "outputs": []
    },
    {
      "cell_type": "code",
      "source": [
        "df['en'] = df['en'].str.replace(r'\\s+', ' ', regex=True)"
      ],
      "metadata": {
        "id": "1vy7u8--ok6m"
      },
      "execution_count": null,
      "outputs": []
    },
    {
      "cell_type": "code",
      "source": [
        "df = df.dropna(how='all')\n",
        "df = df[df['en'] != '']\n",
        "df"
      ],
      "metadata": {
        "colab": {
          "base_uri": "https://localhost:8080/",
          "height": 424
        },
        "id": "fqv9fxFFo3A6",
        "outputId": "5ceba920-f6ed-454c-840f-8f113659f33e"
      },
      "execution_count": null,
      "outputs": [
        {
          "output_type": "execute_result",
          "data": {
            "text/plain": [
              "                                                   en\n",
              "0   While Procurement is negotiating the contract ...\n",
              "1   To assist staff, faculty, and students in meet...\n",
              "3   When receiving an exception for the purchase o...\n",
              "4   All University Websites must include or link t...\n",
              "5                                        User testing\n",
              "..                                                ...\n",
              "57                                        1. Overview\n",
              "58                                 Automatic scanning\n",
              "59  If a Site Owner receives a complaint directly,...\n",
              "60  When evaluating proposals submitted by Supplie...\n",
              "61  Upon receiving a report of an accessibility is...\n",
              "\n",
              "[61 rows x 1 columns]"
            ],
            "text/html": [
              "\n",
              "  <div id=\"df-d24832d6-6ad6-4408-9581-617112af4ba3\">\n",
              "    <div class=\"colab-df-container\">\n",
              "      <div>\n",
              "<style scoped>\n",
              "    .dataframe tbody tr th:only-of-type {\n",
              "        vertical-align: middle;\n",
              "    }\n",
              "\n",
              "    .dataframe tbody tr th {\n",
              "        vertical-align: top;\n",
              "    }\n",
              "\n",
              "    .dataframe thead th {\n",
              "        text-align: right;\n",
              "    }\n",
              "</style>\n",
              "<table border=\"1\" class=\"dataframe\">\n",
              "  <thead>\n",
              "    <tr style=\"text-align: right;\">\n",
              "      <th></th>\n",
              "      <th>en</th>\n",
              "    </tr>\n",
              "  </thead>\n",
              "  <tbody>\n",
              "    <tr>\n",
              "      <th>0</th>\n",
              "      <td>While Procurement is negotiating the contract ...</td>\n",
              "    </tr>\n",
              "    <tr>\n",
              "      <th>1</th>\n",
              "      <td>To assist staff, faculty, and students in meet...</td>\n",
              "    </tr>\n",
              "    <tr>\n",
              "      <th>3</th>\n",
              "      <td>When receiving an exception for the purchase o...</td>\n",
              "    </tr>\n",
              "    <tr>\n",
              "      <th>4</th>\n",
              "      <td>All University Websites must include or link t...</td>\n",
              "    </tr>\n",
              "    <tr>\n",
              "      <th>5</th>\n",
              "      <td>User testing</td>\n",
              "    </tr>\n",
              "    <tr>\n",
              "      <th>...</th>\n",
              "      <td>...</td>\n",
              "    </tr>\n",
              "    <tr>\n",
              "      <th>57</th>\n",
              "      <td>1. Overview</td>\n",
              "    </tr>\n",
              "    <tr>\n",
              "      <th>58</th>\n",
              "      <td>Automatic scanning</td>\n",
              "    </tr>\n",
              "    <tr>\n",
              "      <th>59</th>\n",
              "      <td>If a Site Owner receives a complaint directly,...</td>\n",
              "    </tr>\n",
              "    <tr>\n",
              "      <th>60</th>\n",
              "      <td>When evaluating proposals submitted by Supplie...</td>\n",
              "    </tr>\n",
              "    <tr>\n",
              "      <th>61</th>\n",
              "      <td>Upon receiving a report of an accessibility is...</td>\n",
              "    </tr>\n",
              "  </tbody>\n",
              "</table>\n",
              "<p>61 rows × 1 columns</p>\n",
              "</div>\n",
              "      <button class=\"colab-df-convert\" onclick=\"convertToInteractive('df-d24832d6-6ad6-4408-9581-617112af4ba3')\"\n",
              "              title=\"Convert this dataframe to an interactive table.\"\n",
              "              style=\"display:none;\">\n",
              "        \n",
              "  <svg xmlns=\"http://www.w3.org/2000/svg\" height=\"24px\"viewBox=\"0 0 24 24\"\n",
              "       width=\"24px\">\n",
              "    <path d=\"M0 0h24v24H0V0z\" fill=\"none\"/>\n",
              "    <path d=\"M18.56 5.44l.94 2.06.94-2.06 2.06-.94-2.06-.94-.94-2.06-.94 2.06-2.06.94zm-11 1L8.5 8.5l.94-2.06 2.06-.94-2.06-.94L8.5 2.5l-.94 2.06-2.06.94zm10 10l.94 2.06.94-2.06 2.06-.94-2.06-.94-.94-2.06-.94 2.06-2.06.94z\"/><path d=\"M17.41 7.96l-1.37-1.37c-.4-.4-.92-.59-1.43-.59-.52 0-1.04.2-1.43.59L10.3 9.45l-7.72 7.72c-.78.78-.78 2.05 0 2.83L4 21.41c.39.39.9.59 1.41.59.51 0 1.02-.2 1.41-.59l7.78-7.78 2.81-2.81c.8-.78.8-2.07 0-2.86zM5.41 20L4 18.59l7.72-7.72 1.47 1.35L5.41 20z\"/>\n",
              "  </svg>\n",
              "      </button>\n",
              "      \n",
              "  <style>\n",
              "    .colab-df-container {\n",
              "      display:flex;\n",
              "      flex-wrap:wrap;\n",
              "      gap: 12px;\n",
              "    }\n",
              "\n",
              "    .colab-df-convert {\n",
              "      background-color: #E8F0FE;\n",
              "      border: none;\n",
              "      border-radius: 50%;\n",
              "      cursor: pointer;\n",
              "      display: none;\n",
              "      fill: #1967D2;\n",
              "      height: 32px;\n",
              "      padding: 0 0 0 0;\n",
              "      width: 32px;\n",
              "    }\n",
              "\n",
              "    .colab-df-convert:hover {\n",
              "      background-color: #E2EBFA;\n",
              "      box-shadow: 0px 1px 2px rgba(60, 64, 67, 0.3), 0px 1px 3px 1px rgba(60, 64, 67, 0.15);\n",
              "      fill: #174EA6;\n",
              "    }\n",
              "\n",
              "    [theme=dark] .colab-df-convert {\n",
              "      background-color: #3B4455;\n",
              "      fill: #D2E3FC;\n",
              "    }\n",
              "\n",
              "    [theme=dark] .colab-df-convert:hover {\n",
              "      background-color: #434B5C;\n",
              "      box-shadow: 0px 1px 3px 1px rgba(0, 0, 0, 0.15);\n",
              "      filter: drop-shadow(0px 1px 2px rgba(0, 0, 0, 0.3));\n",
              "      fill: #FFFFFF;\n",
              "    }\n",
              "  </style>\n",
              "\n",
              "      <script>\n",
              "        const buttonEl =\n",
              "          document.querySelector('#df-d24832d6-6ad6-4408-9581-617112af4ba3 button.colab-df-convert');\n",
              "        buttonEl.style.display =\n",
              "          google.colab.kernel.accessAllowed ? 'block' : 'none';\n",
              "\n",
              "        async function convertToInteractive(key) {\n",
              "          const element = document.querySelector('#df-d24832d6-6ad6-4408-9581-617112af4ba3');\n",
              "          const dataTable =\n",
              "            await google.colab.kernel.invokeFunction('convertToInteractive',\n",
              "                                                     [key], {});\n",
              "          if (!dataTable) return;\n",
              "\n",
              "          const docLinkHtml = 'Like what you see? Visit the ' +\n",
              "            '<a target=\"_blank\" href=https://colab.research.google.com/notebooks/data_table.ipynb>data table notebook</a>'\n",
              "            + ' to learn more about interactive tables.';\n",
              "          element.innerHTML = '';\n",
              "          dataTable['output_type'] = 'display_data';\n",
              "          await google.colab.output.renderOutput(dataTable, element);\n",
              "          const docLink = document.createElement('div');\n",
              "          docLink.innerHTML = docLinkHtml;\n",
              "          element.appendChild(docLink);\n",
              "        }\n",
              "      </script>\n",
              "    </div>\n",
              "  </div>\n",
              "  "
            ]
          },
          "metadata": {},
          "execution_count": 150
        }
      ]
    },
    {
      "cell_type": "code",
      "source": [
        "# googletrans API\n",
        "translator = Translator()\n",
        "german_translations = []\n",
        "for text in df['en']:\n",
        "    trans = translator.translate(text, dest='de')\n",
        "    if trans != None:\n",
        "      translated_sentence = trans.text\n",
        "      german_translations.append(translated_sentence)\n",
        "    else:\n",
        "      german_translations.append(\"\")\n",
        "df['de'] = german_translations"
      ],
      "metadata": {
        "id": "ichPbC1gmief"
      },
      "execution_count": null,
      "outputs": []
    },
    {
      "cell_type": "code",
      "source": [
        "# # goslate API\n",
        "# gs = goslate.Goslate()\n",
        "# german = []\n",
        "# for text in df['en']:\n",
        "#     trans = gs.translate(text, 'de')\n",
        "#     if trans != None:\n",
        "#       german.append(trans)\n",
        "#     else:\n",
        "#       german.append(\"\")\n",
        "# df['de_goslate'] = german"
      ],
      "metadata": {
        "id": "rQND3bF8se5I"
      },
      "execution_count": null,
      "outputs": []
    },
    {
      "cell_type": "code",
      "source": [
        "df"
      ],
      "metadata": {
        "colab": {
          "base_uri": "https://localhost:8080/",
          "height": 424
        },
        "id": "fiTeDvNCnwl-",
        "outputId": "1ec7712b-210b-4cf9-d2dc-c6cfb776d727"
      },
      "execution_count": null,
      "outputs": [
        {
          "output_type": "execute_result",
          "data": {
            "text/plain": [
              "                                                   en  \\\n",
              "0   While Procurement is negotiating the contract ...   \n",
              "1   To assist staff, faculty, and students in meet...   \n",
              "3   When receiving an exception for the purchase o...   \n",
              "4   All University Websites must include or link t...   \n",
              "5                                        User testing   \n",
              "..                                                ...   \n",
              "57                                        1. Overview   \n",
              "58                                 Automatic scanning   \n",
              "59  If a Site Owner receives a complaint directly,...   \n",
              "60  When evaluating proposals submitted by Supplie...   \n",
              "61  Upon receiving a report of an accessibility is...   \n",
              "\n",
              "                                                   de  \n",
              "0   Während die Beschaffung über den Vertrag mit d...  \n",
              "1   Um Mitarbeitern, Fakultäten und Studenten bei ...  \n",
              "3   Wenn Sie eine Ausnahme für den Kauf eines Prod...  \n",
              "4   Alle Universitätswebsites müssen eine Seite mi...  \n",
              "5                                       Benutzertests  \n",
              "..                                                ...  \n",
              "57                                       1. Übersicht  \n",
              "58                              Automatisches Scannen  \n",
              "59  Wenn ein Site -Eigentümer eine Beschwerde dire...  \n",
              "60  Wenden Sie bei der Bewertung von Vorschlägen, ...  \n",
              "61  Nach Erhalt eines Berichts über eine Zugänglic...  \n",
              "\n",
              "[61 rows x 2 columns]"
            ],
            "text/html": [
              "\n",
              "  <div id=\"df-e2891fb4-bbb4-4b36-9669-f100db0487d7\">\n",
              "    <div class=\"colab-df-container\">\n",
              "      <div>\n",
              "<style scoped>\n",
              "    .dataframe tbody tr th:only-of-type {\n",
              "        vertical-align: middle;\n",
              "    }\n",
              "\n",
              "    .dataframe tbody tr th {\n",
              "        vertical-align: top;\n",
              "    }\n",
              "\n",
              "    .dataframe thead th {\n",
              "        text-align: right;\n",
              "    }\n",
              "</style>\n",
              "<table border=\"1\" class=\"dataframe\">\n",
              "  <thead>\n",
              "    <tr style=\"text-align: right;\">\n",
              "      <th></th>\n",
              "      <th>en</th>\n",
              "      <th>de</th>\n",
              "    </tr>\n",
              "  </thead>\n",
              "  <tbody>\n",
              "    <tr>\n",
              "      <th>0</th>\n",
              "      <td>While Procurement is negotiating the contract ...</td>\n",
              "      <td>Während die Beschaffung über den Vertrag mit d...</td>\n",
              "    </tr>\n",
              "    <tr>\n",
              "      <th>1</th>\n",
              "      <td>To assist staff, faculty, and students in meet...</td>\n",
              "      <td>Um Mitarbeitern, Fakultäten und Studenten bei ...</td>\n",
              "    </tr>\n",
              "    <tr>\n",
              "      <th>3</th>\n",
              "      <td>When receiving an exception for the purchase o...</td>\n",
              "      <td>Wenn Sie eine Ausnahme für den Kauf eines Prod...</td>\n",
              "    </tr>\n",
              "    <tr>\n",
              "      <th>4</th>\n",
              "      <td>All University Websites must include or link t...</td>\n",
              "      <td>Alle Universitätswebsites müssen eine Seite mi...</td>\n",
              "    </tr>\n",
              "    <tr>\n",
              "      <th>5</th>\n",
              "      <td>User testing</td>\n",
              "      <td>Benutzertests</td>\n",
              "    </tr>\n",
              "    <tr>\n",
              "      <th>...</th>\n",
              "      <td>...</td>\n",
              "      <td>...</td>\n",
              "    </tr>\n",
              "    <tr>\n",
              "      <th>57</th>\n",
              "      <td>1. Overview</td>\n",
              "      <td>1. Übersicht</td>\n",
              "    </tr>\n",
              "    <tr>\n",
              "      <th>58</th>\n",
              "      <td>Automatic scanning</td>\n",
              "      <td>Automatisches Scannen</td>\n",
              "    </tr>\n",
              "    <tr>\n",
              "      <th>59</th>\n",
              "      <td>If a Site Owner receives a complaint directly,...</td>\n",
              "      <td>Wenn ein Site -Eigentümer eine Beschwerde dire...</td>\n",
              "    </tr>\n",
              "    <tr>\n",
              "      <th>60</th>\n",
              "      <td>When evaluating proposals submitted by Supplie...</td>\n",
              "      <td>Wenden Sie bei der Bewertung von Vorschlägen, ...</td>\n",
              "    </tr>\n",
              "    <tr>\n",
              "      <th>61</th>\n",
              "      <td>Upon receiving a report of an accessibility is...</td>\n",
              "      <td>Nach Erhalt eines Berichts über eine Zugänglic...</td>\n",
              "    </tr>\n",
              "  </tbody>\n",
              "</table>\n",
              "<p>61 rows × 2 columns</p>\n",
              "</div>\n",
              "      <button class=\"colab-df-convert\" onclick=\"convertToInteractive('df-e2891fb4-bbb4-4b36-9669-f100db0487d7')\"\n",
              "              title=\"Convert this dataframe to an interactive table.\"\n",
              "              style=\"display:none;\">\n",
              "        \n",
              "  <svg xmlns=\"http://www.w3.org/2000/svg\" height=\"24px\"viewBox=\"0 0 24 24\"\n",
              "       width=\"24px\">\n",
              "    <path d=\"M0 0h24v24H0V0z\" fill=\"none\"/>\n",
              "    <path d=\"M18.56 5.44l.94 2.06.94-2.06 2.06-.94-2.06-.94-.94-2.06-.94 2.06-2.06.94zm-11 1L8.5 8.5l.94-2.06 2.06-.94-2.06-.94L8.5 2.5l-.94 2.06-2.06.94zm10 10l.94 2.06.94-2.06 2.06-.94-2.06-.94-.94-2.06-.94 2.06-2.06.94z\"/><path d=\"M17.41 7.96l-1.37-1.37c-.4-.4-.92-.59-1.43-.59-.52 0-1.04.2-1.43.59L10.3 9.45l-7.72 7.72c-.78.78-.78 2.05 0 2.83L4 21.41c.39.39.9.59 1.41.59.51 0 1.02-.2 1.41-.59l7.78-7.78 2.81-2.81c.8-.78.8-2.07 0-2.86zM5.41 20L4 18.59l7.72-7.72 1.47 1.35L5.41 20z\"/>\n",
              "  </svg>\n",
              "      </button>\n",
              "      \n",
              "  <style>\n",
              "    .colab-df-container {\n",
              "      display:flex;\n",
              "      flex-wrap:wrap;\n",
              "      gap: 12px;\n",
              "    }\n",
              "\n",
              "    .colab-df-convert {\n",
              "      background-color: #E8F0FE;\n",
              "      border: none;\n",
              "      border-radius: 50%;\n",
              "      cursor: pointer;\n",
              "      display: none;\n",
              "      fill: #1967D2;\n",
              "      height: 32px;\n",
              "      padding: 0 0 0 0;\n",
              "      width: 32px;\n",
              "    }\n",
              "\n",
              "    .colab-df-convert:hover {\n",
              "      background-color: #E2EBFA;\n",
              "      box-shadow: 0px 1px 2px rgba(60, 64, 67, 0.3), 0px 1px 3px 1px rgba(60, 64, 67, 0.15);\n",
              "      fill: #174EA6;\n",
              "    }\n",
              "\n",
              "    [theme=dark] .colab-df-convert {\n",
              "      background-color: #3B4455;\n",
              "      fill: #D2E3FC;\n",
              "    }\n",
              "\n",
              "    [theme=dark] .colab-df-convert:hover {\n",
              "      background-color: #434B5C;\n",
              "      box-shadow: 0px 1px 3px 1px rgba(0, 0, 0, 0.15);\n",
              "      filter: drop-shadow(0px 1px 2px rgba(0, 0, 0, 0.3));\n",
              "      fill: #FFFFFF;\n",
              "    }\n",
              "  </style>\n",
              "\n",
              "      <script>\n",
              "        const buttonEl =\n",
              "          document.querySelector('#df-e2891fb4-bbb4-4b36-9669-f100db0487d7 button.colab-df-convert');\n",
              "        buttonEl.style.display =\n",
              "          google.colab.kernel.accessAllowed ? 'block' : 'none';\n",
              "\n",
              "        async function convertToInteractive(key) {\n",
              "          const element = document.querySelector('#df-e2891fb4-bbb4-4b36-9669-f100db0487d7');\n",
              "          const dataTable =\n",
              "            await google.colab.kernel.invokeFunction('convertToInteractive',\n",
              "                                                     [key], {});\n",
              "          if (!dataTable) return;\n",
              "\n",
              "          const docLinkHtml = 'Like what you see? Visit the ' +\n",
              "            '<a target=\"_blank\" href=https://colab.research.google.com/notebooks/data_table.ipynb>data table notebook</a>'\n",
              "            + ' to learn more about interactive tables.';\n",
              "          element.innerHTML = '';\n",
              "          dataTable['output_type'] = 'display_data';\n",
              "          await google.colab.output.renderOutput(dataTable, element);\n",
              "          const docLink = document.createElement('div');\n",
              "          docLink.innerHTML = docLinkHtml;\n",
              "          element.appendChild(docLink);\n",
              "        }\n",
              "      </script>\n",
              "    </div>\n",
              "  </div>\n",
              "  "
            ]
          },
          "metadata": {},
          "execution_count": 153
        }
      ]
    },
    {
      "cell_type": "code",
      "source": [
        "# import csv\n",
        "\n",
        "# with open(\"/content/drive/MyDrive/dataset.tsv\", \"a\", newline=\"\", encoding=\"utf-8\") as tsvfile:\n",
        "#     writer = csv.writer(tsvfile, delimiter=\"\\t\")\n",
        "    \n",
        "#     for index, row in df.iterrows():\n",
        "#         writer.writerow([row['en'], row['de']])"
      ],
      "metadata": {
        "id": "XLPqrzUcys6s"
      },
      "execution_count": null,
      "outputs": []
    }
  ]
}